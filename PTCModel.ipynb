{
  "nbformat": 4,
  "nbformat_minor": 0,
  "metadata": {
    "colab": {
      "provenance": []
    },
    "kernelspec": {
      "name": "python3",
      "display_name": "Python 3"
    }
  },
  "cells": [
    {
      "cell_type": "code",
      "metadata": {
        "id": "FexVaTAoDJkZ",
        "outputId": "90d360fa-ad78-4bba-834a-a351ec72b6f7",
        "colab": {
          "base_uri": "https://localhost:8080/",
          "height": 272
        }
      },
      "source": [
        "!pip install tqdm==4.36.1"
      ],
      "execution_count": null,
      "outputs": [
        {
          "output_type": "stream",
          "text": [
            "Collecting tqdm==4.36.1\n",
            "\u001b[?25l  Downloading https://files.pythonhosted.org/packages/e1/c1/bc1dba38b48f4ae3c4428aea669c5e27bd5a7642a74c8348451e0bd8ff86/tqdm-4.36.1-py2.py3-none-any.whl (52kB)\n",
            "\r\u001b[K     |██████▏                         | 10kB 17.0MB/s eta 0:00:01\r\u001b[K     |████████████▍                   | 20kB 2.1MB/s eta 0:00:01\r\u001b[K     |██████████████████▋             | 30kB 3.1MB/s eta 0:00:01\r\u001b[K     |████████████████████████▉       | 40kB 2.1MB/s eta 0:00:01\r\u001b[K     |███████████████████████████████ | 51kB 2.6MB/s eta 0:00:01\r\u001b[K     |████████████████████████████████| 61kB 2.3MB/s \n",
            "\u001b[?25hInstalling collected packages: tqdm\n",
            "  Found existing installation: tqdm 4.28.1\n",
            "    Uninstalling tqdm-4.28.1:\n",
            "      Successfully uninstalled tqdm-4.28.1\n",
            "Successfully installed tqdm-4.36.1\n"
          ],
          "name": "stdout"
        },
        {
          "output_type": "display_data",
          "data": {
            "application/vnd.colab-display-data+json": {
              "pip_warning": {
                "packages": [
                  "tqdm"
                ]
              }
            }
          },
          "metadata": {
            "tags": []
          }
        }
      ]
    },
    {
      "cell_type": "code",
      "metadata": {
        "id": "vQigxYvkans-",
        "outputId": "2ec5e88a-12d2-4aa6-89e5-ed8a84b059f4",
        "colab": {
          "base_uri": "https://localhost:8080/",
          "height": 128
        }
      },
      "source": [
        "!pip install testfixtures"
      ],
      "execution_count": null,
      "outputs": [
        {
          "output_type": "stream",
          "text": [
            "Collecting testfixtures\n",
            "\u001b[?25l  Downloading https://files.pythonhosted.org/packages/19/8b/8d6e7b16b0f8e3433f15d3e034f040076bdfabda58cbb2ab3adb02bdcd2f/testfixtures-6.10.1-py2.py3-none-any.whl (86kB)\n",
            "\r\u001b[K     |███▉                            | 10kB 14.5MB/s eta 0:00:01\r\u001b[K     |███████▋                        | 20kB 2.3MB/s eta 0:00:01\r\u001b[K     |███████████▍                    | 30kB 3.2MB/s eta 0:00:01\r\u001b[K     |███████████████▏                | 40kB 2.1MB/s eta 0:00:01\r\u001b[K     |███████████████████             | 51kB 2.6MB/s eta 0:00:01\r\u001b[K     |██████████████████████▊         | 61kB 3.1MB/s eta 0:00:01\r\u001b[K     |██████████████████████████▌     | 71kB 3.6MB/s eta 0:00:01\r\u001b[K     |██████████████████████████████▎ | 81kB 4.0MB/s eta 0:00:01\r\u001b[K     |████████████████████████████████| 92kB 3.1MB/s \n",
            "\u001b[?25hInstalling collected packages: testfixtures\n",
            "Successfully installed testfixtures-6.10.1\n"
          ],
          "name": "stdout"
        }
      ]
    },
    {
      "cell_type": "code",
      "metadata": {
        "id": "_zgMGF-a9_j9",
        "outputId": "d5c9c048-f757-40f9-e734-eca0ee79a758",
        "colab": {
          "base_uri": "https://localhost:8080/",
          "height": 346
        }
      },
      "source": [
        "!pip install contractions"
      ],
      "execution_count": null,
      "outputs": [
        {
          "output_type": "stream",
          "text": [
            "Collecting contractions\n",
            "  Downloading https://files.pythonhosted.org/packages/5a/6a/7bde208d21b4f7db1b666739dca8826d8fd7af34a14fddfda9b597ab8a45/contractions-0.0.23-py2.py3-none-any.whl\n",
            "Collecting textsearch\n",
            "  Downloading https://files.pythonhosted.org/packages/42/a8/03407021f9555043de5492a2bd7a35c56cc03c2510092b5ec018cae1bbf1/textsearch-0.0.17-py2.py3-none-any.whl\n",
            "Collecting pyahocorasick\n",
            "\u001b[?25l  Downloading https://files.pythonhosted.org/packages/f4/9f/f0d8e8850e12829eea2e778f1c90e3c53a9a799b7f412082a5d21cd19ae1/pyahocorasick-1.4.0.tar.gz (312kB)\n",
            "\u001b[K     |████████████████████████████████| 317kB 4.9MB/s \n",
            "\u001b[?25hCollecting Unidecode\n",
            "\u001b[?25l  Downloading https://files.pythonhosted.org/packages/d0/42/d9edfed04228bacea2d824904cae367ee9efd05e6cce7ceaaedd0b0ad964/Unidecode-1.1.1-py2.py3-none-any.whl (238kB)\n",
            "\u001b[K     |████████████████████████████████| 245kB 51.7MB/s \n",
            "\u001b[?25hBuilding wheels for collected packages: pyahocorasick\n",
            "  Building wheel for pyahocorasick (setup.py) ... \u001b[?25l\u001b[?25hdone\n",
            "  Created wheel for pyahocorasick: filename=pyahocorasick-1.4.0-cp36-cp36m-linux_x86_64.whl size=81705 sha256=d2bea4494607f458d65ede82366c07736f28a0b7394b53fd28f05063c2f4f2fe\n",
            "  Stored in directory: /root/.cache/pip/wheels/0a/90/61/87a55f5b459792fbb2b7ba6b31721b06ff5cf6bde541b40994\n",
            "Successfully built pyahocorasick\n",
            "Installing collected packages: pyahocorasick, Unidecode, textsearch, contractions\n",
            "Successfully installed Unidecode-1.1.1 contractions-0.0.23 pyahocorasick-1.4.0 textsearch-0.0.17\n"
          ],
          "name": "stdout"
        }
      ]
    },
    {
      "cell_type": "code",
      "metadata": {
        "id": "8n_3so7A-Gf5",
        "outputId": "56a89b5e-277d-464b-9ce5-2cd54f38228f",
        "colab": {
          "base_uri": "https://localhost:8080/",
          "height": 72
        }
      },
      "source": [
        "!pip install textsearch"
      ],
      "execution_count": null,
      "outputs": [
        {
          "output_type": "stream",
          "text": [
            "Requirement already satisfied: textsearch in /usr/local/lib/python3.6/dist-packages (0.0.17)\n",
            "Requirement already satisfied: Unidecode in /usr/local/lib/python3.6/dist-packages (from textsearch) (1.1.1)\n",
            "Requirement already satisfied: pyahocorasick in /usr/local/lib/python3.6/dist-packages (from textsearch) (1.4.0)\n"
          ],
          "name": "stdout"
        }
      ]
    },
    {
      "cell_type": "code",
      "metadata": {
        "id": "-qN8HQvbDkjb",
        "outputId": "3bf1e990-cfb0-4838-d0e1-090185bc78af",
        "colab": {
          "resources": {
            "http://localhost:8080/nbextensions/google.colab/files.js": {
              "data": "Ly8gQ29weXJpZ2h0IDIwMTcgR29vZ2xlIExMQwovLwovLyBMaWNlbnNlZCB1bmRlciB0aGUgQXBhY2hlIExpY2Vuc2UsIFZlcnNpb24gMi4wICh0aGUgIkxpY2Vuc2UiKTsKLy8geW91IG1heSBub3QgdXNlIHRoaXMgZmlsZSBleGNlcHQgaW4gY29tcGxpYW5jZSB3aXRoIHRoZSBMaWNlbnNlLgovLyBZb3UgbWF5IG9idGFpbiBhIGNvcHkgb2YgdGhlIExpY2Vuc2UgYXQKLy8KLy8gICAgICBodHRwOi8vd3d3LmFwYWNoZS5vcmcvbGljZW5zZXMvTElDRU5TRS0yLjAKLy8KLy8gVW5sZXNzIHJlcXVpcmVkIGJ5IGFwcGxpY2FibGUgbGF3IG9yIGFncmVlZCB0byBpbiB3cml0aW5nLCBzb2Z0d2FyZQovLyBkaXN0cmlidXRlZCB1bmRlciB0aGUgTGljZW5zZSBpcyBkaXN0cmlidXRlZCBvbiBhbiAiQVMgSVMiIEJBU0lTLAovLyBXSVRIT1VUIFdBUlJBTlRJRVMgT1IgQ09ORElUSU9OUyBPRiBBTlkgS0lORCwgZWl0aGVyIGV4cHJlc3Mgb3IgaW1wbGllZC4KLy8gU2VlIHRoZSBMaWNlbnNlIGZvciB0aGUgc3BlY2lmaWMgbGFuZ3VhZ2UgZ292ZXJuaW5nIHBlcm1pc3Npb25zIGFuZAovLyBsaW1pdGF0aW9ucyB1bmRlciB0aGUgTGljZW5zZS4KCi8qKgogKiBAZmlsZW92ZXJ2aWV3IEhlbHBlcnMgZm9yIGdvb2dsZS5jb2xhYiBQeXRob24gbW9kdWxlLgogKi8KKGZ1bmN0aW9uKHNjb3BlKSB7CmZ1bmN0aW9uIHNwYW4odGV4dCwgc3R5bGVBdHRyaWJ1dGVzID0ge30pIHsKICBjb25zdCBlbGVtZW50ID0gZG9jdW1lbnQuY3JlYXRlRWxlbWVudCgnc3BhbicpOwogIGVsZW1lbnQudGV4dENvbnRlbnQgPSB0ZXh0OwogIGZvciAoY29uc3Qga2V5IG9mIE9iamVjdC5rZXlzKHN0eWxlQXR0cmlidXRlcykpIHsKICAgIGVsZW1lbnQuc3R5bGVba2V5XSA9IHN0eWxlQXR0cmlidXRlc1trZXldOwogIH0KICByZXR1cm4gZWxlbWVudDsKfQoKLy8gTWF4IG51bWJlciBvZiBieXRlcyB3aGljaCB3aWxsIGJlIHVwbG9hZGVkIGF0IGEgdGltZS4KY29uc3QgTUFYX1BBWUxPQURfU0laRSA9IDEwMCAqIDEwMjQ7Ci8vIE1heCBhbW91bnQgb2YgdGltZSB0byBibG9jayB3YWl0aW5nIGZvciB0aGUgdXNlci4KY29uc3QgRklMRV9DSEFOR0VfVElNRU9VVF9NUyA9IDMwICogMTAwMDsKCmZ1bmN0aW9uIF91cGxvYWRGaWxlcyhpbnB1dElkLCBvdXRwdXRJZCkgewogIGNvbnN0IHN0ZXBzID0gdXBsb2FkRmlsZXNTdGVwKGlucHV0SWQsIG91dHB1dElkKTsKICBjb25zdCBvdXRwdXRFbGVtZW50ID0gZG9jdW1lbnQuZ2V0RWxlbWVudEJ5SWQob3V0cHV0SWQpOwogIC8vIENhY2hlIHN0ZXBzIG9uIHRoZSBvdXRwdXRFbGVtZW50IHRvIG1ha2UgaXQgYXZhaWxhYmxlIGZvciB0aGUgbmV4dCBjYWxsCiAgLy8gdG8gdXBsb2FkRmlsZXNDb250aW51ZSBmcm9tIFB5dGhvbi4KICBvdXRwdXRFbGVtZW50LnN0ZXBzID0gc3RlcHM7CgogIHJldHVybiBfdXBsb2FkRmlsZXNDb250aW51ZShvdXRwdXRJZCk7Cn0KCi8vIFRoaXMgaXMgcm91Z2hseSBhbiBhc3luYyBnZW5lcmF0b3IgKG5vdCBzdXBwb3J0ZWQgaW4gdGhlIGJyb3dzZXIgeWV0KSwKLy8gd2hlcmUgdGhlcmUgYXJlIG11bHRpcGxlIGFzeW5jaHJvbm91cyBzdGVwcyBhbmQgdGhlIFB5dGhvbiBzaWRlIGlzIGdvaW5nCi8vIHRvIHBvbGwgZm9yIGNvbXBsZXRpb24gb2YgZWFjaCBzdGVwLgovLyBUaGlzIHVzZXMgYSBQcm9taXNlIHRvIGJsb2NrIHRoZSBweXRob24gc2lkZSBvbiBjb21wbGV0aW9uIG9mIGVhY2ggc3RlcCwKLy8gdGhlbiBwYXNzZXMgdGhlIHJlc3VsdCBvZiB0aGUgcHJldmlvdXMgc3RlcCBhcyB0aGUgaW5wdXQgdG8gdGhlIG5leHQgc3RlcC4KZnVuY3Rpb24gX3VwbG9hZEZpbGVzQ29udGludWUob3V0cHV0SWQpIHsKICBjb25zdCBvdXRwdXRFbGVtZW50ID0gZG9jdW1lbnQuZ2V0RWxlbWVudEJ5SWQob3V0cHV0SWQpOwogIGNvbnN0IHN0ZXBzID0gb3V0cHV0RWxlbWVudC5zdGVwczsKCiAgY29uc3QgbmV4dCA9IHN0ZXBzLm5leHQob3V0cHV0RWxlbWVudC5sYXN0UHJvbWlzZVZhbHVlKTsKICByZXR1cm4gUHJvbWlzZS5yZXNvbHZlKG5leHQudmFsdWUucHJvbWlzZSkudGhlbigodmFsdWUpID0+IHsKICAgIC8vIENhY2hlIHRoZSBsYXN0IHByb21pc2UgdmFsdWUgdG8gbWFrZSBpdCBhdmFpbGFibGUgdG8gdGhlIG5leHQKICAgIC8vIHN0ZXAgb2YgdGhlIGdlbmVyYXRvci4KICAgIG91dHB1dEVsZW1lbnQubGFzdFByb21pc2VWYWx1ZSA9IHZhbHVlOwogICAgcmV0dXJuIG5leHQudmFsdWUucmVzcG9uc2U7CiAgfSk7Cn0KCi8qKgogKiBHZW5lcmF0b3IgZnVuY3Rpb24gd2hpY2ggaXMgY2FsbGVkIGJldHdlZW4gZWFjaCBhc3luYyBzdGVwIG9mIHRoZSB1cGxvYWQKICogcHJvY2Vzcy4KICogQHBhcmFtIHtzdHJpbmd9IGlucHV0SWQgRWxlbWVudCBJRCBvZiB0aGUgaW5wdXQgZmlsZSBwaWNrZXIgZWxlbWVudC4KICogQHBhcmFtIHtzdHJpbmd9IG91dHB1dElkIEVsZW1lbnQgSUQgb2YgdGhlIG91dHB1dCBkaXNwbGF5LgogKiBAcmV0dXJuIHshSXRlcmFibGU8IU9iamVjdD59IEl0ZXJhYmxlIG9mIG5leHQgc3RlcHMuCiAqLwpmdW5jdGlvbiogdXBsb2FkRmlsZXNTdGVwKGlucHV0SWQsIG91dHB1dElkKSB7CiAgY29uc3QgaW5wdXRFbGVtZW50ID0gZG9jdW1lbnQuZ2V0RWxlbWVudEJ5SWQoaW5wdXRJZCk7CiAgaW5wdXRFbGVtZW50LmRpc2FibGVkID0gZmFsc2U7CgogIGNvbnN0IG91dHB1dEVsZW1lbnQgPSBkb2N1bWVudC5nZXRFbGVtZW50QnlJZChvdXRwdXRJZCk7CiAgb3V0cHV0RWxlbWVudC5pbm5lckhUTUwgPSAnJzsKCiAgY29uc3QgcGlja2VkUHJvbWlzZSA9IG5ldyBQcm9taXNlKChyZXNvbHZlKSA9PiB7CiAgICBpbnB1dEVsZW1lbnQuYWRkRXZlbnRMaXN0ZW5lcignY2hhbmdlJywgKGUpID0+IHsKICAgICAgcmVzb2x2ZShlLnRhcmdldC5maWxlcyk7CiAgICB9KTsKICB9KTsKCiAgY29uc3QgY2FuY2VsID0gZG9jdW1lbnQuY3JlYXRlRWxlbWVudCgnYnV0dG9uJyk7CiAgaW5wdXRFbGVtZW50LnBhcmVudEVsZW1lbnQuYXBwZW5kQ2hpbGQoY2FuY2VsKTsKICBjYW5jZWwudGV4dENvbnRlbnQgPSAnQ2FuY2VsIHVwbG9hZCc7CiAgY29uc3QgY2FuY2VsUHJvbWlzZSA9IG5ldyBQcm9taXNlKChyZXNvbHZlKSA9PiB7CiAgICBjYW5jZWwub25jbGljayA9ICgpID0+IHsKICAgICAgcmVzb2x2ZShudWxsKTsKICAgIH07CiAgfSk7CgogIC8vIENhbmNlbCB1cGxvYWQgaWYgdXNlciBoYXNuJ3QgcGlja2VkIGFueXRoaW5nIGluIHRpbWVvdXQuCiAgY29uc3QgdGltZW91dFByb21pc2UgPSBuZXcgUHJvbWlzZSgocmVzb2x2ZSkgPT4gewogICAgc2V0VGltZW91dCgoKSA9PiB7CiAgICAgIHJlc29sdmUobnVsbCk7CiAgICB9LCBGSUxFX0NIQU5HRV9USU1FT1VUX01TKTsKICB9KTsKCiAgLy8gV2FpdCBmb3IgdGhlIHVzZXIgdG8gcGljayB0aGUgZmlsZXMuCiAgY29uc3QgZmlsZXMgPSB5aWVsZCB7CiAgICBwcm9taXNlOiBQcm9taXNlLnJhY2UoW3BpY2tlZFByb21pc2UsIHRpbWVvdXRQcm9taXNlLCBjYW5jZWxQcm9taXNlXSksCiAgICByZXNwb25zZTogewogICAgICBhY3Rpb246ICdzdGFydGluZycsCiAgICB9CiAgfTsKCiAgaWYgKCFmaWxlcykgewogICAgcmV0dXJuIHsKICAgICAgcmVzcG9uc2U6IHsKICAgICAgICBhY3Rpb246ICdjb21wbGV0ZScsCiAgICAgIH0KICAgIH07CiAgfQoKICBjYW5jZWwucmVtb3ZlKCk7CgogIC8vIERpc2FibGUgdGhlIGlucHV0IGVsZW1lbnQgc2luY2UgZnVydGhlciBwaWNrcyBhcmUgbm90IGFsbG93ZWQuCiAgaW5wdXRFbGVtZW50LmRpc2FibGVkID0gdHJ1ZTsKCiAgZm9yIChjb25zdCBmaWxlIG9mIGZpbGVzKSB7CiAgICBjb25zdCBsaSA9IGRvY3VtZW50LmNyZWF0ZUVsZW1lbnQoJ2xpJyk7CiAgICBsaS5hcHBlbmQoc3BhbihmaWxlLm5hbWUsIHtmb250V2VpZ2h0OiAnYm9sZCd9KSk7CiAgICBsaS5hcHBlbmQoc3BhbigKICAgICAgICBgKCR7ZmlsZS50eXBlIHx8ICduL2EnfSkgLSAke2ZpbGUuc2l6ZX0gYnl0ZXMsIGAgKwogICAgICAgIGBsYXN0IG1vZGlmaWVkOiAkewogICAgICAgICAgICBmaWxlLmxhc3RNb2RpZmllZERhdGUgPyBmaWxlLmxhc3RNb2RpZmllZERhdGUudG9Mb2NhbGVEYXRlU3RyaW5nKCkgOgogICAgICAgICAgICAgICAgICAgICAgICAgICAgICAgICAgICAnbi9hJ30gLSBgKSk7CiAgICBjb25zdCBwZXJjZW50ID0gc3BhbignMCUgZG9uZScpOwogICAgbGkuYXBwZW5kQ2hpbGQocGVyY2VudCk7CgogICAgb3V0cHV0RWxlbWVudC5hcHBlbmRDaGlsZChsaSk7CgogICAgY29uc3QgZmlsZURhdGFQcm9taXNlID0gbmV3IFByb21pc2UoKHJlc29sdmUpID0+IHsKICAgICAgY29uc3QgcmVhZGVyID0gbmV3IEZpbGVSZWFkZXIoKTsKICAgICAgcmVhZGVyLm9ubG9hZCA9IChlKSA9PiB7CiAgICAgICAgcmVzb2x2ZShlLnRhcmdldC5yZXN1bHQpOwogICAgICB9OwogICAgICByZWFkZXIucmVhZEFzQXJyYXlCdWZmZXIoZmlsZSk7CiAgICB9KTsKICAgIC8vIFdhaXQgZm9yIHRoZSBkYXRhIHRvIGJlIHJlYWR5LgogICAgbGV0IGZpbGVEYXRhID0geWllbGQgewogICAgICBwcm9taXNlOiBmaWxlRGF0YVByb21pc2UsCiAgICAgIHJlc3BvbnNlOiB7CiAgICAgICAgYWN0aW9uOiAnY29udGludWUnLAogICAgICB9CiAgICB9OwoKICAgIC8vIFVzZSBhIGNodW5rZWQgc2VuZGluZyB0byBhdm9pZCBtZXNzYWdlIHNpemUgbGltaXRzLiBTZWUgYi82MjExNTY2MC4KICAgIGxldCBwb3NpdGlvbiA9IDA7CiAgICB3aGlsZSAocG9zaXRpb24gPCBmaWxlRGF0YS5ieXRlTGVuZ3RoKSB7CiAgICAgIGNvbnN0IGxlbmd0aCA9IE1hdGgubWluKGZpbGVEYXRhLmJ5dGVMZW5ndGggLSBwb3NpdGlvbiwgTUFYX1BBWUxPQURfU0laRSk7CiAgICAgIGNvbnN0IGNodW5rID0gbmV3IFVpbnQ4QXJyYXkoZmlsZURhdGEsIHBvc2l0aW9uLCBsZW5ndGgpOwogICAgICBwb3NpdGlvbiArPSBsZW5ndGg7CgogICAgICBjb25zdCBiYXNlNjQgPSBidG9hKFN0cmluZy5mcm9tQ2hhckNvZGUuYXBwbHkobnVsbCwgY2h1bmspKTsKICAgICAgeWllbGQgewogICAgICAgIHJlc3BvbnNlOiB7CiAgICAgICAgICBhY3Rpb246ICdhcHBlbmQnLAogICAgICAgICAgZmlsZTogZmlsZS5uYW1lLAogICAgICAgICAgZGF0YTogYmFzZTY0LAogICAgICAgIH0sCiAgICAgIH07CiAgICAgIHBlcmNlbnQudGV4dENvbnRlbnQgPQogICAgICAgICAgYCR7TWF0aC5yb3VuZCgocG9zaXRpb24gLyBmaWxlRGF0YS5ieXRlTGVuZ3RoKSAqIDEwMCl9JSBkb25lYDsKICAgIH0KICB9CgogIC8vIEFsbCBkb25lLgogIHlpZWxkIHsKICAgIHJlc3BvbnNlOiB7CiAgICAgIGFjdGlvbjogJ2NvbXBsZXRlJywKICAgIH0KICB9Owp9CgpzY29wZS5nb29nbGUgPSBzY29wZS5nb29nbGUgfHwge307CnNjb3BlLmdvb2dsZS5jb2xhYiA9IHNjb3BlLmdvb2dsZS5jb2xhYiB8fCB7fTsKc2NvcGUuZ29vZ2xlLmNvbGFiLl9maWxlcyA9IHsKICBfdXBsb2FkRmlsZXMsCiAgX3VwbG9hZEZpbGVzQ29udGludWUsCn07Cn0pKHNlbGYpOwo=",
              "ok": true,
              "headers": [
                [
                  "content-type",
                  "application/javascript"
                ]
              ],
              "status": 200,
              "status_text": ""
            }
          },
          "base_uri": "https://localhost:8080/",
          "height": 75
        }
      },
      "source": [
        "from google.colab import files\n",
        "uploaded = files.upload()"
      ],
      "execution_count": null,
      "outputs": [
        {
          "output_type": "display_data",
          "data": {
            "text/html": [
              "\n",
              "     <input type=\"file\" id=\"files-e8cbef70-f8c5-4f23-9169-5df99f72bd6f\" name=\"files[]\" multiple disabled />\n",
              "     <output id=\"result-e8cbef70-f8c5-4f23-9169-5df99f72bd6f\">\n",
              "      Upload widget is only available when the cell has been executed in the\n",
              "      current browser session. Please rerun this cell to enable.\n",
              "      </output>\n",
              "      <script src=\"/nbextensions/google.colab/files.js\"></script> "
            ],
            "text/plain": [
              "<IPython.core.display.HTML object>"
            ]
          },
          "metadata": {
            "tags": []
          }
        },
        {
          "output_type": "stream",
          "text": [
            "Saving essays.csv to essays.csv\n"
          ],
          "name": "stdout"
        }
      ]
    },
    {
      "cell_type": "code",
      "metadata": {
        "id": "9dkkJo7RD1Yr"
      },
      "source": [
        "import pandas as pd\n",
        "import numpy as np\n",
        "from tqdm import tqdm\n",
        "tqdm.pandas(desc=\"progress-bar\")\n",
        "from gensim.models import Doc2Vec\n",
        "from sklearn import utils\n",
        "from sklearn.model_selection import train_test_split\n",
        "import gensim\n",
        "from sklearn.linear_model import LogisticRegression, SGDClassifier, PassiveAggressiveClassifier, RidgeClassifier, LogisticRegressionCV\n",
        "from sklearn.ensemble import VotingClassifier\n",
        "from sklearn.svm import SVC\n",
        "from sklearn.metrics import accuracy_score, f1_score\n",
        "from gensim.models.doc2vec import TaggedDocument\n",
        "from gensim.test.test_doc2vec import ConcatenatedDoc2Vec\n",
        "import xgboost as xgb\n",
        "import re\n",
        "import unicodedata\n",
        "import seaborn as sns\n",
        "import matplotlib.pyplot as plt\n",
        "from bs4 import BeautifulSoup\n",
        "import contractions\n",
        "import string\n",
        "import nltk\n",
        "from nltk.corpus import stopwords\n",
        "from nltk.tokenize import RegexpTokenizer\n",
        "from nltk.stem import WordNetLemmatizer\n",
        "import multiprocessing"
      ],
      "execution_count": null,
      "outputs": []
    },
    {
      "cell_type": "code",
      "metadata": {
        "id": "eetwVgxlOXzJ",
        "outputId": "84d8872e-c578-46b6-8ae9-85c2382b0edc",
        "colab": {
          "base_uri": "https://localhost:8080/",
          "height": 72
        }
      },
      "source": [
        "nltk.download('punkt')"
      ],
      "execution_count": null,
      "outputs": [
        {
          "output_type": "stream",
          "text": [
            "[nltk_data] Downloading package punkt to /root/nltk_data...\n",
            "[nltk_data]   Unzipping tokenizers/punkt.zip.\n"
          ],
          "name": "stdout"
        },
        {
          "output_type": "execute_result",
          "data": {
            "text/plain": [
              "True"
            ]
          },
          "metadata": {
            "tags": []
          },
          "execution_count": 6
        }
      ]
    },
    {
      "cell_type": "code",
      "metadata": {
        "id": "IJ5UUV9cIOd6",
        "outputId": "df5f3e5c-f94a-4a2a-c94c-40b6f4db6de0",
        "colab": {
          "base_uri": "https://localhost:8080/",
          "height": 72
        }
      },
      "source": [
        "nltk.download('stopwords')"
      ],
      "execution_count": null,
      "outputs": [
        {
          "output_type": "stream",
          "text": [
            "[nltk_data] Downloading package stopwords to /root/nltk_data...\n",
            "[nltk_data]   Unzipping corpora/stopwords.zip.\n"
          ],
          "name": "stdout"
        },
        {
          "output_type": "execute_result",
          "data": {
            "text/plain": [
              "True"
            ]
          },
          "metadata": {
            "tags": []
          },
          "execution_count": 7
        }
      ]
    },
    {
      "cell_type": "code",
      "metadata": {
        "id": "l2tqI_bHRlxf",
        "outputId": "1297544a-a658-41eb-e459-6efdecb0ffb7",
        "colab": {
          "base_uri": "https://localhost:8080/",
          "height": 72
        }
      },
      "source": [
        "nltk.download('wordnet')"
      ],
      "execution_count": null,
      "outputs": [
        {
          "output_type": "stream",
          "text": [
            "[nltk_data] Downloading package wordnet to /root/nltk_data...\n",
            "[nltk_data]   Unzipping corpora/wordnet.zip.\n"
          ],
          "name": "stdout"
        },
        {
          "output_type": "execute_result",
          "data": {
            "text/plain": [
              "True"
            ]
          },
          "metadata": {
            "tags": []
          },
          "execution_count": 8
        }
      ]
    },
    {
      "cell_type": "code",
      "metadata": {
        "id": "zndUCru-Sfy2"
      },
      "source": [
        "cores = multiprocessing.cpu_count()"
      ],
      "execution_count": null,
      "outputs": []
    },
    {
      "cell_type": "code",
      "metadata": {
        "id": "j6_kq6OU6oxf"
      },
      "source": [
        "#Initializing Classifiers\n",
        "\n",
        "xgbc = xgb.XGBClassifier(random_state=1,learning_rate=0.01)\n",
        "logreg = LogisticRegression(n_jobs=1, C=1e5, max_iter=750, solver='lbfgs')\n",
        "lgcv = LogisticRegressionCV(cv=5, random_state=0, multi_class='ovr')\n",
        "sgd = SGDClassifier(max_iter=1000, tol=1e-3, loss='log')\n",
        "pac = PassiveAggressiveClassifier(max_iter=1000, random_state=0,tol=1e-3)\n",
        "rc = RidgeClassifier()\n",
        "svc = SVC(gamma='auto', probability=True)"
      ],
      "execution_count": null,
      "outputs": []
    },
    {
      "cell_type": "code",
      "metadata": {
        "id": "Nyewx_38FOP_"
      },
      "source": [
        "#DATASET LINK --> https://github.com/SenticNet/personality-detection/blob/master/essays.csv\n",
        "df = pd.read_csv('essays.csv')"
      ],
      "execution_count": null,
      "outputs": []
    },
    {
      "cell_type": "markdown",
      "metadata": {
        "id": "1mOZuopR84nG"
      },
      "source": [
        "**Basic Exploratory Data Analysis**"
      ]
    },
    {
      "cell_type": "code",
      "metadata": {
        "id": "QdQRQaJhFV9f",
        "outputId": "a12d2d37-edcb-4213-d8ed-496c0c046c70",
        "colab": {
          "base_uri": "https://localhost:8080/",
          "height": 348
        }
      },
      "source": [
        "df.head(10)"
      ],
      "execution_count": null,
      "outputs": [
        {
          "output_type": "execute_result",
          "data": {
            "text/html": [
              "<div>\n",
              "<style scoped>\n",
              "    .dataframe tbody tr th:only-of-type {\n",
              "        vertical-align: middle;\n",
              "    }\n",
              "\n",
              "    .dataframe tbody tr th {\n",
              "        vertical-align: top;\n",
              "    }\n",
              "\n",
              "    .dataframe thead th {\n",
              "        text-align: right;\n",
              "    }\n",
              "</style>\n",
              "<table border=\"1\" class=\"dataframe\">\n",
              "  <thead>\n",
              "    <tr style=\"text-align: right;\">\n",
              "      <th></th>\n",
              "      <th>#AUTHID</th>\n",
              "      <th>TEXT</th>\n",
              "      <th>cEXT</th>\n",
              "      <th>cNEU</th>\n",
              "      <th>cAGR</th>\n",
              "      <th>cCON</th>\n",
              "      <th>cOPN</th>\n",
              "    </tr>\n",
              "  </thead>\n",
              "  <tbody>\n",
              "    <tr>\n",
              "      <th>0</th>\n",
              "      <td>1997504851</td>\n",
              "      <td>Well, right now I just woke up from a mid-day ...</td>\n",
              "      <td>n</td>\n",
              "      <td>y</td>\n",
              "      <td>y</td>\n",
              "      <td>n</td>\n",
              "      <td>y</td>\n",
              "    </tr>\n",
              "    <tr>\n",
              "      <th>1</th>\n",
              "      <td>1997605191</td>\n",
              "      <td>Well, here we go with the stream of consciousn...</td>\n",
              "      <td>n</td>\n",
              "      <td>n</td>\n",
              "      <td>y</td>\n",
              "      <td>n</td>\n",
              "      <td>n</td>\n",
              "    </tr>\n",
              "    <tr>\n",
              "      <th>2</th>\n",
              "      <td>1997687252</td>\n",
              "      <td>An open keyboard and buttons to push. The thin...</td>\n",
              "      <td>n</td>\n",
              "      <td>y</td>\n",
              "      <td>n</td>\n",
              "      <td>y</td>\n",
              "      <td>y</td>\n",
              "    </tr>\n",
              "    <tr>\n",
              "      <th>3</th>\n",
              "      <td>1997568848</td>\n",
              "      <td>I can't believe it!  It's really happening!  M...</td>\n",
              "      <td>y</td>\n",
              "      <td>n</td>\n",
              "      <td>y</td>\n",
              "      <td>y</td>\n",
              "      <td>n</td>\n",
              "    </tr>\n",
              "    <tr>\n",
              "      <th>4</th>\n",
              "      <td>1997688160</td>\n",
              "      <td>Well, here I go with the good old stream of co...</td>\n",
              "      <td>y</td>\n",
              "      <td>n</td>\n",
              "      <td>y</td>\n",
              "      <td>n</td>\n",
              "      <td>y</td>\n",
              "    </tr>\n",
              "    <tr>\n",
              "      <th>5</th>\n",
              "      <td>1997722902</td>\n",
              "      <td>Today. Had to turn the music down. Today I wen...</td>\n",
              "      <td>y</td>\n",
              "      <td>n</td>\n",
              "      <td>y</td>\n",
              "      <td>n</td>\n",
              "      <td>y</td>\n",
              "    </tr>\n",
              "    <tr>\n",
              "      <th>6</th>\n",
              "      <td>1997724708</td>\n",
              "      <td>Stream of consciousness. What should I write a...</td>\n",
              "      <td>n</td>\n",
              "      <td>n</td>\n",
              "      <td>y</td>\n",
              "      <td>n</td>\n",
              "      <td>n</td>\n",
              "    </tr>\n",
              "    <tr>\n",
              "      <th>7</th>\n",
              "      <td>1997724794</td>\n",
              "      <td>The RTF305 Usenet site is a piece of garbage! ...</td>\n",
              "      <td>n</td>\n",
              "      <td>n</td>\n",
              "      <td>n</td>\n",
              "      <td>y</td>\n",
              "      <td>y</td>\n",
              "    </tr>\n",
              "    <tr>\n",
              "      <th>8</th>\n",
              "      <td>1997628043</td>\n",
              "      <td>I'm really unsure about this assignment becaus...</td>\n",
              "      <td>y</td>\n",
              "      <td>y</td>\n",
              "      <td>n</td>\n",
              "      <td>y</td>\n",
              "      <td>y</td>\n",
              "    </tr>\n",
              "    <tr>\n",
              "      <th>9</th>\n",
              "      <td>1997708036</td>\n",
              "      <td>Today was a tough day for me. I can't believed...</td>\n",
              "      <td>y</td>\n",
              "      <td>y</td>\n",
              "      <td>y</td>\n",
              "      <td>y</td>\n",
              "      <td>n</td>\n",
              "    </tr>\n",
              "  </tbody>\n",
              "</table>\n",
              "</div>"
            ],
            "text/plain": [
              "      #AUTHID                                               TEXT  ... cCON cOPN\n",
              "0  1997504851  Well, right now I just woke up from a mid-day ...  ...    n    y\n",
              "1  1997605191  Well, here we go with the stream of consciousn...  ...    n    n\n",
              "2  1997687252  An open keyboard and buttons to push. The thin...  ...    y    y\n",
              "3  1997568848  I can't believe it!  It's really happening!  M...  ...    y    n\n",
              "4  1997688160  Well, here I go with the good old stream of co...  ...    n    y\n",
              "5  1997722902  Today. Had to turn the music down. Today I wen...  ...    n    y\n",
              "6  1997724708  Stream of consciousness. What should I write a...  ...    n    n\n",
              "7  1997724794  The RTF305 Usenet site is a piece of garbage! ...  ...    y    y\n",
              "8  1997628043  I'm really unsure about this assignment becaus...  ...    y    y\n",
              "9  1997708036  Today was a tough day for me. I can't believed...  ...    y    n\n",
              "\n",
              "[10 rows x 7 columns]"
            ]
          },
          "metadata": {
            "tags": []
          },
          "execution_count": 13
        }
      ]
    },
    {
      "cell_type": "code",
      "metadata": {
        "id": "su-SJl-BFXzU",
        "outputId": "7fb6d91b-0ea1-42a3-e252-285c3c9f006e",
        "colab": {
          "base_uri": "https://localhost:8080/",
          "height": 35
        }
      },
      "source": [
        "df.shape"
      ],
      "execution_count": null,
      "outputs": [
        {
          "output_type": "execute_result",
          "data": {
            "text/plain": [
              "(2467, 7)"
            ]
          },
          "metadata": {
            "tags": []
          },
          "execution_count": 14
        }
      ]
    },
    {
      "cell_type": "code",
      "metadata": {
        "id": "gfDq9vEqFoDp",
        "outputId": "1c239f8a-0099-4cfe-8059-cc74a18d0409",
        "colab": {
          "base_uri": "https://localhost:8080/",
          "height": 35
        }
      },
      "source": [
        "df.index = range(2467)\n",
        "df['TEXT'].apply(lambda x: len(x.split(' '))).sum()"
      ],
      "execution_count": null,
      "outputs": [
        {
          "output_type": "execute_result",
          "data": {
            "text/plain": [
              "1634170"
            ]
          },
          "metadata": {
            "tags": []
          },
          "execution_count": 15
        }
      ]
    },
    {
      "cell_type": "markdown",
      "metadata": {
        "id": "V3ZykXdk9BTy"
      },
      "source": [
        "Converting 'n'->0 and 'y'->1\n",
        "\n",
        "\n",
        "\n"
      ]
    },
    {
      "cell_type": "code",
      "metadata": {
        "id": "3b2vZRKbLfou"
      },
      "source": [
        "df['cEXT'] = df['cEXT'].apply(lambda x: 0 if x=='n' else 1)\n",
        "df['cNEU'] = df['cNEU'].apply(lambda x: 0 if x=='n' else 1)\n",
        "df['cAGR'] = df['cAGR'].apply(lambda x: 0 if x=='n' else 1)\n",
        "df['cCON'] = df['cCON'].apply(lambda x: 0 if x=='n' else 1)\n",
        "df['cOPN'] = df['cOPN'].apply(lambda x: 0 if x=='n' else 1)"
      ],
      "execution_count": null,
      "outputs": []
    },
    {
      "cell_type": "code",
      "metadata": {
        "id": "iT9hZC8-C6yV",
        "outputId": "3038781a-cfb5-45b9-aea4-240643122721",
        "colab": {
          "base_uri": "https://localhost:8080/",
          "height": 348
        }
      },
      "source": [
        "df.head(10)"
      ],
      "execution_count": null,
      "outputs": [
        {
          "output_type": "execute_result",
          "data": {
            "text/html": [
              "<div>\n",
              "<style scoped>\n",
              "    .dataframe tbody tr th:only-of-type {\n",
              "        vertical-align: middle;\n",
              "    }\n",
              "\n",
              "    .dataframe tbody tr th {\n",
              "        vertical-align: top;\n",
              "    }\n",
              "\n",
              "    .dataframe thead th {\n",
              "        text-align: right;\n",
              "    }\n",
              "</style>\n",
              "<table border=\"1\" class=\"dataframe\">\n",
              "  <thead>\n",
              "    <tr style=\"text-align: right;\">\n",
              "      <th></th>\n",
              "      <th>#AUTHID</th>\n",
              "      <th>TEXT</th>\n",
              "      <th>cEXT</th>\n",
              "      <th>cNEU</th>\n",
              "      <th>cAGR</th>\n",
              "      <th>cCON</th>\n",
              "      <th>cOPN</th>\n",
              "    </tr>\n",
              "  </thead>\n",
              "  <tbody>\n",
              "    <tr>\n",
              "      <th>0</th>\n",
              "      <td>1997504851</td>\n",
              "      <td>Well, right now I just woke up from a mid-day ...</td>\n",
              "      <td>0</td>\n",
              "      <td>1</td>\n",
              "      <td>1</td>\n",
              "      <td>0</td>\n",
              "      <td>1</td>\n",
              "    </tr>\n",
              "    <tr>\n",
              "      <th>1</th>\n",
              "      <td>1997605191</td>\n",
              "      <td>Well, here we go with the stream of consciousn...</td>\n",
              "      <td>0</td>\n",
              "      <td>0</td>\n",
              "      <td>1</td>\n",
              "      <td>0</td>\n",
              "      <td>0</td>\n",
              "    </tr>\n",
              "    <tr>\n",
              "      <th>2</th>\n",
              "      <td>1997687252</td>\n",
              "      <td>An open keyboard and buttons to push. The thin...</td>\n",
              "      <td>0</td>\n",
              "      <td>1</td>\n",
              "      <td>0</td>\n",
              "      <td>1</td>\n",
              "      <td>1</td>\n",
              "    </tr>\n",
              "    <tr>\n",
              "      <th>3</th>\n",
              "      <td>1997568848</td>\n",
              "      <td>I can't believe it!  It's really happening!  M...</td>\n",
              "      <td>1</td>\n",
              "      <td>0</td>\n",
              "      <td>1</td>\n",
              "      <td>1</td>\n",
              "      <td>0</td>\n",
              "    </tr>\n",
              "    <tr>\n",
              "      <th>4</th>\n",
              "      <td>1997688160</td>\n",
              "      <td>Well, here I go with the good old stream of co...</td>\n",
              "      <td>1</td>\n",
              "      <td>0</td>\n",
              "      <td>1</td>\n",
              "      <td>0</td>\n",
              "      <td>1</td>\n",
              "    </tr>\n",
              "    <tr>\n",
              "      <th>5</th>\n",
              "      <td>1997722902</td>\n",
              "      <td>Today. Had to turn the music down. Today I wen...</td>\n",
              "      <td>1</td>\n",
              "      <td>0</td>\n",
              "      <td>1</td>\n",
              "      <td>0</td>\n",
              "      <td>1</td>\n",
              "    </tr>\n",
              "    <tr>\n",
              "      <th>6</th>\n",
              "      <td>1997724708</td>\n",
              "      <td>Stream of consciousness. What should I write a...</td>\n",
              "      <td>0</td>\n",
              "      <td>0</td>\n",
              "      <td>1</td>\n",
              "      <td>0</td>\n",
              "      <td>0</td>\n",
              "    </tr>\n",
              "    <tr>\n",
              "      <th>7</th>\n",
              "      <td>1997724794</td>\n",
              "      <td>The RTF305 Usenet site is a piece of garbage! ...</td>\n",
              "      <td>0</td>\n",
              "      <td>0</td>\n",
              "      <td>0</td>\n",
              "      <td>1</td>\n",
              "      <td>1</td>\n",
              "    </tr>\n",
              "    <tr>\n",
              "      <th>8</th>\n",
              "      <td>1997628043</td>\n",
              "      <td>I'm really unsure about this assignment becaus...</td>\n",
              "      <td>1</td>\n",
              "      <td>1</td>\n",
              "      <td>0</td>\n",
              "      <td>1</td>\n",
              "      <td>1</td>\n",
              "    </tr>\n",
              "    <tr>\n",
              "      <th>9</th>\n",
              "      <td>1997708036</td>\n",
              "      <td>Today was a tough day for me. I can't believed...</td>\n",
              "      <td>1</td>\n",
              "      <td>1</td>\n",
              "      <td>1</td>\n",
              "      <td>1</td>\n",
              "      <td>0</td>\n",
              "    </tr>\n",
              "  </tbody>\n",
              "</table>\n",
              "</div>"
            ],
            "text/plain": [
              "      #AUTHID                                               TEXT  ...  cCON  cOPN\n",
              "0  1997504851  Well, right now I just woke up from a mid-day ...  ...     0     1\n",
              "1  1997605191  Well, here we go with the stream of consciousn...  ...     0     0\n",
              "2  1997687252  An open keyboard and buttons to push. The thin...  ...     1     1\n",
              "3  1997568848  I can't believe it!  It's really happening!  M...  ...     1     0\n",
              "4  1997688160  Well, here I go with the good old stream of co...  ...     0     1\n",
              "5  1997722902  Today. Had to turn the music down. Today I wen...  ...     0     1\n",
              "6  1997724708  Stream of consciousness. What should I write a...  ...     0     0\n",
              "7  1997724794  The RTF305 Usenet site is a piece of garbage! ...  ...     1     1\n",
              "8  1997628043  I'm really unsure about this assignment becaus...  ...     1     1\n",
              "9  1997708036  Today was a tough day for me. I can't believed...  ...     1     0\n",
              "\n",
              "[10 rows x 7 columns]"
            ]
          },
          "metadata": {
            "tags": []
          },
          "execution_count": 17
        }
      ]
    },
    {
      "cell_type": "code",
      "metadata": {
        "id": "aKFAwj9t-c0i"
      },
      "source": [
        "def replace_contractions(text):\n",
        "    \"\"\"Replace contractions in string of text\"\"\"\n",
        "    return contractions.fix(text)"
      ],
      "execution_count": null,
      "outputs": []
    },
    {
      "cell_type": "code",
      "metadata": {
        "id": "i8Eks2phHNw9"
      },
      "source": [
        "def cleanText(text):\n",
        "    text = BeautifulSoup(text, \"lxml\").text\n",
        "    text = re.sub(r'\\|\\|\\|', r' ', text) \n",
        "    text = re.sub(r'http\\S+', r'<URL>', text)\n",
        "    text = replace_contractions(text)\n",
        "    return text\n",
        "df['TEXT'] = df['TEXT'].apply(cleanText)"
      ],
      "execution_count": null,
      "outputs": []
    },
    {
      "cell_type": "code",
      "metadata": {
        "id": "z_55TgySHbr8"
      },
      "source": [
        "def normalize_text(text):\n",
        "    tokens = []\n",
        "    for sent in nltk.sent_tokenize(text):\n",
        "        for word in nltk.word_tokenize(sent):\n",
        "            if len(word) < 3 or word.isdigit() or word in stopwords.words('english'):\n",
        "                continue\n",
        "            else:\n",
        "                lemmatizer = WordNetLemmatizer()\n",
        "                new_word = unicodedata.normalize('NFKD', word).encode('ascii', 'ignore').decode('utf-8', 'ignore')\n",
        "                lemma = lemmatizer.lemmatize(new_word, pos='v')\n",
        "                tokens.append(lemma.lower())\n",
        "    return tokens"
      ],
      "execution_count": null,
      "outputs": []
    },
    {
      "cell_type": "code",
      "metadata": {
        "id": "EFJwvy1USuFr"
      },
      "source": [
        "train, test = train_test_split(df, test_size=0.2, random_state=42)"
      ],
      "execution_count": null,
      "outputs": []
    },
    {
      "cell_type": "markdown",
      "metadata": {
        "id": "2H9Ph_0SghtB"
      },
      "source": [
        "**We will try and predict the personality trait of Extroversion(cEXT) for the given dataset**"
      ]
    },
    {
      "cell_type": "code",
      "metadata": {
        "id": "N63E-xJoSKf8"
      },
      "source": [
        "# Training and Test Documents for Extroversion\n",
        "train_tagged_ext = train.apply(lambda r: TaggedDocument(words=normalize_text(r['TEXT']), tags=[r.cEXT]), axis=1)\n",
        "test_tagged_ext = test.apply(lambda r: TaggedDocument(words=normalize_text(r['TEXT']), tags=[r.cEXT]), axis=1)"
      ],
      "execution_count": null,
      "outputs": []
    },
    {
      "cell_type": "code",
      "metadata": {
        "id": "8L6iGXOySWlY",
        "outputId": "eaf7cb57-dd24-4102-a1fa-6b6dc92e7803",
        "colab": {
          "base_uri": "https://localhost:8080/",
          "height": 55
        }
      },
      "source": [
        "train_tagged_ext.values[30]"
      ],
      "execution_count": null,
      "outputs": [
        {
          "output_type": "execute_result",
          "data": {
            "text/plain": [
              "TaggedDocument(words=['feel', 'really', 'crappy', 'today', 'get', 'enough', 'sleep', 'last', 'night', 'think', 'part', 'texas', 'loss', 'saturday', 'especially', 'way', 'loss', 'least', 'cowboys', 'last', 'night', 'far', 'home', 'sick', 'might', 'roommate', 'go', 'high', 'school', 'also', 'able', 'talk', 'parent', 'lot', 'instant', 'chat', 'mom', 'wnts', 'get', 'web', 'cam', 'actually', 'see', 'think', 'hard', 'time', 'leave', 'first', 'child', 'leave', 'home', 'network', 'really', 'cool', 'connect', 'rat', 'really', 'fast', 'crummy', 'modem', 'home', 'dad', 'go', 'get', 'dsl', 'live', 'far', 'central', 'office', 'suck', 'really', 'hungry', 'hungry', 'morning', 'halfway', 'class', 'stomach', 'start', 'hurt', 'probably', 'use', 'sleep', 'late', 'eat', 'breakfast', 'min', 'take', 'english', 'year', 'good', 'like', 'write', 'paper', 'much', 'might', 'write', 'paper', 'feel', 'perfectly', 'valid', 'turn', 'wrong', 'yet', 'put', 'much', 'work', 'min', 'milk', 'taste', 'pretty', 'good', 'use', 'home', 'roomate', 'buy', 'full', 'vitamin', 'milk', 'yum', 'hope', 'write', 'length', 'sensation', 'block', 'min', 'time', 'almost', 'might', 'take', 'nap', 'next', 'class', 'another', 'hours', 'class', 'fridays', 'cool', 'min', 'alarm', 'set', 'min', 'would', 'write', 'much', 'time'], tags=[0])"
            ]
          },
          "metadata": {
            "tags": []
          },
          "execution_count": 116
        }
      ]
    },
    {
      "cell_type": "markdown",
      "metadata": {
        "id": "A_9WRZ5ycskZ"
      },
      "source": [
        "**Distributed Bag of Words Model(PV-DBOW) for Doc2Vec**"
      ]
    },
    {
      "cell_type": "code",
      "metadata": {
        "id": "vuX8uVunUmb7",
        "outputId": "d5ae41b7-ad01-414c-d5fe-790939abf585",
        "colab": {
          "base_uri": "https://localhost:8080/",
          "height": 35
        }
      },
      "source": [
        "model_dbow = Doc2Vec(dm=0, vector_size=230, negative=5, hs=1, min_count=2, sample = 0, workers=cores)\n",
        "model_dbow.build_vocab([x for x in tqdm(train_tagged_ext.values)])"
      ],
      "execution_count": null,
      "outputs": [
        {
          "output_type": "stream",
          "text": [
            "100%|██████████| 1973/1973 [00:00<00:00, 349112.46it/s]\n"
          ],
          "name": "stderr"
        }
      ]
    },
    {
      "cell_type": "code",
      "metadata": {
        "id": "oPZswvTZU4j9",
        "outputId": "06b5f388-9261-4f07-fecf-ec2c450479be",
        "colab": {
          "base_uri": "https://localhost:8080/",
          "height": 599
        }
      },
      "source": [
        "%%time\n",
        "for epoch in range(30):\n",
        "    model_dbow.train(utils.shuffle([x for x in tqdm(train_tagged_ext.values)]), total_examples=len(train_tagged_ext.values), epochs=1)\n",
        "    model_dbow.alpha -= 0.02\n",
        "    model_dbow.min_alpha = model_dbow.alpha"
      ],
      "execution_count": null,
      "outputs": [
        {
          "output_type": "stream",
          "text": [
            "100%|██████████| 1973/1973 [00:00<00:00, 832531.37it/s]\n",
            "100%|██████████| 1973/1973 [00:00<00:00, 1470913.93it/s]\n",
            "100%|██████████| 1973/1973 [00:00<00:00, 1496719.44it/s]\n",
            "100%|██████████| 1973/1973 [00:00<00:00, 1436196.08it/s]\n",
            "100%|██████████| 1973/1973 [00:00<00:00, 1955425.75it/s]\n",
            "100%|██████████| 1973/1973 [00:00<00:00, 1860468.03it/s]\n",
            "100%|██████████| 1973/1973 [00:00<00:00, 494139.95it/s]\n",
            "100%|██████████| 1973/1973 [00:00<00:00, 1526537.87it/s]\n",
            "100%|██████████| 1973/1973 [00:00<00:00, 1920037.54it/s]\n",
            "100%|██████████| 1973/1973 [00:00<00:00, 716978.15it/s]\n",
            "100%|██████████| 1973/1973 [00:00<00:00, 1440445.92it/s]\n",
            "100%|██████████| 1973/1973 [00:00<00:00, 524720.17it/s]\n",
            "100%|██████████| 1973/1973 [00:00<00:00, 1475898.30it/s]\n",
            "100%|██████████| 1973/1973 [00:00<00:00, 1357061.63it/s]\n",
            "100%|██████████| 1973/1973 [00:00<00:00, 1481712.05it/s]\n",
            "100%|██████████| 1973/1973 [00:00<00:00, 2016905.14it/s]\n",
            "100%|██████████| 1973/1973 [00:00<00:00, 1740349.48it/s]\n",
            "100%|██████████| 1973/1973 [00:00<00:00, 1870138.26it/s]\n",
            "100%|██████████| 1973/1973 [00:00<00:00, 1440947.55it/s]\n",
            "100%|██████████| 1973/1973 [00:00<00:00, 436234.15it/s]\n",
            "100%|██████████| 1973/1973 [00:00<00:00, 614628.77it/s]\n",
            "100%|██████████| 1973/1973 [00:00<00:00, 870083.25it/s]\n",
            "100%|██████████| 1973/1973 [00:00<00:00, 1203163.97it/s]\n",
            "100%|██████████| 1973/1973 [00:00<00:00, 747548.49it/s]\n",
            "100%|██████████| 1973/1973 [00:00<00:00, 706812.59it/s]\n",
            "100%|██████████| 1973/1973 [00:00<00:00, 708143.23it/s]\n",
            "100%|██████████| 1973/1973 [00:00<00:00, 936868.76it/s]\n",
            "100%|██████████| 1973/1973 [00:00<00:00, 1435199.76it/s]\n",
            "100%|██████████| 1973/1973 [00:00<00:00, 1504337.72it/s]\n",
            "100%|██████████| 1973/1973 [00:00<00:00, 1424575.97it/s]\n"
          ],
          "name": "stderr"
        },
        {
          "output_type": "stream",
          "text": [
            "CPU times: user 1min 13s, sys: 641 ms, total: 1min 14s\n",
            "Wall time: 39.5 s\n"
          ],
          "name": "stdout"
        }
      ]
    },
    {
      "cell_type": "code",
      "metadata": {
        "id": "J21g_y3UYnsE"
      },
      "source": [
        "def vec_for_learning(model, tagged_docs):\n",
        "    sents = tagged_docs.values\n",
        "    targets, regressors = zip(*[(doc.tags[0], model.infer_vector(doc.words, steps=20)) for doc in sents])\n",
        "    return targets, regressors"
      ],
      "execution_count": null,
      "outputs": []
    },
    {
      "cell_type": "code",
      "metadata": {
        "id": "_cjc21OjY6yC"
      },
      "source": [
        "#Creating Train and Test Paragraph Vectors for Distributed Bag of Words Model\n",
        "Y_train_ext, X_train_ext = vec_for_learning(model_dbow, train_tagged_ext)\n",
        "Y_test_ext, X_test_ext = vec_for_learning(model_dbow, test_tagged_ext)"
      ],
      "execution_count": null,
      "outputs": []
    },
    {
      "cell_type": "code",
      "metadata": {
        "id": "hwKGJRzZT5lm",
        "outputId": "6dd5589d-d862-4c75-e377-073ccf02a055",
        "colab": {
          "base_uri": "https://localhost:8080/",
          "height": 110
        }
      },
      "source": [
        "# Results for Logistic Regression \n",
        "\n",
        "logreg.fit(X_train_ext, Y_train_ext)\n",
        "Y_lg_pred_ext = logreg.predict(X_test_ext)\n",
        "print('Testing accuracy while using Logistic Regression %s' % accuracy_score(Y_test_ext, Y_lg_pred_ext))\n",
        "print('Testing F1 score while using Logistic Regression: {}'.format(f1_score(Y_test_ext, Y_lg_pred_ext, average='weighted')))"
      ],
      "execution_count": null,
      "outputs": [
        {
          "output_type": "stream",
          "text": [
            "Testing accuracy while using Logistic Regression 0.5566801619433198\n",
            "Testing F1 score while using Logistic Regression: 0.5571871662466455\n"
          ],
          "name": "stdout"
        },
        {
          "output_type": "stream",
          "text": [
            "/usr/local/lib/python3.6/dist-packages/sklearn/linear_model/logistic.py:947: ConvergenceWarning: lbfgs failed to converge. Increase the number of iterations.\n",
            "  \"of iterations.\", ConvergenceWarning)\n"
          ],
          "name": "stderr"
        }
      ]
    },
    {
      "cell_type": "code",
      "metadata": {
        "id": "FuyUV1M8nEFd",
        "outputId": "5eae37a5-4d19-4fb8-d064-36f5ff73ff65",
        "colab": {
          "base_uri": "https://localhost:8080/",
          "height": 874
        }
      },
      "source": [
        "# Results for Logistic Regression with CV\n",
        "\n",
        "lgcv.fit(X_train_ext, Y_train_ext)\n",
        "Y_lgcv_pred_ext = lgcv.predict(X_test_ext)\n",
        "print('Testing accuracy while using Logistic Regression with CV %s' % accuracy_score(Y_test_ext, Y_lgcv_pred_ext))\n",
        "print('Testing F1 score while using Logistic Regression with CV: {}'.format(f1_score(Y_test_ext, Y_lgcv_pred_ext, average='weighted')))"
      ],
      "execution_count": null,
      "outputs": [
        {
          "output_type": "stream",
          "text": [
            "/usr/local/lib/python3.6/dist-packages/sklearn/linear_model/logistic.py:947: ConvergenceWarning: lbfgs failed to converge. Increase the number of iterations.\n",
            "  \"of iterations.\", ConvergenceWarning)\n",
            "/usr/local/lib/python3.6/dist-packages/sklearn/linear_model/logistic.py:947: ConvergenceWarning: lbfgs failed to converge. Increase the number of iterations.\n",
            "  \"of iterations.\", ConvergenceWarning)\n",
            "/usr/local/lib/python3.6/dist-packages/sklearn/linear_model/logistic.py:947: ConvergenceWarning: lbfgs failed to converge. Increase the number of iterations.\n",
            "  \"of iterations.\", ConvergenceWarning)\n",
            "/usr/local/lib/python3.6/dist-packages/sklearn/linear_model/logistic.py:947: ConvergenceWarning: lbfgs failed to converge. Increase the number of iterations.\n",
            "  \"of iterations.\", ConvergenceWarning)\n",
            "/usr/local/lib/python3.6/dist-packages/sklearn/linear_model/logistic.py:947: ConvergenceWarning: lbfgs failed to converge. Increase the number of iterations.\n",
            "  \"of iterations.\", ConvergenceWarning)\n",
            "/usr/local/lib/python3.6/dist-packages/sklearn/linear_model/logistic.py:947: ConvergenceWarning: lbfgs failed to converge. Increase the number of iterations.\n",
            "  \"of iterations.\", ConvergenceWarning)\n",
            "/usr/local/lib/python3.6/dist-packages/sklearn/linear_model/logistic.py:947: ConvergenceWarning: lbfgs failed to converge. Increase the number of iterations.\n",
            "  \"of iterations.\", ConvergenceWarning)\n",
            "/usr/local/lib/python3.6/dist-packages/sklearn/linear_model/logistic.py:947: ConvergenceWarning: lbfgs failed to converge. Increase the number of iterations.\n",
            "  \"of iterations.\", ConvergenceWarning)\n",
            "/usr/local/lib/python3.6/dist-packages/sklearn/linear_model/logistic.py:947: ConvergenceWarning: lbfgs failed to converge. Increase the number of iterations.\n",
            "  \"of iterations.\", ConvergenceWarning)\n",
            "/usr/local/lib/python3.6/dist-packages/sklearn/linear_model/logistic.py:947: ConvergenceWarning: lbfgs failed to converge. Increase the number of iterations.\n",
            "  \"of iterations.\", ConvergenceWarning)\n",
            "/usr/local/lib/python3.6/dist-packages/sklearn/linear_model/logistic.py:947: ConvergenceWarning: lbfgs failed to converge. Increase the number of iterations.\n",
            "  \"of iterations.\", ConvergenceWarning)\n",
            "/usr/local/lib/python3.6/dist-packages/sklearn/linear_model/logistic.py:947: ConvergenceWarning: lbfgs failed to converge. Increase the number of iterations.\n",
            "  \"of iterations.\", ConvergenceWarning)\n",
            "/usr/local/lib/python3.6/dist-packages/sklearn/linear_model/logistic.py:947: ConvergenceWarning: lbfgs failed to converge. Increase the number of iterations.\n",
            "  \"of iterations.\", ConvergenceWarning)\n",
            "/usr/local/lib/python3.6/dist-packages/sklearn/linear_model/logistic.py:947: ConvergenceWarning: lbfgs failed to converge. Increase the number of iterations.\n",
            "  \"of iterations.\", ConvergenceWarning)\n",
            "/usr/local/lib/python3.6/dist-packages/sklearn/linear_model/logistic.py:947: ConvergenceWarning: lbfgs failed to converge. Increase the number of iterations.\n",
            "  \"of iterations.\", ConvergenceWarning)\n",
            "/usr/local/lib/python3.6/dist-packages/sklearn/linear_model/logistic.py:947: ConvergenceWarning: lbfgs failed to converge. Increase the number of iterations.\n",
            "  \"of iterations.\", ConvergenceWarning)\n",
            "/usr/local/lib/python3.6/dist-packages/sklearn/linear_model/logistic.py:947: ConvergenceWarning: lbfgs failed to converge. Increase the number of iterations.\n",
            "  \"of iterations.\", ConvergenceWarning)\n",
            "/usr/local/lib/python3.6/dist-packages/sklearn/linear_model/logistic.py:947: ConvergenceWarning: lbfgs failed to converge. Increase the number of iterations.\n",
            "  \"of iterations.\", ConvergenceWarning)\n",
            "/usr/local/lib/python3.6/dist-packages/sklearn/linear_model/logistic.py:947: ConvergenceWarning: lbfgs failed to converge. Increase the number of iterations.\n",
            "  \"of iterations.\", ConvergenceWarning)\n",
            "/usr/local/lib/python3.6/dist-packages/sklearn/linear_model/logistic.py:947: ConvergenceWarning: lbfgs failed to converge. Increase the number of iterations.\n",
            "  \"of iterations.\", ConvergenceWarning)\n",
            "/usr/local/lib/python3.6/dist-packages/sklearn/linear_model/logistic.py:947: ConvergenceWarning: lbfgs failed to converge. Increase the number of iterations.\n",
            "  \"of iterations.\", ConvergenceWarning)\n"
          ],
          "name": "stderr"
        },
        {
          "output_type": "stream",
          "text": [
            "Testing accuracy while using Logistic Regression with CV 0.548582995951417\n",
            "Testing F1 score while using Logistic Regression with CV: 0.5492327245675112\n"
          ],
          "name": "stdout"
        },
        {
          "output_type": "stream",
          "text": [
            "/usr/local/lib/python3.6/dist-packages/sklearn/linear_model/logistic.py:947: ConvergenceWarning: lbfgs failed to converge. Increase the number of iterations.\n",
            "  \"of iterations.\", ConvergenceWarning)\n"
          ],
          "name": "stderr"
        }
      ]
    },
    {
      "cell_type": "code",
      "metadata": {
        "id": "J5lMeGtRT6Bw",
        "outputId": "22fc4959-254c-4f76-e3bd-327bcb9532d6",
        "colab": {
          "base_uri": "https://localhost:8080/",
          "height": 54
        }
      },
      "source": [
        "# Results for SGD Classifier\n",
        "\n",
        "sgd.fit(X_train_ext, Y_train_ext)\n",
        "Y_sgd_pred_ext = sgd.predict(X_test_ext)\n",
        "print('Testing accuracy while using SGD Classifier %s' % accuracy_score(Y_test_ext, Y_sgd_pred_ext))\n",
        "print('Testing F1 score while using SGD Classifier: {}'.format(f1_score(Y_test_ext, Y_sgd_pred_ext, average='weighted')))"
      ],
      "execution_count": null,
      "outputs": [
        {
          "output_type": "stream",
          "text": [
            "Testing accuracy while using SGD Classifier 0.48785425101214575\n",
            "Testing F1 score while using SGD Classifier: 0.4588469123073096\n"
          ],
          "name": "stdout"
        }
      ]
    },
    {
      "cell_type": "code",
      "metadata": {
        "id": "NDNLAoZ4T6bC",
        "outputId": "9a038d23-39c5-472b-c0ee-aecbe9c479d5",
        "colab": {
          "base_uri": "https://localhost:8080/",
          "height": 54
        }
      },
      "source": [
        "# Results for Passive Aggressive Classifier\n",
        "\n",
        "pac.fit(X_train_ext, Y_train_ext)\n",
        "Y_pac_pred_ext = pac.predict(X_test_ext)\n",
        "print('Testing accuracy while using Passive Aggressive Classifier %s' % accuracy_score(Y_test_ext, Y_pac_pred_ext))\n",
        "print('Testing F1 score while using Passive Aggressive Classifier: {}'.format(f1_score(Y_test_ext, Y_pac_pred_ext, average='weighted')))"
      ],
      "execution_count": null,
      "outputs": [
        {
          "output_type": "stream",
          "text": [
            "Testing accuracy while using Passive Aggressive Classifier 0.48582995951417\n",
            "Testing F1 score while using Passive Aggressive Classifier: 0.4572420877460796\n"
          ],
          "name": "stdout"
        }
      ]
    },
    {
      "cell_type": "code",
      "metadata": {
        "id": "nNe1ZlTIT60S",
        "outputId": "b40b33c4-d1d5-4aa1-d897-c1d5d7c264d9",
        "colab": {
          "base_uri": "https://localhost:8080/",
          "height": 54
        }
      },
      "source": [
        "# Results for Ridge Classifier\n",
        "\n",
        "rc.fit(X_train_ext, Y_train_ext)\n",
        "Y_rc_pred_ext = rc.predict(X_test_ext)\n",
        "print('Testing accuracy while using Ridge Classifier %s' % accuracy_score(Y_test_ext, Y_rc_pred_ext))\n",
        "print('Testing F1 score while using Ridge Classifier: {}'.format(f1_score(Y_test_ext, Y_rc_pred_ext, average='weighted')))"
      ],
      "execution_count": null,
      "outputs": [
        {
          "output_type": "stream",
          "text": [
            "Testing accuracy while using Ridge Classifier 0.5344129554655871\n",
            "Testing F1 score while using Ridge Classifier: 0.5348022167651159\n"
          ],
          "name": "stdout"
        }
      ]
    },
    {
      "cell_type": "code",
      "metadata": {
        "id": "8wObV8WJT7PU",
        "outputId": "7706b512-817d-49a2-879a-ecc3c5d07017",
        "colab": {
          "base_uri": "https://localhost:8080/",
          "height": 54
        }
      },
      "source": [
        "# Results for Support Vector Classifier\n",
        "\n",
        "svc.fit(X_train_ext, Y_train_ext)\n",
        "Y_svc_pred_ext = svc.predict(X_test_ext)\n",
        "print('Testing accuracy while using Support Vector Classifier %s' % accuracy_score(Y_test_ext, Y_svc_pred_ext))\n",
        "print('Testing F1 score while using Support Vector Classifier: {}'.format(f1_score(Y_test_ext, Y_svc_pred_ext, average='weighted')))"
      ],
      "execution_count": null,
      "outputs": [
        {
          "output_type": "stream",
          "text": [
            "Testing accuracy while using Support Vector Classifier 0.562753036437247\n",
            "Testing F1 score while using Support Vector Classifier: 0.5364706444623204\n"
          ],
          "name": "stdout"
        }
      ]
    },
    {
      "cell_type": "code",
      "metadata": {
        "id": "T_tevsHUXKJh",
        "outputId": "a62c24cb-6da1-456c-9b9f-8fa1e97ce5cd",
        "colab": {
          "base_uri": "https://localhost:8080/",
          "height": 54
        }
      },
      "source": [
        "# Results for XGBoost Algorithm\n",
        "xgbc.fit(np.array(X_train_ext), Y_train_ext)\n",
        "xgb_predict_ext = xgbc.predict(np.array(X_test_ext))\n",
        "\n",
        "print('Testing accuracy while using XGBoost Algorithm %s' % accuracy_score(Y_test_ext,xgb_predict_ext))\n",
        "print('Testing F1 score while using XGBoost Algorithm: {}'.format(f1_score(Y_test_ext, xgb_predict_ext, average='weighted')))"
      ],
      "execution_count": null,
      "outputs": [
        {
          "output_type": "stream",
          "text": [
            "Testing accuracy while using XGBoost Algorithm 0.5506072874493927\n",
            "Testing F1 score while using XGBoost Algorithm: 0.5445557772398204\n"
          ],
          "name": "stdout"
        }
      ]
    },
    {
      "cell_type": "code",
      "metadata": {
        "id": "5O55OX4bhdtn"
      },
      "source": [
        "hard_voting = VotingClassifier(estimators=[('LR', logreg), ('SGD', sgd), ('XGBC', xgbc), ('SVC', svc), ('LGCV', lgcv)], voting='hard')\n",
        "soft_voting = VotingClassifier(estimators=[('LR', logreg), ('SGD', sgd), ('XGBC', xgbc), ('SVC', svc), ('LGCV', lgcv)], voting='soft')"
      ],
      "execution_count": null,
      "outputs": []
    },
    {
      "cell_type": "code",
      "metadata": {
        "id": "HWUUdAnoheIn",
        "outputId": "5330ff58-416e-473b-ed31-dca6e18908a5",
        "colab": {
          "base_uri": "https://localhost:8080/",
          "height": 1000
        }
      },
      "source": [
        "hard_voting.fit(np.array(X_train_ext), Y_train_ext)\n",
        "soft_voting.fit(np.array(X_train_ext), Y_train_ext)"
      ],
      "execution_count": null,
      "outputs": [
        {
          "output_type": "stream",
          "text": [
            "/usr/local/lib/python3.6/dist-packages/sklearn/linear_model/logistic.py:947: ConvergenceWarning: lbfgs failed to converge. Increase the number of iterations.\n",
            "  \"of iterations.\", ConvergenceWarning)\n",
            "/usr/local/lib/python3.6/dist-packages/sklearn/linear_model/logistic.py:947: ConvergenceWarning: lbfgs failed to converge. Increase the number of iterations.\n",
            "  \"of iterations.\", ConvergenceWarning)\n",
            "/usr/local/lib/python3.6/dist-packages/sklearn/linear_model/logistic.py:947: ConvergenceWarning: lbfgs failed to converge. Increase the number of iterations.\n",
            "  \"of iterations.\", ConvergenceWarning)\n",
            "/usr/local/lib/python3.6/dist-packages/sklearn/linear_model/logistic.py:947: ConvergenceWarning: lbfgs failed to converge. Increase the number of iterations.\n",
            "  \"of iterations.\", ConvergenceWarning)\n",
            "/usr/local/lib/python3.6/dist-packages/sklearn/linear_model/logistic.py:947: ConvergenceWarning: lbfgs failed to converge. Increase the number of iterations.\n",
            "  \"of iterations.\", ConvergenceWarning)\n",
            "/usr/local/lib/python3.6/dist-packages/sklearn/linear_model/logistic.py:947: ConvergenceWarning: lbfgs failed to converge. Increase the number of iterations.\n",
            "  \"of iterations.\", ConvergenceWarning)\n",
            "/usr/local/lib/python3.6/dist-packages/sklearn/linear_model/logistic.py:947: ConvergenceWarning: lbfgs failed to converge. Increase the number of iterations.\n",
            "  \"of iterations.\", ConvergenceWarning)\n",
            "/usr/local/lib/python3.6/dist-packages/sklearn/linear_model/logistic.py:947: ConvergenceWarning: lbfgs failed to converge. Increase the number of iterations.\n",
            "  \"of iterations.\", ConvergenceWarning)\n",
            "/usr/local/lib/python3.6/dist-packages/sklearn/linear_model/logistic.py:947: ConvergenceWarning: lbfgs failed to converge. Increase the number of iterations.\n",
            "  \"of iterations.\", ConvergenceWarning)\n",
            "/usr/local/lib/python3.6/dist-packages/sklearn/linear_model/logistic.py:947: ConvergenceWarning: lbfgs failed to converge. Increase the number of iterations.\n",
            "  \"of iterations.\", ConvergenceWarning)\n",
            "/usr/local/lib/python3.6/dist-packages/sklearn/linear_model/logistic.py:947: ConvergenceWarning: lbfgs failed to converge. Increase the number of iterations.\n",
            "  \"of iterations.\", ConvergenceWarning)\n",
            "/usr/local/lib/python3.6/dist-packages/sklearn/linear_model/logistic.py:947: ConvergenceWarning: lbfgs failed to converge. Increase the number of iterations.\n",
            "  \"of iterations.\", ConvergenceWarning)\n",
            "/usr/local/lib/python3.6/dist-packages/sklearn/linear_model/logistic.py:947: ConvergenceWarning: lbfgs failed to converge. Increase the number of iterations.\n",
            "  \"of iterations.\", ConvergenceWarning)\n",
            "/usr/local/lib/python3.6/dist-packages/sklearn/linear_model/logistic.py:947: ConvergenceWarning: lbfgs failed to converge. Increase the number of iterations.\n",
            "  \"of iterations.\", ConvergenceWarning)\n",
            "/usr/local/lib/python3.6/dist-packages/sklearn/linear_model/logistic.py:947: ConvergenceWarning: lbfgs failed to converge. Increase the number of iterations.\n",
            "  \"of iterations.\", ConvergenceWarning)\n",
            "/usr/local/lib/python3.6/dist-packages/sklearn/linear_model/logistic.py:947: ConvergenceWarning: lbfgs failed to converge. Increase the number of iterations.\n",
            "  \"of iterations.\", ConvergenceWarning)\n",
            "/usr/local/lib/python3.6/dist-packages/sklearn/linear_model/logistic.py:947: ConvergenceWarning: lbfgs failed to converge. Increase the number of iterations.\n",
            "  \"of iterations.\", ConvergenceWarning)\n",
            "/usr/local/lib/python3.6/dist-packages/sklearn/linear_model/logistic.py:947: ConvergenceWarning: lbfgs failed to converge. Increase the number of iterations.\n",
            "  \"of iterations.\", ConvergenceWarning)\n",
            "/usr/local/lib/python3.6/dist-packages/sklearn/linear_model/logistic.py:947: ConvergenceWarning: lbfgs failed to converge. Increase the number of iterations.\n",
            "  \"of iterations.\", ConvergenceWarning)\n",
            "/usr/local/lib/python3.6/dist-packages/sklearn/linear_model/logistic.py:947: ConvergenceWarning: lbfgs failed to converge. Increase the number of iterations.\n",
            "  \"of iterations.\", ConvergenceWarning)\n",
            "/usr/local/lib/python3.6/dist-packages/sklearn/linear_model/logistic.py:947: ConvergenceWarning: lbfgs failed to converge. Increase the number of iterations.\n",
            "  \"of iterations.\", ConvergenceWarning)\n",
            "/usr/local/lib/python3.6/dist-packages/sklearn/linear_model/logistic.py:947: ConvergenceWarning: lbfgs failed to converge. Increase the number of iterations.\n",
            "  \"of iterations.\", ConvergenceWarning)\n",
            "/usr/local/lib/python3.6/dist-packages/sklearn/linear_model/logistic.py:947: ConvergenceWarning: lbfgs failed to converge. Increase the number of iterations.\n",
            "  \"of iterations.\", ConvergenceWarning)\n",
            "/usr/local/lib/python3.6/dist-packages/sklearn/linear_model/logistic.py:947: ConvergenceWarning: lbfgs failed to converge. Increase the number of iterations.\n",
            "  \"of iterations.\", ConvergenceWarning)\n",
            "/usr/local/lib/python3.6/dist-packages/sklearn/linear_model/logistic.py:947: ConvergenceWarning: lbfgs failed to converge. Increase the number of iterations.\n",
            "  \"of iterations.\", ConvergenceWarning)\n",
            "/usr/local/lib/python3.6/dist-packages/sklearn/linear_model/logistic.py:947: ConvergenceWarning: lbfgs failed to converge. Increase the number of iterations.\n",
            "  \"of iterations.\", ConvergenceWarning)\n",
            "/usr/local/lib/python3.6/dist-packages/sklearn/linear_model/logistic.py:947: ConvergenceWarning: lbfgs failed to converge. Increase the number of iterations.\n",
            "  \"of iterations.\", ConvergenceWarning)\n",
            "/usr/local/lib/python3.6/dist-packages/sklearn/linear_model/logistic.py:947: ConvergenceWarning: lbfgs failed to converge. Increase the number of iterations.\n",
            "  \"of iterations.\", ConvergenceWarning)\n",
            "/usr/local/lib/python3.6/dist-packages/sklearn/linear_model/logistic.py:947: ConvergenceWarning: lbfgs failed to converge. Increase the number of iterations.\n",
            "  \"of iterations.\", ConvergenceWarning)\n",
            "/usr/local/lib/python3.6/dist-packages/sklearn/linear_model/logistic.py:947: ConvergenceWarning: lbfgs failed to converge. Increase the number of iterations.\n",
            "  \"of iterations.\", ConvergenceWarning)\n",
            "/usr/local/lib/python3.6/dist-packages/sklearn/linear_model/logistic.py:947: ConvergenceWarning: lbfgs failed to converge. Increase the number of iterations.\n",
            "  \"of iterations.\", ConvergenceWarning)\n",
            "/usr/local/lib/python3.6/dist-packages/sklearn/linear_model/logistic.py:947: ConvergenceWarning: lbfgs failed to converge. Increase the number of iterations.\n",
            "  \"of iterations.\", ConvergenceWarning)\n",
            "/usr/local/lib/python3.6/dist-packages/sklearn/linear_model/logistic.py:947: ConvergenceWarning: lbfgs failed to converge. Increase the number of iterations.\n",
            "  \"of iterations.\", ConvergenceWarning)\n",
            "/usr/local/lib/python3.6/dist-packages/sklearn/linear_model/logistic.py:947: ConvergenceWarning: lbfgs failed to converge. Increase the number of iterations.\n",
            "  \"of iterations.\", ConvergenceWarning)\n",
            "/usr/local/lib/python3.6/dist-packages/sklearn/linear_model/logistic.py:947: ConvergenceWarning: lbfgs failed to converge. Increase the number of iterations.\n",
            "  \"of iterations.\", ConvergenceWarning)\n",
            "/usr/local/lib/python3.6/dist-packages/sklearn/linear_model/logistic.py:947: ConvergenceWarning: lbfgs failed to converge. Increase the number of iterations.\n",
            "  \"of iterations.\", ConvergenceWarning)\n",
            "/usr/local/lib/python3.6/dist-packages/sklearn/linear_model/logistic.py:947: ConvergenceWarning: lbfgs failed to converge. Increase the number of iterations.\n",
            "  \"of iterations.\", ConvergenceWarning)\n",
            "/usr/local/lib/python3.6/dist-packages/sklearn/linear_model/logistic.py:947: ConvergenceWarning: lbfgs failed to converge. Increase the number of iterations.\n",
            "  \"of iterations.\", ConvergenceWarning)\n",
            "/usr/local/lib/python3.6/dist-packages/sklearn/linear_model/logistic.py:947: ConvergenceWarning: lbfgs failed to converge. Increase the number of iterations.\n",
            "  \"of iterations.\", ConvergenceWarning)\n",
            "/usr/local/lib/python3.6/dist-packages/sklearn/linear_model/logistic.py:947: ConvergenceWarning: lbfgs failed to converge. Increase the number of iterations.\n",
            "  \"of iterations.\", ConvergenceWarning)\n",
            "/usr/local/lib/python3.6/dist-packages/sklearn/linear_model/logistic.py:947: ConvergenceWarning: lbfgs failed to converge. Increase the number of iterations.\n",
            "  \"of iterations.\", ConvergenceWarning)\n",
            "/usr/local/lib/python3.6/dist-packages/sklearn/linear_model/logistic.py:947: ConvergenceWarning: lbfgs failed to converge. Increase the number of iterations.\n",
            "  \"of iterations.\", ConvergenceWarning)\n",
            "/usr/local/lib/python3.6/dist-packages/sklearn/linear_model/logistic.py:947: ConvergenceWarning: lbfgs failed to converge. Increase the number of iterations.\n",
            "  \"of iterations.\", ConvergenceWarning)\n",
            "/usr/local/lib/python3.6/dist-packages/sklearn/linear_model/logistic.py:947: ConvergenceWarning: lbfgs failed to converge. Increase the number of iterations.\n",
            "  \"of iterations.\", ConvergenceWarning)\n",
            "/usr/local/lib/python3.6/dist-packages/sklearn/linear_model/logistic.py:947: ConvergenceWarning: lbfgs failed to converge. Increase the number of iterations.\n",
            "  \"of iterations.\", ConvergenceWarning)\n",
            "/usr/local/lib/python3.6/dist-packages/sklearn/linear_model/logistic.py:947: ConvergenceWarning: lbfgs failed to converge. Increase the number of iterations.\n",
            "  \"of iterations.\", ConvergenceWarning)\n"
          ],
          "name": "stderr"
        },
        {
          "output_type": "execute_result",
          "data": {
            "text/plain": [
              "VotingClassifier(estimators=[('LR',\n",
              "                              LogisticRegression(C=100000.0, class_weight=None,\n",
              "                                                 dual=False, fit_intercept=True,\n",
              "                                                 intercept_scaling=1,\n",
              "                                                 l1_ratio=None, max_iter=750,\n",
              "                                                 multi_class='warn', n_jobs=1,\n",
              "                                                 penalty='l2',\n",
              "                                                 random_state=None,\n",
              "                                                 solver='lbfgs', tol=0.0001,\n",
              "                                                 verbose=0, warm_start=False)),\n",
              "                             ('SGD',\n",
              "                              SGDClassifier(alpha=0.0001, average=False,\n",
              "                                            class_weight=None,\n",
              "                                            early_stop...\n",
              "                                  random_state=None, shrinking=True, tol=0.001,\n",
              "                                  verbose=False)),\n",
              "                             ('LGCV',\n",
              "                              LogisticRegressionCV(Cs=10, class_weight=None,\n",
              "                                                   cv=5, dual=False,\n",
              "                                                   fit_intercept=True,\n",
              "                                                   intercept_scaling=1.0,\n",
              "                                                   l1_ratios=None, max_iter=100,\n",
              "                                                   multi_class='ovr',\n",
              "                                                   n_jobs=None, penalty='l2',\n",
              "                                                   random_state=0, refit=True,\n",
              "                                                   scoring=None, solver='lbfgs',\n",
              "                                                   tol=0.0001, verbose=0))],\n",
              "                 flatten_transform=True, n_jobs=None, voting='soft',\n",
              "                 weights=None)"
            ]
          },
          "metadata": {
            "tags": []
          },
          "execution_count": 146
        }
      ]
    },
    {
      "cell_type": "code",
      "metadata": {
        "id": "z2Zyhcrtheiq"
      },
      "source": [
        "Y_hard_voting = hard_voting.predict(np.array(X_test_ext))\n",
        "Y_soft_voting = soft_voting.predict(np.array(X_test_ext))"
      ],
      "execution_count": null,
      "outputs": []
    },
    {
      "cell_type": "code",
      "metadata": {
        "id": "dP5QZAYkkhnM",
        "outputId": "20313fd1-c2f4-426d-cdc4-ec1c28b2e536",
        "colab": {
          "base_uri": "https://localhost:8080/",
          "height": 54
        }
      },
      "source": [
        "print('Testing accuracy while using Ensemble Model with Hard Voting%s' % accuracy_score(Y_test_ext,Y_hard_voting))\n",
        "print('Testing F1 score while using Ensemble Model with Hard Voting: {}'.format(f1_score(Y_test_ext, Y_hard_voting, average='weighted')))"
      ],
      "execution_count": null,
      "outputs": [
        {
          "output_type": "stream",
          "text": [
            "Testing accuracy while using Ensemble Model with Hard Voting0.5566801619433198\n",
            "Testing F1 score while using Ensemble Model with Hard Voting: 0.5571890017451003\n"
          ],
          "name": "stdout"
        }
      ]
    },
    {
      "cell_type": "code",
      "metadata": {
        "id": "3MF84nqSkiBW",
        "outputId": "f116ee8e-e420-4f61-8589-52c237fdf737",
        "colab": {
          "base_uri": "https://localhost:8080/",
          "height": 54
        }
      },
      "source": [
        "print('Testing accuracy while using Ensemble Model with Hard Voting%s' % accuracy_score(Y_test_ext,Y_soft_voting))\n",
        "print('Testing F1 score while using Ensemble Model with Hard Voting: {}'.format(f1_score(Y_test_ext, Y_soft_voting, average='weighted')))"
      ],
      "execution_count": null,
      "outputs": [
        {
          "output_type": "stream",
          "text": [
            "Testing accuracy while using Ensemble Model with Hard Voting0.548582995951417\n",
            "Testing F1 score while using Ensemble Model with Hard Voting: 0.5452266874180666\n"
          ],
          "name": "stdout"
        }
      ]
    },
    {
      "cell_type": "markdown",
      "metadata": {
        "id": "xlmpikiJoUGL"
      },
      "source": [
        "**Out of all the models shown above, Support Vector Classifier has the best Accuracy and F1-Score, 56.27% and 53.64% respectively. However, for cEXT, the State-of-the-Art model has an accuracy of 58.09%. Thus, our model fails to match the SOTA Accuracy, by 1.82%.**"
      ]
    },
    {
      "cell_type": "markdown",
      "metadata": {
        "id": "-G8r7KaxhPvk"
      },
      "source": [
        "**We will try and predict the personality trait of Neuroticism(cNEU) for the given dataset**"
      ]
    },
    {
      "cell_type": "code",
      "metadata": {
        "id": "07ECuOuzMJJk"
      },
      "source": [
        "# Training and Test Documents for Neuroticism\n",
        "train_tagged_neu = train.apply(lambda r: TaggedDocument(words=normalize_text(r['TEXT']), tags=[r.cNEU]), axis=1)\n",
        "test_tagged_neu = test.apply(lambda r: TaggedDocument(words=normalize_text(r['TEXT']), tags=[r.cNEU]), axis=1)"
      ],
      "execution_count": null,
      "outputs": []
    },
    {
      "cell_type": "code",
      "metadata": {
        "id": "w54SxAfsrtNF",
        "outputId": "35677430-d0f4-47e0-cd50-4d332f9a4e6c",
        "colab": {
          "base_uri": "https://localhost:8080/",
          "height": 55
        }
      },
      "source": [
        "train_tagged_neu.values[30]"
      ],
      "execution_count": null,
      "outputs": [
        {
          "output_type": "execute_result",
          "data": {
            "text/plain": [
              "TaggedDocument(words=['feel', 'really', 'crappy', 'today', 'get', 'enough', 'sleep', 'last', 'night', 'think', 'part', 'texas', 'loss', 'saturday', 'especially', 'way', 'loss', 'least', 'cowboys', 'last', 'night', 'far', 'home', 'sick', 'might', 'roommate', 'go', 'high', 'school', 'also', 'able', 'talk', 'parent', 'lot', 'instant', 'chat', 'mom', 'wnts', 'get', 'web', 'cam', 'actually', 'see', 'think', 'hard', 'time', 'leave', 'first', 'child', 'leave', 'home', 'network', 'really', 'cool', 'connect', 'rat', 'really', 'fast', 'crummy', 'modem', 'home', 'dad', 'go', 'get', 'dsl', 'live', 'far', 'central', 'office', 'suck', 'really', 'hungry', 'hungry', 'morning', 'halfway', 'class', 'stomach', 'start', 'hurt', 'probably', 'use', 'sleep', 'late', 'eat', 'breakfast', 'min', 'take', 'english', 'year', 'good', 'like', 'write', 'paper', 'much', 'might', 'write', 'paper', 'feel', 'perfectly', 'valid', 'turn', 'wrong', 'yet', 'put', 'much', 'work', 'min', 'milk', 'taste', 'pretty', 'good', 'use', 'home', 'roomate', 'buy', 'full', 'vitamin', 'milk', 'yum', 'hope', 'write', 'length', 'sensation', 'block', 'min', 'time', 'almost', 'might', 'take', 'nap', 'next', 'class', 'another', 'hours', 'class', 'fridays', 'cool', 'min', 'alarm', 'set', 'min', 'would', 'write', 'much', 'time'], tags=[0])"
            ]
          },
          "metadata": {
            "tags": []
          },
          "execution_count": 153
        }
      ]
    },
    {
      "cell_type": "code",
      "metadata": {
        "id": "lBCHioj-rtnp",
        "outputId": "1265eb4d-eaa1-4db7-a886-41b1d18640a1",
        "colab": {
          "base_uri": "https://localhost:8080/",
          "height": 35
        }
      },
      "source": [
        "neu_model_dbow = Doc2Vec(dm=0, vector_size=230, negative=5, hs=1, min_count=2, sample = 0, workers=cores)\n",
        "neu_model_dbow.build_vocab([x for x in tqdm(train_tagged_neu.values)])"
      ],
      "execution_count": null,
      "outputs": [
        {
          "output_type": "stream",
          "text": [
            "100%|██████████| 1973/1973 [00:00<00:00, 1435946.87it/s]\n"
          ],
          "name": "stderr"
        }
      ]
    },
    {
      "cell_type": "code",
      "metadata": {
        "id": "3dlLx1Gvrt_0",
        "outputId": "d80f7f4c-d1ef-4819-fcde-c6ff0235a704",
        "colab": {
          "base_uri": "https://localhost:8080/",
          "height": 599
        }
      },
      "source": [
        "%%time\n",
        "for epoch in range(30):\n",
        "    neu_model_dbow.train(utils.shuffle([x for x in tqdm(train_tagged_neu.values)]), total_examples=len(train_tagged_neu.values), epochs=1)\n",
        "    neu_model_dbow.alpha -= 0.02\n",
        "    neu_model_dbow.min_alpha = model_dbow.alpha"
      ],
      "execution_count": null,
      "outputs": [
        {
          "output_type": "stream",
          "text": [
            "100%|██████████| 1973/1973 [00:00<00:00, 936762.71it/s]\n",
            "100%|██████████| 1973/1973 [00:00<00:00, 1072493.75it/s]\n",
            "100%|██████████| 1973/1973 [00:00<00:00, 1474846.16it/s]\n",
            "100%|██████████| 1973/1973 [00:00<00:00, 374789.94it/s]\n",
            "100%|██████████| 1973/1973 [00:00<00:00, 1803696.99it/s]\n",
            "100%|██████████| 1973/1973 [00:00<00:00, 1257080.63it/s]\n",
            "100%|██████████| 1973/1973 [00:00<00:00, 979912.59it/s]\n",
            "100%|██████████| 1973/1973 [00:00<00:00, 1887628.15it/s]\n",
            "100%|██████████| 1973/1973 [00:00<00:00, 1491593.69it/s]\n",
            "100%|██████████| 1973/1973 [00:00<00:00, 1411455.19it/s]\n",
            "100%|██████████| 1973/1973 [00:00<00:00, 811150.93it/s]\n",
            "100%|██████████| 1973/1973 [00:00<00:00, 739201.59it/s]\n",
            "100%|██████████| 1973/1973 [00:00<00:00, 2128984.25it/s]\n",
            "100%|██████████| 1973/1973 [00:00<00:00, 2200308.91it/s]\n",
            "100%|██████████| 1973/1973 [00:00<00:00, 2003234.52it/s]\n",
            "100%|██████████| 1973/1973 [00:00<00:00, 1383145.88it/s]\n",
            "100%|██████████| 1973/1973 [00:00<00:00, 452304.43it/s]\n",
            "100%|██████████| 1973/1973 [00:00<00:00, 1718662.89it/s]\n",
            "100%|██████████| 1973/1973 [00:00<00:00, 1373276.10it/s]\n",
            "100%|██████████| 1973/1973 [00:00<00:00, 390955.82it/s]\n",
            "100%|██████████| 1973/1973 [00:00<00:00, 462569.13it/s]\n",
            "100%|██████████| 1973/1973 [00:00<00:00, 500596.56it/s]\n",
            "100%|██████████| 1973/1973 [00:00<00:00, 1711199.71it/s]\n",
            "100%|██████████| 1973/1973 [00:00<00:00, 1676192.38it/s]\n",
            "100%|██████████| 1973/1973 [00:00<00:00, 581993.23it/s]\n",
            "100%|██████████| 1973/1973 [00:00<00:00, 1140171.09it/s]\n",
            "100%|██████████| 1973/1973 [00:00<00:00, 1600959.91it/s]\n",
            "100%|██████████| 1973/1973 [00:00<00:00, 1395037.39it/s]\n",
            "100%|██████████| 1973/1973 [00:00<00:00, 1563158.63it/s]\n",
            "100%|██████████| 1973/1973 [00:00<00:00, 1425066.61it/s]\n"
          ],
          "name": "stderr"
        },
        {
          "output_type": "stream",
          "text": [
            "CPU times: user 1min 13s, sys: 745 ms, total: 1min 14s\n",
            "Wall time: 39.5 s\n"
          ],
          "name": "stdout"
        }
      ]
    },
    {
      "cell_type": "code",
      "metadata": {
        "id": "7oUTafgXruYJ"
      },
      "source": [
        "#Creating Train and Test Paragraph Vectors for Distributed Bag of Words Model\n",
        "Y_train_neu, X_train_neu = vec_for_learning(neu_model_dbow, train_tagged_neu)\n",
        "Y_test_neu, X_test_neu = vec_for_learning(neu_model_dbow, test_tagged_neu)"
      ],
      "execution_count": null,
      "outputs": []
    },
    {
      "cell_type": "code",
      "metadata": {
        "id": "yxJ6EG9EruyP",
        "outputId": "893dc0d6-abb0-460f-a6ab-53f4a6d35220",
        "colab": {
          "base_uri": "https://localhost:8080/",
          "height": 110
        }
      },
      "source": [
        "# Results for Logistic Regression \n",
        "\n",
        "logreg.fit(X_train_neu, Y_train_neu)\n",
        "Y_lg_pred_neu = logreg.predict(X_test_neu)\n",
        "print('Testing accuracy while using Logistic Regression %s' % accuracy_score(Y_test_neu, Y_lg_pred_neu))\n",
        "print('Testing F1 score while using Logistic Regression: {}'.format(f1_score(Y_test_neu, Y_lg_pred_neu, average='weighted')))"
      ],
      "execution_count": null,
      "outputs": [
        {
          "output_type": "stream",
          "text": [
            "Testing accuracy while using Logistic Regression 0.4676113360323887\n",
            "Testing F1 score while using Logistic Regression: 0.4676658762278491\n"
          ],
          "name": "stdout"
        },
        {
          "output_type": "stream",
          "text": [
            "/usr/local/lib/python3.6/dist-packages/sklearn/linear_model/logistic.py:947: ConvergenceWarning: lbfgs failed to converge. Increase the number of iterations.\n",
            "  \"of iterations.\", ConvergenceWarning)\n"
          ],
          "name": "stderr"
        }
      ]
    },
    {
      "cell_type": "code",
      "metadata": {
        "id": "tvY117PBZNkP",
        "outputId": "01ec384b-dbb7-45e5-e3fb-6173c2f00b0b",
        "colab": {
          "base_uri": "https://localhost:8080/",
          "height": 765
        }
      },
      "source": [
        "# Results for Logistic Regression with CV\n",
        "\n",
        "lgcv.fit(X_train_neu, Y_train_neu)\n",
        "Y_lgcv_pred_neu = lgcv.predict(X_test_neu)\n",
        "print('Testing accuracy while using Logistic Regression with CV %s' % accuracy_score(Y_test_neu, Y_lgcv_pred_neu))\n",
        "print('Testing F1 score while using Logistic Regression with CV: {}'.format(f1_score(Y_test_neu, Y_lgcv_pred_neu, average='weighted')))"
      ],
      "execution_count": null,
      "outputs": [
        {
          "output_type": "stream",
          "text": [
            "/usr/local/lib/python3.6/dist-packages/sklearn/linear_model/logistic.py:947: ConvergenceWarning: lbfgs failed to converge. Increase the number of iterations.\n",
            "  \"of iterations.\", ConvergenceWarning)\n",
            "/usr/local/lib/python3.6/dist-packages/sklearn/linear_model/logistic.py:947: ConvergenceWarning: lbfgs failed to converge. Increase the number of iterations.\n",
            "  \"of iterations.\", ConvergenceWarning)\n",
            "/usr/local/lib/python3.6/dist-packages/sklearn/linear_model/logistic.py:947: ConvergenceWarning: lbfgs failed to converge. Increase the number of iterations.\n",
            "  \"of iterations.\", ConvergenceWarning)\n",
            "/usr/local/lib/python3.6/dist-packages/sklearn/linear_model/logistic.py:947: ConvergenceWarning: lbfgs failed to converge. Increase the number of iterations.\n",
            "  \"of iterations.\", ConvergenceWarning)\n",
            "/usr/local/lib/python3.6/dist-packages/sklearn/linear_model/logistic.py:947: ConvergenceWarning: lbfgs failed to converge. Increase the number of iterations.\n",
            "  \"of iterations.\", ConvergenceWarning)\n",
            "/usr/local/lib/python3.6/dist-packages/sklearn/linear_model/logistic.py:947: ConvergenceWarning: lbfgs failed to converge. Increase the number of iterations.\n",
            "  \"of iterations.\", ConvergenceWarning)\n",
            "/usr/local/lib/python3.6/dist-packages/sklearn/linear_model/logistic.py:947: ConvergenceWarning: lbfgs failed to converge. Increase the number of iterations.\n",
            "  \"of iterations.\", ConvergenceWarning)\n",
            "/usr/local/lib/python3.6/dist-packages/sklearn/linear_model/logistic.py:947: ConvergenceWarning: lbfgs failed to converge. Increase the number of iterations.\n",
            "  \"of iterations.\", ConvergenceWarning)\n",
            "/usr/local/lib/python3.6/dist-packages/sklearn/linear_model/logistic.py:947: ConvergenceWarning: lbfgs failed to converge. Increase the number of iterations.\n",
            "  \"of iterations.\", ConvergenceWarning)\n",
            "/usr/local/lib/python3.6/dist-packages/sklearn/linear_model/logistic.py:947: ConvergenceWarning: lbfgs failed to converge. Increase the number of iterations.\n",
            "  \"of iterations.\", ConvergenceWarning)\n",
            "/usr/local/lib/python3.6/dist-packages/sklearn/linear_model/logistic.py:947: ConvergenceWarning: lbfgs failed to converge. Increase the number of iterations.\n",
            "  \"of iterations.\", ConvergenceWarning)\n",
            "/usr/local/lib/python3.6/dist-packages/sklearn/linear_model/logistic.py:947: ConvergenceWarning: lbfgs failed to converge. Increase the number of iterations.\n",
            "  \"of iterations.\", ConvergenceWarning)\n",
            "/usr/local/lib/python3.6/dist-packages/sklearn/linear_model/logistic.py:947: ConvergenceWarning: lbfgs failed to converge. Increase the number of iterations.\n",
            "  \"of iterations.\", ConvergenceWarning)\n",
            "/usr/local/lib/python3.6/dist-packages/sklearn/linear_model/logistic.py:947: ConvergenceWarning: lbfgs failed to converge. Increase the number of iterations.\n",
            "  \"of iterations.\", ConvergenceWarning)\n",
            "/usr/local/lib/python3.6/dist-packages/sklearn/linear_model/logistic.py:947: ConvergenceWarning: lbfgs failed to converge. Increase the number of iterations.\n",
            "  \"of iterations.\", ConvergenceWarning)\n",
            "/usr/local/lib/python3.6/dist-packages/sklearn/linear_model/logistic.py:947: ConvergenceWarning: lbfgs failed to converge. Increase the number of iterations.\n",
            "  \"of iterations.\", ConvergenceWarning)\n",
            "/usr/local/lib/python3.6/dist-packages/sklearn/linear_model/logistic.py:947: ConvergenceWarning: lbfgs failed to converge. Increase the number of iterations.\n",
            "  \"of iterations.\", ConvergenceWarning)\n"
          ],
          "name": "stderr"
        },
        {
          "output_type": "stream",
          "text": [
            "Testing accuracy while using Logistic Regression with CV 0.5121457489878543\n",
            "Testing F1 score while using Logistic Regression with CV: 0.5106826685910089\n"
          ],
          "name": "stdout"
        },
        {
          "output_type": "stream",
          "text": [
            "/usr/local/lib/python3.6/dist-packages/sklearn/linear_model/logistic.py:947: ConvergenceWarning: lbfgs failed to converge. Increase the number of iterations.\n",
            "  \"of iterations.\", ConvergenceWarning)\n",
            "/usr/local/lib/python3.6/dist-packages/sklearn/linear_model/logistic.py:947: ConvergenceWarning: lbfgs failed to converge. Increase the number of iterations.\n",
            "  \"of iterations.\", ConvergenceWarning)\n"
          ],
          "name": "stderr"
        }
      ]
    },
    {
      "cell_type": "code",
      "metadata": {
        "id": "NIvyfbb2ZyJb",
        "outputId": "de42de6a-604d-4f36-d50e-51fa81db9bc8",
        "colab": {
          "base_uri": "https://localhost:8080/",
          "height": 54
        }
      },
      "source": [
        "# Results for SGD Classifier\n",
        "\n",
        "sgd.fit(X_train_neu, Y_train_neu)\n",
        "Y_sgd_pred_neu = sgd.predict(X_test_neu)\n",
        "print('Testing accuracy while using SGD Classifier %s' % accuracy_score(Y_test_neu, Y_sgd_pred_neu))\n",
        "print('Testing F1 score while using SGD Classifier: {}'.format(f1_score(Y_test_neu, Y_sgd_pred_neu, average='weighted')))"
      ],
      "execution_count": null,
      "outputs": [
        {
          "output_type": "stream",
          "text": [
            "Testing accuracy while using SGD Classifier 0.4898785425101215\n",
            "Testing F1 score while using SGD Classifier: 0.48765009009542537\n"
          ],
          "name": "stdout"
        }
      ]
    },
    {
      "cell_type": "code",
      "metadata": {
        "id": "i5uYCFMhZ2Ms",
        "outputId": "87e42074-72c9-4e38-eb41-e86e95d3405c",
        "colab": {
          "base_uri": "https://localhost:8080/",
          "height": 54
        }
      },
      "source": [
        "# Results for Passive Aggressive Classifier\n",
        "\n",
        "pac.fit(X_train_neu, Y_train_neu)\n",
        "Y_pac_pred_neu = pac.predict(X_test_neu)\n",
        "print('Testing accuracy while using Passive Aggressive Classifier %s' % accuracy_score(Y_test_neu, Y_pac_pred_neu))\n",
        "print('Testing F1 score while using Passive Aggressive Classifier: {}'.format(f1_score(Y_test_neu, Y_pac_pred_neu, average='weighted')))"
      ],
      "execution_count": null,
      "outputs": [
        {
          "output_type": "stream",
          "text": [
            "Testing accuracy while using Passive Aggressive Classifier 0.4898785425101215\n",
            "Testing F1 score while using Passive Aggressive Classifier: 0.48765009009542537\n"
          ],
          "name": "stdout"
        }
      ]
    },
    {
      "cell_type": "code",
      "metadata": {
        "id": "kPvC3oGzYg9h",
        "outputId": "ad3271e0-72c3-44e9-94f9-97af774bade2",
        "colab": {
          "base_uri": "https://localhost:8080/",
          "height": 54
        }
      },
      "source": [
        "# Results for Ridge Classifier\n",
        "\n",
        "rc.fit(X_train_neu, Y_train_neu)\n",
        "Y_rc_pred_neu = rc.predict(X_test_neu)\n",
        "print('Testing accuracy while using Ridge Classifier %s' % accuracy_score(Y_test_neu, Y_rc_pred_neu))\n",
        "print('Testing F1 score while using Ridge Classifier: {}'.format(f1_score(Y_test_neu, Y_rc_pred_neu, average='weighted')))"
      ],
      "execution_count": null,
      "outputs": [
        {
          "output_type": "stream",
          "text": [
            "Testing accuracy while using Ridge Classifier 0.5222672064777328\n",
            "Testing F1 score while using Ridge Classifier: 0.5213739990176843\n"
          ],
          "name": "stdout"
        }
      ]
    },
    {
      "cell_type": "code",
      "metadata": {
        "id": "51ZTXSh0Yhah",
        "outputId": "77b38e5b-cd03-4ba3-9191-bf80d5139460",
        "colab": {
          "base_uri": "https://localhost:8080/",
          "height": 54
        }
      },
      "source": [
        "# Results for Support Vector Classifier\n",
        "\n",
        "svc.fit(X_train_neu, Y_train_neu)\n",
        "Y_svc_pred_neu = svc.predict(X_test_neu)\n",
        "print('Testing accuracy while using Support Vector Classifier %s' % accuracy_score(Y_test_neu, Y_svc_pred_neu))\n",
        "print('Testing F1 score while using Support Vector Classifier: {}'.format(f1_score(Y_test_neu, Y_svc_pred_neu, average='weighted')))"
      ],
      "execution_count": null,
      "outputs": [
        {
          "output_type": "stream",
          "text": [
            "Testing accuracy while using Support Vector Classifier 0.4898785425101215\n",
            "Testing F1 score while using Support Vector Classifier: 0.40475774059197556\n"
          ],
          "name": "stdout"
        }
      ]
    },
    {
      "cell_type": "code",
      "metadata": {
        "id": "iarf1Po2Yh1D",
        "outputId": "7362cd9f-bbd2-4354-e175-2ac98a5e98ac",
        "colab": {
          "base_uri": "https://localhost:8080/",
          "height": 54
        }
      },
      "source": [
        "# Results for XGBoost Algorithm\n",
        "\n",
        "xgbc.fit(np.array(X_train_neu), Y_train_neu)\n",
        "xgb_predict_neu = xgbc.predict(np.array(X_test_neu))\n",
        "print('Testing accuracy while using XGBoost Algorithm %s' % accuracy_score(Y_test_neu,xgb_predict_neu))\n",
        "print('Testing F1 score while using XGBoost Algorithm: {}'.format(f1_score(Y_test_neu, xgb_predict_neu, average='weighted')))"
      ],
      "execution_count": null,
      "outputs": [
        {
          "output_type": "stream",
          "text": [
            "Testing accuracy while using XGBoost Algorithm 0.5161943319838057\n",
            "Testing F1 score while using XGBoost Algorithm: 0.511940302713243\n"
          ],
          "name": "stdout"
        }
      ]
    },
    {
      "cell_type": "code",
      "metadata": {
        "id": "xfJA466rYkJY"
      },
      "source": [
        "hard_voting_neu = VotingClassifier(estimators=[('LR', logreg), ('SGD', sgd), ('XGBC', xgbc), ('SVC', svc), ('LGCV', lgcv)], voting='hard')\n",
        "soft_voting_neu = VotingClassifier(estimators=[('LR', logreg), ('SGD', sgd), ('XGBC', xgbc), ('SVC', svc), ('LGCV', lgcv)], voting='soft')"
      ],
      "execution_count": null,
      "outputs": []
    },
    {
      "cell_type": "code",
      "metadata": {
        "id": "IaEBshbWYiOp",
        "outputId": "712455b1-4726-43ee-cb42-31cd15a68a4e",
        "colab": {
          "base_uri": "https://localhost:8080/",
          "height": 1000
        }
      },
      "source": [
        "hard_voting_neu.fit(np.array(X_train_neu), Y_train_neu)\n",
        "soft_voting_neu.fit(np.array(X_train_neu), Y_train_neu)"
      ],
      "execution_count": null,
      "outputs": [
        {
          "output_type": "stream",
          "text": [
            "/usr/local/lib/python3.6/dist-packages/sklearn/linear_model/logistic.py:947: ConvergenceWarning: lbfgs failed to converge. Increase the number of iterations.\n",
            "  \"of iterations.\", ConvergenceWarning)\n",
            "/usr/local/lib/python3.6/dist-packages/sklearn/linear_model/logistic.py:947: ConvergenceWarning: lbfgs failed to converge. Increase the number of iterations.\n",
            "  \"of iterations.\", ConvergenceWarning)\n",
            "/usr/local/lib/python3.6/dist-packages/sklearn/linear_model/logistic.py:947: ConvergenceWarning: lbfgs failed to converge. Increase the number of iterations.\n",
            "  \"of iterations.\", ConvergenceWarning)\n",
            "/usr/local/lib/python3.6/dist-packages/sklearn/linear_model/logistic.py:947: ConvergenceWarning: lbfgs failed to converge. Increase the number of iterations.\n",
            "  \"of iterations.\", ConvergenceWarning)\n",
            "/usr/local/lib/python3.6/dist-packages/sklearn/linear_model/logistic.py:947: ConvergenceWarning: lbfgs failed to converge. Increase the number of iterations.\n",
            "  \"of iterations.\", ConvergenceWarning)\n",
            "/usr/local/lib/python3.6/dist-packages/sklearn/linear_model/logistic.py:947: ConvergenceWarning: lbfgs failed to converge. Increase the number of iterations.\n",
            "  \"of iterations.\", ConvergenceWarning)\n",
            "/usr/local/lib/python3.6/dist-packages/sklearn/linear_model/logistic.py:947: ConvergenceWarning: lbfgs failed to converge. Increase the number of iterations.\n",
            "  \"of iterations.\", ConvergenceWarning)\n",
            "/usr/local/lib/python3.6/dist-packages/sklearn/linear_model/logistic.py:947: ConvergenceWarning: lbfgs failed to converge. Increase the number of iterations.\n",
            "  \"of iterations.\", ConvergenceWarning)\n",
            "/usr/local/lib/python3.6/dist-packages/sklearn/linear_model/logistic.py:947: ConvergenceWarning: lbfgs failed to converge. Increase the number of iterations.\n",
            "  \"of iterations.\", ConvergenceWarning)\n",
            "/usr/local/lib/python3.6/dist-packages/sklearn/linear_model/logistic.py:947: ConvergenceWarning: lbfgs failed to converge. Increase the number of iterations.\n",
            "  \"of iterations.\", ConvergenceWarning)\n",
            "/usr/local/lib/python3.6/dist-packages/sklearn/linear_model/logistic.py:947: ConvergenceWarning: lbfgs failed to converge. Increase the number of iterations.\n",
            "  \"of iterations.\", ConvergenceWarning)\n",
            "/usr/local/lib/python3.6/dist-packages/sklearn/linear_model/logistic.py:947: ConvergenceWarning: lbfgs failed to converge. Increase the number of iterations.\n",
            "  \"of iterations.\", ConvergenceWarning)\n",
            "/usr/local/lib/python3.6/dist-packages/sklearn/linear_model/logistic.py:947: ConvergenceWarning: lbfgs failed to converge. Increase the number of iterations.\n",
            "  \"of iterations.\", ConvergenceWarning)\n",
            "/usr/local/lib/python3.6/dist-packages/sklearn/linear_model/logistic.py:947: ConvergenceWarning: lbfgs failed to converge. Increase the number of iterations.\n",
            "  \"of iterations.\", ConvergenceWarning)\n",
            "/usr/local/lib/python3.6/dist-packages/sklearn/linear_model/logistic.py:947: ConvergenceWarning: lbfgs failed to converge. Increase the number of iterations.\n",
            "  \"of iterations.\", ConvergenceWarning)\n",
            "/usr/local/lib/python3.6/dist-packages/sklearn/linear_model/logistic.py:947: ConvergenceWarning: lbfgs failed to converge. Increase the number of iterations.\n",
            "  \"of iterations.\", ConvergenceWarning)\n",
            "/usr/local/lib/python3.6/dist-packages/sklearn/linear_model/logistic.py:947: ConvergenceWarning: lbfgs failed to converge. Increase the number of iterations.\n",
            "  \"of iterations.\", ConvergenceWarning)\n",
            "/usr/local/lib/python3.6/dist-packages/sklearn/linear_model/logistic.py:947: ConvergenceWarning: lbfgs failed to converge. Increase the number of iterations.\n",
            "  \"of iterations.\", ConvergenceWarning)\n",
            "/usr/local/lib/python3.6/dist-packages/sklearn/linear_model/logistic.py:947: ConvergenceWarning: lbfgs failed to converge. Increase the number of iterations.\n",
            "  \"of iterations.\", ConvergenceWarning)\n",
            "/usr/local/lib/python3.6/dist-packages/sklearn/linear_model/logistic.py:947: ConvergenceWarning: lbfgs failed to converge. Increase the number of iterations.\n",
            "  \"of iterations.\", ConvergenceWarning)\n",
            "/usr/local/lib/python3.6/dist-packages/sklearn/linear_model/logistic.py:947: ConvergenceWarning: lbfgs failed to converge. Increase the number of iterations.\n",
            "  \"of iterations.\", ConvergenceWarning)\n",
            "/usr/local/lib/python3.6/dist-packages/sklearn/linear_model/logistic.py:947: ConvergenceWarning: lbfgs failed to converge. Increase the number of iterations.\n",
            "  \"of iterations.\", ConvergenceWarning)\n",
            "/usr/local/lib/python3.6/dist-packages/sklearn/linear_model/logistic.py:947: ConvergenceWarning: lbfgs failed to converge. Increase the number of iterations.\n",
            "  \"of iterations.\", ConvergenceWarning)\n",
            "/usr/local/lib/python3.6/dist-packages/sklearn/linear_model/logistic.py:947: ConvergenceWarning: lbfgs failed to converge. Increase the number of iterations.\n",
            "  \"of iterations.\", ConvergenceWarning)\n",
            "/usr/local/lib/python3.6/dist-packages/sklearn/linear_model/logistic.py:947: ConvergenceWarning: lbfgs failed to converge. Increase the number of iterations.\n",
            "  \"of iterations.\", ConvergenceWarning)\n",
            "/usr/local/lib/python3.6/dist-packages/sklearn/linear_model/logistic.py:947: ConvergenceWarning: lbfgs failed to converge. Increase the number of iterations.\n",
            "  \"of iterations.\", ConvergenceWarning)\n",
            "/usr/local/lib/python3.6/dist-packages/sklearn/linear_model/logistic.py:947: ConvergenceWarning: lbfgs failed to converge. Increase the number of iterations.\n",
            "  \"of iterations.\", ConvergenceWarning)\n",
            "/usr/local/lib/python3.6/dist-packages/sklearn/linear_model/logistic.py:947: ConvergenceWarning: lbfgs failed to converge. Increase the number of iterations.\n",
            "  \"of iterations.\", ConvergenceWarning)\n",
            "/usr/local/lib/python3.6/dist-packages/sklearn/linear_model/logistic.py:947: ConvergenceWarning: lbfgs failed to converge. Increase the number of iterations.\n",
            "  \"of iterations.\", ConvergenceWarning)\n",
            "/usr/local/lib/python3.6/dist-packages/sklearn/linear_model/logistic.py:947: ConvergenceWarning: lbfgs failed to converge. Increase the number of iterations.\n",
            "  \"of iterations.\", ConvergenceWarning)\n",
            "/usr/local/lib/python3.6/dist-packages/sklearn/linear_model/logistic.py:947: ConvergenceWarning: lbfgs failed to converge. Increase the number of iterations.\n",
            "  \"of iterations.\", ConvergenceWarning)\n",
            "/usr/local/lib/python3.6/dist-packages/sklearn/linear_model/logistic.py:947: ConvergenceWarning: lbfgs failed to converge. Increase the number of iterations.\n",
            "  \"of iterations.\", ConvergenceWarning)\n",
            "/usr/local/lib/python3.6/dist-packages/sklearn/linear_model/logistic.py:947: ConvergenceWarning: lbfgs failed to converge. Increase the number of iterations.\n",
            "  \"of iterations.\", ConvergenceWarning)\n",
            "/usr/local/lib/python3.6/dist-packages/sklearn/linear_model/logistic.py:947: ConvergenceWarning: lbfgs failed to converge. Increase the number of iterations.\n",
            "  \"of iterations.\", ConvergenceWarning)\n",
            "/usr/local/lib/python3.6/dist-packages/sklearn/linear_model/logistic.py:947: ConvergenceWarning: lbfgs failed to converge. Increase the number of iterations.\n",
            "  \"of iterations.\", ConvergenceWarning)\n",
            "/usr/local/lib/python3.6/dist-packages/sklearn/linear_model/logistic.py:947: ConvergenceWarning: lbfgs failed to converge. Increase the number of iterations.\n",
            "  \"of iterations.\", ConvergenceWarning)\n",
            "/usr/local/lib/python3.6/dist-packages/sklearn/linear_model/logistic.py:947: ConvergenceWarning: lbfgs failed to converge. Increase the number of iterations.\n",
            "  \"of iterations.\", ConvergenceWarning)\n",
            "/usr/local/lib/python3.6/dist-packages/sklearn/linear_model/logistic.py:947: ConvergenceWarning: lbfgs failed to converge. Increase the number of iterations.\n",
            "  \"of iterations.\", ConvergenceWarning)\n",
            "/usr/local/lib/python3.6/dist-packages/sklearn/linear_model/logistic.py:947: ConvergenceWarning: lbfgs failed to converge. Increase the number of iterations.\n",
            "  \"of iterations.\", ConvergenceWarning)\n",
            "/usr/local/lib/python3.6/dist-packages/sklearn/linear_model/logistic.py:947: ConvergenceWarning: lbfgs failed to converge. Increase the number of iterations.\n",
            "  \"of iterations.\", ConvergenceWarning)\n"
          ],
          "name": "stderr"
        },
        {
          "output_type": "execute_result",
          "data": {
            "text/plain": [
              "VotingClassifier(estimators=[('LR',\n",
              "                              LogisticRegression(C=100000.0, class_weight=None,\n",
              "                                                 dual=False, fit_intercept=True,\n",
              "                                                 intercept_scaling=1,\n",
              "                                                 l1_ratio=None, max_iter=750,\n",
              "                                                 multi_class='warn', n_jobs=1,\n",
              "                                                 penalty='l2',\n",
              "                                                 random_state=None,\n",
              "                                                 solver='lbfgs', tol=0.0001,\n",
              "                                                 verbose=0, warm_start=False)),\n",
              "                             ('SGD',\n",
              "                              SGDClassifier(alpha=0.0001, average=False,\n",
              "                                            class_weight=None,\n",
              "                                            early_stop...\n",
              "                                  random_state=None, shrinking=True, tol=0.001,\n",
              "                                  verbose=False)),\n",
              "                             ('LGCV',\n",
              "                              LogisticRegressionCV(Cs=10, class_weight=None,\n",
              "                                                   cv=5, dual=False,\n",
              "                                                   fit_intercept=True,\n",
              "                                                   intercept_scaling=1.0,\n",
              "                                                   l1_ratios=None, max_iter=100,\n",
              "                                                   multi_class='ovr',\n",
              "                                                   n_jobs=None, penalty='l2',\n",
              "                                                   random_state=0, refit=True,\n",
              "                                                   scoring=None, solver='lbfgs',\n",
              "                                                   tol=0.0001, verbose=0))],\n",
              "                 flatten_transform=True, n_jobs=None, voting='soft',\n",
              "                 weights=None)"
            ]
          },
          "metadata": {
            "tags": []
          },
          "execution_count": 176
        }
      ]
    },
    {
      "cell_type": "code",
      "metadata": {
        "id": "AEizfDYWYirb"
      },
      "source": [
        "Y_hard_voting_neu = hard_voting_neu.predict(np.array(X_test_neu))\n",
        "Y_soft_voting_neu = soft_voting_neu.predict(np.array(X_test_neu))"
      ],
      "execution_count": null,
      "outputs": []
    },
    {
      "cell_type": "code",
      "metadata": {
        "id": "FeXk7y6B0bbg",
        "outputId": "f9b256e5-b2fe-47a4-c87c-833959217ef1",
        "colab": {
          "base_uri": "https://localhost:8080/",
          "height": 54
        }
      },
      "source": [
        "print('Testing accuracy while using Ensemble Model with Hard Voting %s' % accuracy_score(Y_test_neu,Y_hard_voting_neu))\n",
        "print('Testing F1 score while using Ensemble Model with Hard Voting: {}'.format(f1_score(Y_test_neu, Y_hard_voting_neu, average='weighted')))"
      ],
      "execution_count": null,
      "outputs": [
        {
          "output_type": "stream",
          "text": [
            "Testing accuracy while using Ensemble Model with Hard Voting0.5060728744939271\n",
            "Testing F1 score while using Ensemble Model with Hard Voting: 0.4900025182573659\n"
          ],
          "name": "stdout"
        }
      ]
    },
    {
      "cell_type": "code",
      "metadata": {
        "id": "NV85kkgD0bz4",
        "outputId": "4c1366f1-7d9e-4e6b-d1fd-e50586049b31",
        "colab": {
          "base_uri": "https://localhost:8080/",
          "height": 54
        }
      },
      "source": [
        "print('Testing accuracy while using Ensemble Model with Soft Voting %s' % accuracy_score(Y_test_neu,Y_soft_voting_neu))\n",
        "print('Testing F1 score while using Ensemble Model with S Voting: {}'.format(f1_score(Y_test_neu, Y_soft_voting_neu, average='weighted')))"
      ],
      "execution_count": null,
      "outputs": [
        {
          "output_type": "stream",
          "text": [
            "Testing accuracy while using Ensemble Model with Hard Voting0.4959514170040486\n",
            "Testing F1 score while using Ensemble Model with Hard Voting: 0.4932895745068139\n"
          ],
          "name": "stdout"
        }
      ]
    },
    {
      "cell_type": "markdown",
      "metadata": {
        "id": "RfsIGss61k8m"
      },
      "source": [
        "**Out of all the models shown above, Ridge Classifier has the best Accuracy and F1-Score, 52.22% and 52.12% respectively. However, for cNEU, the State-of-the-Art model has an accuracy of 59.38%. Thus, our model fails to match the SOTA Accuracy, by 7.16%.**"
      ]
    },
    {
      "cell_type": "markdown",
      "metadata": {
        "id": "uK9SLYc4TmxD"
      },
      "source": [
        "**We will try and predict the personality trait of Aggression(cAGR) for the given dataset**"
      ]
    },
    {
      "cell_type": "code",
      "metadata": {
        "id": "CiE0PhFYMIKS"
      },
      "source": [
        "# Training and Test Documents for Agression\n",
        "train_tagged_agr = train.apply(lambda r: TaggedDocument(words=normalize_text(r['TEXT']), tags=[r.cAGR]), axis=1)\n",
        "test_tagged_agr = test.apply(lambda r: TaggedDocument(words=normalize_text(r['TEXT']), tags=[r.cAGR]), axis=1)"
      ],
      "execution_count": null,
      "outputs": []
    },
    {
      "cell_type": "code",
      "metadata": {
        "id": "gelcVB9qVGZF",
        "outputId": "ccbfa955-9681-427a-b606-29da591378a4",
        "colab": {
          "base_uri": "https://localhost:8080/",
          "height": 55
        }
      },
      "source": [
        "train_tagged_agr.values[30]"
      ],
      "execution_count": null,
      "outputs": [
        {
          "output_type": "execute_result",
          "data": {
            "text/plain": [
              "TaggedDocument(words=['feel', 'really', 'crappy', 'today', 'get', 'enough', 'sleep', 'last', 'night', 'think', 'part', 'texas', 'loss', 'saturday', 'especially', 'way', 'loss', 'least', 'cowboys', 'last', 'night', 'far', 'home', 'sick', 'might', 'roommate', 'go', 'high', 'school', 'also', 'able', 'talk', 'parent', 'lot', 'instant', 'chat', 'mom', 'wnts', 'get', 'web', 'cam', 'actually', 'see', 'think', 'hard', 'time', 'leave', 'first', 'child', 'leave', 'home', 'the', 'network', 'really', 'cool', 'the', 'connect', 'rat', 'really', 'fast', 'crummy', 'modem', 'home', 'dad', 'go', 'get', 'dsl', 'live', 'far', 'central', 'office', 'suck', 'really', 'hungry', 'hungry', 'morning', 'halfway', 'class', 'stomach', 'start', 'hurt', 'probably', 'use', 'sleep', 'late', 'eat', 'breakfast', 'min', 'take', 'english', 'year', 'good', 'like', 'write', 'paper', 'much', 'you', 'might', 'write', 'paper', 'feel', 'perfectly', 'valid', 'turn', 'wrong', 'yet', 'put', 'much', 'work', 'min', 'milk', 'taste', 'pretty', 'good', 'use', 'home', 'roomate', 'buy', 'full', 'vitamin', 'milk', 'yum', 'hope', 'write', 'length', 'sensation', 'block', 'min', 'time', 'almost', 'might', 'take', 'nap', 'next', 'class', 'another', 'hours', 'class', 'fridays', 'cool', 'min', 'alarm', 'set', 'min', 'would', 'write', 'much', 'time'], tags=[1])"
            ]
          },
          "metadata": {
            "tags": []
          },
          "execution_count": 21
        }
      ]
    },
    {
      "cell_type": "code",
      "metadata": {
        "id": "siMqhAyUVGyX",
        "outputId": "e57ad010-d25f-40fb-8a06-bff134ac9cf6",
        "colab": {
          "base_uri": "https://localhost:8080/",
          "height": 35
        }
      },
      "source": [
        "model_dbow = Doc2Vec(dm=0, vector_size=230, negative=5, hs=1, min_count=2, sample = 0, workers=cores)\n",
        "model_dbow.build_vocab([x for x in tqdm(train_tagged_agr.values)])"
      ],
      "execution_count": null,
      "outputs": [
        {
          "output_type": "stream",
          "text": [
            "100%|██████████| 1973/1973 [00:00<00:00, 323067.02it/s]\n"
          ],
          "name": "stderr"
        }
      ]
    },
    {
      "cell_type": "code",
      "metadata": {
        "id": "-yGv95XxVHLg",
        "outputId": "d5b79f7c-488e-4a18-ebb4-dd1ca06066c4",
        "colab": {
          "base_uri": "https://localhost:8080/",
          "height": 599
        }
      },
      "source": [
        "%%time\n",
        "for epoch in range(30):\n",
        "    model_dbow.train(utils.shuffle([x for x in tqdm(train_tagged_agr.values)]), total_examples=len(train_tagged_agr.values), epochs=1)\n",
        "    model_dbow.alpha -= 0.02\n",
        "    model_dbow.min_alpha = model_dbow.alpha"
      ],
      "execution_count": null,
      "outputs": [
        {
          "output_type": "stream",
          "text": [
            "100%|██████████| 1973/1973 [00:00<00:00, 764114.66it/s]\n",
            "100%|██████████| 1973/1973 [00:00<00:00, 662346.87it/s]\n",
            "100%|██████████| 1973/1973 [00:00<00:00, 394459.31it/s]\n",
            "100%|██████████| 1973/1973 [00:00<00:00, 1372820.47it/s]\n",
            "100%|██████████| 1973/1973 [00:00<00:00, 823664.95it/s]\n",
            "100%|██████████| 1973/1973 [00:00<00:00, 1825179.05it/s]\n",
            "100%|██████████| 1973/1973 [00:00<00:00, 1775066.88it/s]\n",
            "100%|██████████| 1973/1973 [00:00<00:00, 524786.72it/s]\n",
            "100%|██████████| 1973/1973 [00:00<00:00, 593300.96it/s]\n",
            "100%|██████████| 1973/1973 [00:00<00:00, 734869.18it/s]\n",
            "100%|██████████| 1973/1973 [00:00<00:00, 488943.09it/s]\n",
            "100%|██████████| 1973/1973 [00:00<00:00, 379464.50it/s]\n",
            "100%|██████████| 1973/1973 [00:00<00:00, 561307.86it/s]\n",
            "100%|██████████| 1973/1973 [00:00<00:00, 2117002.25it/s]\n",
            "100%|██████████| 1973/1973 [00:00<00:00, 1489714.09it/s]\n",
            "100%|██████████| 1973/1973 [00:00<00:00, 1678572.37it/s]\n",
            "100%|██████████| 1973/1973 [00:00<00:00, 449479.21it/s]\n",
            "100%|██████████| 1973/1973 [00:00<00:00, 788956.22it/s]\n",
            "100%|██████████| 1973/1973 [00:00<00:00, 453320.28it/s]\n",
            "100%|██████████| 1973/1973 [00:00<00:00, 523260.31it/s]\n",
            "100%|██████████| 1973/1973 [00:00<00:00, 485102.40it/s]\n",
            "100%|██████████| 1973/1973 [00:00<00:00, 1843475.56it/s]\n",
            "100%|██████████| 1973/1973 [00:00<00:00, 448894.05it/s]\n",
            "100%|██████████| 1973/1973 [00:00<00:00, 1915149.69it/s]\n",
            "100%|██████████| 1973/1973 [00:00<00:00, 633593.28it/s]\n",
            "100%|██████████| 1973/1973 [00:00<00:00, 1409531.90it/s]\n",
            "100%|██████████| 1973/1973 [00:00<00:00, 452997.69it/s]\n",
            "100%|██████████| 1973/1973 [00:00<00:00, 962139.49it/s]\n",
            "100%|██████████| 1973/1973 [00:00<00:00, 963035.24it/s]\n",
            "100%|██████████| 1973/1973 [00:00<00:00, 948356.84it/s]\n"
          ],
          "name": "stderr"
        },
        {
          "output_type": "stream",
          "text": [
            "CPU times: user 1min 6s, sys: 479 ms, total: 1min 6s\n",
            "Wall time: 35.1 s\n"
          ],
          "name": "stdout"
        }
      ]
    },
    {
      "cell_type": "code",
      "metadata": {
        "id": "fKd1c0ATVHlt"
      },
      "source": [
        "def vec_for_learning(model, tagged_docs):\n",
        "    sents = tagged_docs.values\n",
        "    targets, regressors = zip(*[(doc.tags[0], model.infer_vector(doc.words, steps=20)) for doc in sents])\n",
        "    return targets, regressors"
      ],
      "execution_count": null,
      "outputs": []
    },
    {
      "cell_type": "code",
      "metadata": {
        "id": "5V606lFUVIDd"
      },
      "source": [
        "#Creating Train and Test Paragraph Vectors for Distributed Bag of Words Model\n",
        "Y_train_agr, X_train_agr = vec_for_learning(model_dbow, train_tagged_agr)\n",
        "Y_test_agr, X_test_agr = vec_for_learning(model_dbow, test_tagged_agr)"
      ],
      "execution_count": null,
      "outputs": []
    },
    {
      "cell_type": "code",
      "metadata": {
        "id": "1PSL7W4FVIeK",
        "outputId": "e7a63874-2e61-4cdd-b023-759fd0423020",
        "colab": {
          "base_uri": "https://localhost:8080/",
          "height": 110
        }
      },
      "source": [
        "# Results for Logistic Regression \n",
        "\n",
        "logreg.fit(X_train_agr, Y_train_agr)\n",
        "Y_lg_pred_agr = logreg.predict(X_test_agr)\n",
        "print('Testing accuracy while using Logistic Regression %s' % accuracy_score(Y_test_agr, Y_lg_pred_agr))\n",
        "print('Testing F1 score while using Logistic Regression: {}'.format(f1_score(Y_test_agr, Y_lg_pred_agr, average='weighted')))"
      ],
      "execution_count": null,
      "outputs": [
        {
          "output_type": "stream",
          "text": [
            "Testing accuracy while using Logistic Regression 0.5506072874493927\n",
            "Testing F1 score while using Logistic Regression: 0.5501740874539145\n"
          ],
          "name": "stdout"
        },
        {
          "output_type": "stream",
          "text": [
            "/usr/local/lib/python3.6/dist-packages/sklearn/linear_model/logistic.py:947: ConvergenceWarning: lbfgs failed to converge. Increase the number of iterations.\n",
            "  \"of iterations.\", ConvergenceWarning)\n"
          ],
          "name": "stderr"
        }
      ]
    },
    {
      "cell_type": "code",
      "metadata": {
        "id": "DlP3Myl4VI4Z",
        "outputId": "d6c38abf-caf0-404f-9961-0671409e632b",
        "colab": {
          "base_uri": "https://localhost:8080/",
          "height": 54
        }
      },
      "source": [
        "# Results for SGD Classifier\n",
        "\n",
        "sgd.fit(X_train_agr, Y_train_agr)\n",
        "Y_sgd_pred_agr = sgd.predict(X_test_agr)\n",
        "print('Testing accuracy while using SGD Classifier %s' % accuracy_score(Y_test_agr, Y_sgd_pred_agr))\n",
        "print('Testing F1 score while using SGD Classifier: {}'.format(f1_score(Y_test_agr, Y_sgd_pred_agr, average='weighted')))"
      ],
      "execution_count": null,
      "outputs": [
        {
          "output_type": "stream",
          "text": [
            "Testing accuracy while using SGD Classifier 0.520242914979757\n",
            "Testing F1 score while using SGD Classifier: 0.4631701179264753\n"
          ],
          "name": "stdout"
        }
      ]
    },
    {
      "cell_type": "code",
      "metadata": {
        "id": "nZG6ckGyau6A",
        "outputId": "5e799245-3cfe-477f-e76a-3a212d3f957c",
        "colab": {
          "base_uri": "https://localhost:8080/",
          "height": 54
        }
      },
      "source": [
        "# Results for Passive Aggressive Classifier\n",
        "\n",
        "pac.fit(X_train_agr, Y_train_agr)\n",
        "Y_pac_pred_agr = pac.predict(X_test_agr)\n",
        "print('Testing accuracy while using Passive Aggressive Classifier %s' % accuracy_score(Y_test_agr, Y_pac_pred_agr))\n",
        "print('Testing F1 score while using Passive Aggressive Classifier: {}'.format(f1_score(Y_test_agr, Y_pac_pred_agr, average='weighted')))"
      ],
      "execution_count": null,
      "outputs": [
        {
          "output_type": "stream",
          "text": [
            "Testing accuracy while using Passive Aggressive Classifier 0.4979757085020243\n",
            "Testing F1 score while using Passive Aggressive Classifier: 0.45504085279753953\n"
          ],
          "name": "stdout"
        }
      ]
    },
    {
      "cell_type": "code",
      "metadata": {
        "id": "ncNxmZXZavSu",
        "outputId": "bd00f5b4-3b87-4af9-e4cc-7137c208f5aa",
        "colab": {
          "base_uri": "https://localhost:8080/",
          "height": 54
        }
      },
      "source": [
        "# Results for Ridge Classifier\n",
        "\n",
        "rc.fit(X_train_agr, Y_train_agr)\n",
        "Y_rc_pred_agr = rc.predict(X_test_agr)\n",
        "print('Testing accuracy while using Ridge Classifier %s' % accuracy_score(Y_test_agr, Y_rc_pred_agr))\n",
        "print('Testing F1 score while using Ridge Classifier: {}'.format(f1_score(Y_test_agr, Y_rc_pred_agr, average='weighted')))"
      ],
      "execution_count": null,
      "outputs": [
        {
          "output_type": "stream",
          "text": [
            "Testing accuracy while using Ridge Classifier 0.5303643724696356\n",
            "Testing F1 score while using Ridge Classifier: 0.5278161510886995\n"
          ],
          "name": "stdout"
        }
      ]
    },
    {
      "cell_type": "code",
      "metadata": {
        "id": "ZMDBT8Y7avr3",
        "outputId": "cad7c6fe-f57a-4132-dbc3-4bedeed5211d",
        "colab": {
          "base_uri": "https://localhost:8080/",
          "height": 54
        }
      },
      "source": [
        "# Results for Support Vector Classifier\n",
        "\n",
        "svc.fit(X_train_agr, Y_train_agr)\n",
        "Y_svc_pred_agr = svc.predict(X_test_agr)\n",
        "print('Testing accuracy while using Support Vector Classifier %s' % accuracy_score(Y_test_agr, Y_svc_pred_agr))\n",
        "print('Testing F1 score while using Support Vector Classifier: {}'.format(f1_score(Y_test_agr, Y_svc_pred_agr, average='weighted')))"
      ],
      "execution_count": null,
      "outputs": [
        {
          "output_type": "stream",
          "text": [
            "Testing accuracy while using Support Vector Classifier 0.5323886639676113\n",
            "Testing F1 score while using Support Vector Classifier: 0.4567815204934318\n"
          ],
          "name": "stdout"
        }
      ]
    },
    {
      "cell_type": "code",
      "metadata": {
        "id": "ca-IeE2bawD2",
        "outputId": "2b304a75-14b7-43cd-8be7-a04b264f2df1",
        "colab": {
          "base_uri": "https://localhost:8080/",
          "height": 54
        }
      },
      "source": [
        "# Results for XGBoost Algorithm\n",
        "xgbc.fit(np.array(X_train_agr), Y_train_agr)\n",
        "xgb_predict_agr = xgbc.predict(np.array(X_test_agr))\n",
        "\n",
        "print('Testing accuracy while using XGBoost Algorithm %s' % accuracy_score(Y_test_agr,xgb_predict_agr))\n",
        "print('Testing F1 score while using XGBoost Algorithm: {}'.format(f1_score(Y_test_agr, xgb_predict_agr, average='weighted')))"
      ],
      "execution_count": null,
      "outputs": [
        {
          "output_type": "stream",
          "text": [
            "Testing accuracy while using XGBoost Algorithm 0.5344129554655871\n",
            "Testing F1 score while using XGBoost Algorithm: 0.5339641446594611\n"
          ],
          "name": "stdout"
        }
      ]
    },
    {
      "cell_type": "code",
      "metadata": {
        "id": "3Y9eeCxVawb3"
      },
      "source": [
        "hard_voting_agr = VotingClassifier(estimators=[('LR', logreg), ('SGD', sgd), ('XGBC', xgbc), ('SVC', svc), ('LGCV', lgcv)], voting='hard')\n",
        "soft_voting_agr = VotingClassifier(estimators=[('LR', logreg), ('SGD', sgd), ('XGBC', xgbc), ('SVC', svc), ('LGCV', lgcv)], voting='soft')"
      ],
      "execution_count": null,
      "outputs": []
    },
    {
      "cell_type": "code",
      "metadata": {
        "id": "MoDWi6LaawzO",
        "outputId": "97605c75-1894-411f-b98f-04fa69901895",
        "colab": {
          "base_uri": "https://localhost:8080/",
          "height": 1000
        }
      },
      "source": [
        "hard_voting_agr.fit(np.array(X_train_agr), Y_train_agr)\n",
        "soft_voting_agr.fit(np.array(X_train_agr), Y_train_agr)"
      ],
      "execution_count": null,
      "outputs": [
        {
          "output_type": "stream",
          "text": [
            "/usr/local/lib/python3.6/dist-packages/sklearn/linear_model/logistic.py:947: ConvergenceWarning: lbfgs failed to converge. Increase the number of iterations.\n",
            "  \"of iterations.\", ConvergenceWarning)\n",
            "/usr/local/lib/python3.6/dist-packages/sklearn/linear_model/logistic.py:947: ConvergenceWarning: lbfgs failed to converge. Increase the number of iterations.\n",
            "  \"of iterations.\", ConvergenceWarning)\n",
            "/usr/local/lib/python3.6/dist-packages/sklearn/linear_model/logistic.py:947: ConvergenceWarning: lbfgs failed to converge. Increase the number of iterations.\n",
            "  \"of iterations.\", ConvergenceWarning)\n",
            "/usr/local/lib/python3.6/dist-packages/sklearn/linear_model/logistic.py:947: ConvergenceWarning: lbfgs failed to converge. Increase the number of iterations.\n",
            "  \"of iterations.\", ConvergenceWarning)\n",
            "/usr/local/lib/python3.6/dist-packages/sklearn/linear_model/logistic.py:947: ConvergenceWarning: lbfgs failed to converge. Increase the number of iterations.\n",
            "  \"of iterations.\", ConvergenceWarning)\n",
            "/usr/local/lib/python3.6/dist-packages/sklearn/linear_model/logistic.py:947: ConvergenceWarning: lbfgs failed to converge. Increase the number of iterations.\n",
            "  \"of iterations.\", ConvergenceWarning)\n",
            "/usr/local/lib/python3.6/dist-packages/sklearn/linear_model/logistic.py:947: ConvergenceWarning: lbfgs failed to converge. Increase the number of iterations.\n",
            "  \"of iterations.\", ConvergenceWarning)\n",
            "/usr/local/lib/python3.6/dist-packages/sklearn/linear_model/logistic.py:947: ConvergenceWarning: lbfgs failed to converge. Increase the number of iterations.\n",
            "  \"of iterations.\", ConvergenceWarning)\n",
            "/usr/local/lib/python3.6/dist-packages/sklearn/linear_model/logistic.py:947: ConvergenceWarning: lbfgs failed to converge. Increase the number of iterations.\n",
            "  \"of iterations.\", ConvergenceWarning)\n",
            "/usr/local/lib/python3.6/dist-packages/sklearn/linear_model/logistic.py:947: ConvergenceWarning: lbfgs failed to converge. Increase the number of iterations.\n",
            "  \"of iterations.\", ConvergenceWarning)\n",
            "/usr/local/lib/python3.6/dist-packages/sklearn/linear_model/logistic.py:947: ConvergenceWarning: lbfgs failed to converge. Increase the number of iterations.\n",
            "  \"of iterations.\", ConvergenceWarning)\n",
            "/usr/local/lib/python3.6/dist-packages/sklearn/linear_model/logistic.py:947: ConvergenceWarning: lbfgs failed to converge. Increase the number of iterations.\n",
            "  \"of iterations.\", ConvergenceWarning)\n",
            "/usr/local/lib/python3.6/dist-packages/sklearn/linear_model/logistic.py:947: ConvergenceWarning: lbfgs failed to converge. Increase the number of iterations.\n",
            "  \"of iterations.\", ConvergenceWarning)\n",
            "/usr/local/lib/python3.6/dist-packages/sklearn/linear_model/logistic.py:947: ConvergenceWarning: lbfgs failed to converge. Increase the number of iterations.\n",
            "  \"of iterations.\", ConvergenceWarning)\n",
            "/usr/local/lib/python3.6/dist-packages/sklearn/linear_model/logistic.py:947: ConvergenceWarning: lbfgs failed to converge. Increase the number of iterations.\n",
            "  \"of iterations.\", ConvergenceWarning)\n",
            "/usr/local/lib/python3.6/dist-packages/sklearn/linear_model/logistic.py:947: ConvergenceWarning: lbfgs failed to converge. Increase the number of iterations.\n",
            "  \"of iterations.\", ConvergenceWarning)\n",
            "/usr/local/lib/python3.6/dist-packages/sklearn/linear_model/logistic.py:947: ConvergenceWarning: lbfgs failed to converge. Increase the number of iterations.\n",
            "  \"of iterations.\", ConvergenceWarning)\n",
            "/usr/local/lib/python3.6/dist-packages/sklearn/linear_model/logistic.py:947: ConvergenceWarning: lbfgs failed to converge. Increase the number of iterations.\n",
            "  \"of iterations.\", ConvergenceWarning)\n",
            "/usr/local/lib/python3.6/dist-packages/sklearn/linear_model/logistic.py:947: ConvergenceWarning: lbfgs failed to converge. Increase the number of iterations.\n",
            "  \"of iterations.\", ConvergenceWarning)\n",
            "/usr/local/lib/python3.6/dist-packages/sklearn/linear_model/logistic.py:947: ConvergenceWarning: lbfgs failed to converge. Increase the number of iterations.\n",
            "  \"of iterations.\", ConvergenceWarning)\n",
            "/usr/local/lib/python3.6/dist-packages/sklearn/linear_model/logistic.py:947: ConvergenceWarning: lbfgs failed to converge. Increase the number of iterations.\n",
            "  \"of iterations.\", ConvergenceWarning)\n",
            "/usr/local/lib/python3.6/dist-packages/sklearn/linear_model/logistic.py:947: ConvergenceWarning: lbfgs failed to converge. Increase the number of iterations.\n",
            "  \"of iterations.\", ConvergenceWarning)\n",
            "/usr/local/lib/python3.6/dist-packages/sklearn/linear_model/logistic.py:947: ConvergenceWarning: lbfgs failed to converge. Increase the number of iterations.\n",
            "  \"of iterations.\", ConvergenceWarning)\n",
            "/usr/local/lib/python3.6/dist-packages/sklearn/linear_model/logistic.py:947: ConvergenceWarning: lbfgs failed to converge. Increase the number of iterations.\n",
            "  \"of iterations.\", ConvergenceWarning)\n",
            "/usr/local/lib/python3.6/dist-packages/sklearn/linear_model/logistic.py:947: ConvergenceWarning: lbfgs failed to converge. Increase the number of iterations.\n",
            "  \"of iterations.\", ConvergenceWarning)\n",
            "/usr/local/lib/python3.6/dist-packages/sklearn/linear_model/logistic.py:947: ConvergenceWarning: lbfgs failed to converge. Increase the number of iterations.\n",
            "  \"of iterations.\", ConvergenceWarning)\n",
            "/usr/local/lib/python3.6/dist-packages/sklearn/linear_model/logistic.py:947: ConvergenceWarning: lbfgs failed to converge. Increase the number of iterations.\n",
            "  \"of iterations.\", ConvergenceWarning)\n",
            "/usr/local/lib/python3.6/dist-packages/sklearn/linear_model/logistic.py:947: ConvergenceWarning: lbfgs failed to converge. Increase the number of iterations.\n",
            "  \"of iterations.\", ConvergenceWarning)\n",
            "/usr/local/lib/python3.6/dist-packages/sklearn/linear_model/logistic.py:947: ConvergenceWarning: lbfgs failed to converge. Increase the number of iterations.\n",
            "  \"of iterations.\", ConvergenceWarning)\n",
            "/usr/local/lib/python3.6/dist-packages/sklearn/linear_model/logistic.py:947: ConvergenceWarning: lbfgs failed to converge. Increase the number of iterations.\n",
            "  \"of iterations.\", ConvergenceWarning)\n",
            "/usr/local/lib/python3.6/dist-packages/sklearn/linear_model/logistic.py:947: ConvergenceWarning: lbfgs failed to converge. Increase the number of iterations.\n",
            "  \"of iterations.\", ConvergenceWarning)\n",
            "/usr/local/lib/python3.6/dist-packages/sklearn/linear_model/logistic.py:947: ConvergenceWarning: lbfgs failed to converge. Increase the number of iterations.\n",
            "  \"of iterations.\", ConvergenceWarning)\n",
            "/usr/local/lib/python3.6/dist-packages/sklearn/linear_model/logistic.py:947: ConvergenceWarning: lbfgs failed to converge. Increase the number of iterations.\n",
            "  \"of iterations.\", ConvergenceWarning)\n",
            "/usr/local/lib/python3.6/dist-packages/sklearn/linear_model/logistic.py:947: ConvergenceWarning: lbfgs failed to converge. Increase the number of iterations.\n",
            "  \"of iterations.\", ConvergenceWarning)\n",
            "/usr/local/lib/python3.6/dist-packages/sklearn/linear_model/logistic.py:947: ConvergenceWarning: lbfgs failed to converge. Increase the number of iterations.\n",
            "  \"of iterations.\", ConvergenceWarning)\n",
            "/usr/local/lib/python3.6/dist-packages/sklearn/linear_model/logistic.py:947: ConvergenceWarning: lbfgs failed to converge. Increase the number of iterations.\n",
            "  \"of iterations.\", ConvergenceWarning)\n",
            "/usr/local/lib/python3.6/dist-packages/sklearn/linear_model/logistic.py:947: ConvergenceWarning: lbfgs failed to converge. Increase the number of iterations.\n",
            "  \"of iterations.\", ConvergenceWarning)\n",
            "/usr/local/lib/python3.6/dist-packages/sklearn/linear_model/logistic.py:947: ConvergenceWarning: lbfgs failed to converge. Increase the number of iterations.\n",
            "  \"of iterations.\", ConvergenceWarning)\n",
            "/usr/local/lib/python3.6/dist-packages/sklearn/linear_model/logistic.py:947: ConvergenceWarning: lbfgs failed to converge. Increase the number of iterations.\n",
            "  \"of iterations.\", ConvergenceWarning)\n",
            "/usr/local/lib/python3.6/dist-packages/sklearn/linear_model/logistic.py:947: ConvergenceWarning: lbfgs failed to converge. Increase the number of iterations.\n",
            "  \"of iterations.\", ConvergenceWarning)\n",
            "/usr/local/lib/python3.6/dist-packages/sklearn/linear_model/logistic.py:947: ConvergenceWarning: lbfgs failed to converge. Increase the number of iterations.\n",
            "  \"of iterations.\", ConvergenceWarning)\n",
            "/usr/local/lib/python3.6/dist-packages/sklearn/linear_model/logistic.py:947: ConvergenceWarning: lbfgs failed to converge. Increase the number of iterations.\n",
            "  \"of iterations.\", ConvergenceWarning)\n",
            "/usr/local/lib/python3.6/dist-packages/sklearn/linear_model/logistic.py:947: ConvergenceWarning: lbfgs failed to converge. Increase the number of iterations.\n",
            "  \"of iterations.\", ConvergenceWarning)\n",
            "/usr/local/lib/python3.6/dist-packages/sklearn/linear_model/logistic.py:947: ConvergenceWarning: lbfgs failed to converge. Increase the number of iterations.\n",
            "  \"of iterations.\", ConvergenceWarning)\n",
            "/usr/local/lib/python3.6/dist-packages/sklearn/linear_model/logistic.py:947: ConvergenceWarning: lbfgs failed to converge. Increase the number of iterations.\n",
            "  \"of iterations.\", ConvergenceWarning)\n",
            "/usr/local/lib/python3.6/dist-packages/sklearn/linear_model/logistic.py:947: ConvergenceWarning: lbfgs failed to converge. Increase the number of iterations.\n",
            "  \"of iterations.\", ConvergenceWarning)\n",
            "/usr/local/lib/python3.6/dist-packages/sklearn/linear_model/logistic.py:947: ConvergenceWarning: lbfgs failed to converge. Increase the number of iterations.\n",
            "  \"of iterations.\", ConvergenceWarning)\n",
            "/usr/local/lib/python3.6/dist-packages/sklearn/linear_model/logistic.py:947: ConvergenceWarning: lbfgs failed to converge. Increase the number of iterations.\n",
            "  \"of iterations.\", ConvergenceWarning)\n",
            "/usr/local/lib/python3.6/dist-packages/sklearn/linear_model/logistic.py:947: ConvergenceWarning: lbfgs failed to converge. Increase the number of iterations.\n",
            "  \"of iterations.\", ConvergenceWarning)\n",
            "/usr/local/lib/python3.6/dist-packages/sklearn/linear_model/logistic.py:947: ConvergenceWarning: lbfgs failed to converge. Increase the number of iterations.\n",
            "  \"of iterations.\", ConvergenceWarning)\n",
            "/usr/local/lib/python3.6/dist-packages/sklearn/linear_model/logistic.py:947: ConvergenceWarning: lbfgs failed to converge. Increase the number of iterations.\n",
            "  \"of iterations.\", ConvergenceWarning)\n",
            "/usr/local/lib/python3.6/dist-packages/sklearn/linear_model/logistic.py:947: ConvergenceWarning: lbfgs failed to converge. Increase the number of iterations.\n",
            "  \"of iterations.\", ConvergenceWarning)\n",
            "/usr/local/lib/python3.6/dist-packages/sklearn/linear_model/logistic.py:947: ConvergenceWarning: lbfgs failed to converge. Increase the number of iterations.\n",
            "  \"of iterations.\", ConvergenceWarning)\n",
            "/usr/local/lib/python3.6/dist-packages/sklearn/linear_model/logistic.py:947: ConvergenceWarning: lbfgs failed to converge. Increase the number of iterations.\n",
            "  \"of iterations.\", ConvergenceWarning)\n"
          ],
          "name": "stderr"
        },
        {
          "output_type": "execute_result",
          "data": {
            "text/plain": [
              "VotingClassifier(estimators=[('LR',\n",
              "                              LogisticRegression(C=100000.0, class_weight=None,\n",
              "                                                 dual=False, fit_intercept=True,\n",
              "                                                 intercept_scaling=1,\n",
              "                                                 l1_ratio=None, max_iter=750,\n",
              "                                                 multi_class='warn', n_jobs=1,\n",
              "                                                 penalty='l2',\n",
              "                                                 random_state=None,\n",
              "                                                 solver='lbfgs', tol=0.0001,\n",
              "                                                 verbose=0, warm_start=False)),\n",
              "                             ('SGD',\n",
              "                              SGDClassifier(alpha=0.0001, average=False,\n",
              "                                            class_weight=None,\n",
              "                                            early_stop...\n",
              "                                  random_state=None, shrinking=True, tol=0.001,\n",
              "                                  verbose=False)),\n",
              "                             ('LGCV',\n",
              "                              LogisticRegressionCV(Cs=10, class_weight=None,\n",
              "                                                   cv=5, dual=False,\n",
              "                                                   fit_intercept=True,\n",
              "                                                   intercept_scaling=1.0,\n",
              "                                                   l1_ratios=None, max_iter=100,\n",
              "                                                   multi_class='ovr',\n",
              "                                                   n_jobs=None, penalty='l2',\n",
              "                                                   random_state=0, refit=True,\n",
              "                                                   scoring=None, solver='lbfgs',\n",
              "                                                   tol=0.0001, verbose=0))],\n",
              "                 flatten_transform=True, n_jobs=None, voting='soft',\n",
              "                 weights=None)"
            ]
          },
          "metadata": {
            "tags": []
          },
          "execution_count": 36
        }
      ]
    },
    {
      "cell_type": "code",
      "metadata": {
        "id": "YVNyFXVIaxLs"
      },
      "source": [
        "Y_hard_voting_agr = hard_voting_agr.predict(np.array(X_test_agr))\n",
        "Y_soft_voting_agr = soft_voting_agr.predict(np.array(X_test_agr))"
      ],
      "execution_count": null,
      "outputs": []
    },
    {
      "cell_type": "code",
      "metadata": {
        "id": "wNTILjEraxqh",
        "outputId": "86529d26-dceb-4491-9ecd-c5bcca2124fc",
        "colab": {
          "base_uri": "https://localhost:8080/",
          "height": 54
        }
      },
      "source": [
        "print('Testing accuracy while using Ensemble Model with Hard Voting %s' % accuracy_score(Y_test_agr,Y_hard_voting_agr))\n",
        "print('Testing F1 score while using Ensemble Model with Hard Voting: {}'.format(f1_score(Y_test_agr, Y_hard_voting_agr, average='weighted')))"
      ],
      "execution_count": null,
      "outputs": [
        {
          "output_type": "stream",
          "text": [
            "Testing accuracy while using Ensemble Model with Hard Voting 0.5364372469635628\n",
            "Testing F1 score while using Ensemble Model with Hard Voting: 0.5333748407153931\n"
          ],
          "name": "stdout"
        }
      ]
    },
    {
      "cell_type": "code",
      "metadata": {
        "id": "kCs-vADcVJVf",
        "outputId": "dba6cc4e-355d-41f9-8863-dd326ac0cbda",
        "colab": {
          "base_uri": "https://localhost:8080/",
          "height": 54
        }
      },
      "source": [
        "print('Testing accuracy while using Ensemble Model with Soft Voting %s' % accuracy_score(Y_test_agr,Y_soft_voting_agr))\n",
        "print('Testing F1 score while using Ensemble Model with S Voting: {}'.format(f1_score(Y_test_agr, Y_soft_voting_agr, average='weighted')))"
      ],
      "execution_count": null,
      "outputs": [
        {
          "output_type": "stream",
          "text": [
            "Testing accuracy while using Ensemble Model with Soft Voting 0.5344129554655871\n",
            "Testing F1 score while using Ensemble Model with S Voting: 0.53001838582484\n"
          ],
          "name": "stdout"
        }
      ]
    },
    {
      "cell_type": "markdown",
      "metadata": {
        "id": "y1xocXAbwmD5"
      },
      "source": [
        "**Out of all the models shown above, Logistic Regression has the best Accuracy and F1-Score, 55.06% and 55.01% respectively. However, for cAGR, the State-of-the-Art model has an accuracy of 56.71%. Thus, our model fails to match the SOTA Accuracy, by 1.65%.**\n",
        "\n",
        "\n",
        "\n"
      ]
    },
    {
      "cell_type": "markdown",
      "metadata": {
        "id": "w7nwHOl4Tw3W"
      },
      "source": [
        "**We will try and predict the personality trait of Conscientiouosness(cCON) for the given dataset**\n",
        "\n"
      ]
    },
    {
      "cell_type": "code",
      "metadata": {
        "id": "npfQWQ3aMImc"
      },
      "source": [
        "# Training and Test Documents for Conscientiouosness\n",
        "train_tagged_con = train.apply(lambda r: TaggedDocument(words=normalize_text(r['TEXT']), tags=[r.cCON]), axis=1)\n",
        "test_tagged_con = test.apply(lambda r: TaggedDocument(words=normalize_text(r['TEXT']), tags=[r.cCON]), axis=1)"
      ],
      "execution_count": null,
      "outputs": []
    },
    {
      "cell_type": "code",
      "metadata": {
        "id": "09fG3wsn3YTe",
        "outputId": "68399f47-9378-4077-d643-e4159ac8b037",
        "colab": {
          "base_uri": "https://localhost:8080/",
          "height": 55
        }
      },
      "source": [
        "train_tagged_con.values[30]"
      ],
      "execution_count": null,
      "outputs": [
        {
          "output_type": "execute_result",
          "data": {
            "text/plain": [
              "TaggedDocument(words=['feel', 'really', 'crappy', 'today', 'get', 'enough', 'sleep', 'last', 'night', 'think', 'part', 'texas', 'loss', 'saturday', 'especially', 'way', 'loss', 'least', 'cowboys', 'last', 'night', 'far', 'home', 'sick', 'might', 'roommate', 'go', 'high', 'school', 'also', 'able', 'talk', 'parent', 'lot', 'instant', 'chat', 'mom', 'wnts', 'get', 'web', 'cam', 'actually', 'see', 'think', 'hard', 'time', 'leave', 'first', 'child', 'leave', 'home', 'the', 'network', 'really', 'cool', 'the', 'connect', 'rat', 'really', 'fast', 'crummy', 'modem', 'home', 'dad', 'go', 'get', 'dsl', 'live', 'far', 'central', 'office', 'suck', 'really', 'hungry', 'hungry', 'morning', 'halfway', 'class', 'stomach', 'start', 'hurt', 'probably', 'use', 'sleep', 'late', 'eat', 'breakfast', 'min', 'take', 'english', 'year', 'good', 'like', 'write', 'paper', 'much', 'you', 'might', 'write', 'paper', 'feel', 'perfectly', 'valid', 'turn', 'wrong', 'yet', 'put', 'much', 'work', 'min', 'milk', 'taste', 'pretty', 'good', 'use', 'home', 'roomate', 'buy', 'full', 'vitamin', 'milk', 'yum', 'hope', 'write', 'length', 'sensation', 'block', 'min', 'time', 'almost', 'might', 'take', 'nap', 'next', 'class', 'another', 'hours', 'class', 'fridays', 'cool', 'min', 'alarm', 'set', 'min', 'would', 'write', 'much', 'time'], tags=[0])"
            ]
          },
          "metadata": {
            "tags": []
          },
          "execution_count": 23
        }
      ]
    },
    {
      "cell_type": "code",
      "metadata": {
        "id": "TqJ3J9vt3iiT",
        "outputId": "9ad7c93a-3da8-49ac-e3bf-a0615cf50801",
        "colab": {
          "base_uri": "https://localhost:8080/",
          "height": 35
        }
      },
      "source": [
        "model_dbow = Doc2Vec(dm=0, vector_size=230, negative=5, hs=1, min_count=2, sample = 0, workers=cores)\n",
        "model_dbow.build_vocab([x for x in tqdm(train_tagged_con.values)])"
      ],
      "execution_count": null,
      "outputs": [
        {
          "output_type": "stream",
          "text": [
            "100%|██████████| 1973/1973 [00:00<00:00, 1009313.55it/s]\n"
          ],
          "name": "stderr"
        }
      ]
    },
    {
      "cell_type": "code",
      "metadata": {
        "id": "uRKRxJjQ3i75",
        "outputId": "e0dc0d71-59b6-4e56-f14a-4e686d53b624",
        "colab": {
          "base_uri": "https://localhost:8080/",
          "height": 599
        }
      },
      "source": [
        "%%time\n",
        "for epoch in range(30):\n",
        "    model_dbow.train(utils.shuffle([x for x in tqdm(train_tagged_con.values)]), total_examples=len(train_tagged_con.values), epochs=1)\n",
        "    model_dbow.alpha -= 0.02\n",
        "    model_dbow.min_alpha = model_dbow.alpha"
      ],
      "execution_count": null,
      "outputs": [
        {
          "output_type": "stream",
          "text": [
            "100%|██████████| 1973/1973 [00:00<00:00, 1222538.31it/s]\n",
            "100%|██████████| 1973/1973 [00:00<00:00, 2033258.43it/s]\n",
            "100%|██████████| 1973/1973 [00:00<00:00, 528203.34it/s]\n",
            "100%|██████████| 1973/1973 [00:00<00:00, 1495637.41it/s]\n",
            "100%|██████████| 1973/1973 [00:00<00:00, 366198.86it/s]\n",
            "100%|██████████| 1973/1973 [00:00<00:00, 770302.69it/s]\n",
            "100%|██████████| 1973/1973 [00:00<00:00, 709783.15it/s]\n",
            "100%|██████████| 1973/1973 [00:00<00:00, 2010046.59it/s]\n",
            "100%|██████████| 1973/1973 [00:00<00:00, 640161.04it/s]\n",
            "100%|██████████| 1973/1973 [00:00<00:00, 1474320.65it/s]\n",
            "100%|██████████| 1973/1973 [00:00<00:00, 361401.07it/s]\n",
            "100%|██████████| 1973/1973 [00:00<00:00, 1450037.11it/s]\n",
            "100%|██████████| 1973/1973 [00:00<00:00, 2072986.42it/s]\n",
            "100%|██████████| 1973/1973 [00:00<00:00, 1762215.03it/s]\n",
            "100%|██████████| 1973/1973 [00:00<00:00, 1156746.13it/s]\n",
            "100%|██████████| 1973/1973 [00:00<00:00, 1805664.80it/s]\n",
            "100%|██████████| 1973/1973 [00:00<00:00, 439127.72it/s]\n",
            "100%|██████████| 1973/1973 [00:00<00:00, 1487571.78it/s]\n",
            "100%|██████████| 1973/1973 [00:00<00:00, 2216812.70it/s]\n",
            "100%|██████████| 1973/1973 [00:00<00:00, 1467002.62it/s]\n",
            "100%|██████████| 1973/1973 [00:00<00:00, 1689194.08it/s]\n",
            "100%|██████████| 1973/1973 [00:00<00:00, 553832.27it/s]\n",
            "100%|██████████| 1973/1973 [00:00<00:00, 510919.42it/s]\n",
            "100%|██████████| 1973/1973 [00:00<00:00, 2012490.71it/s]\n",
            "100%|██████████| 1973/1973 [00:00<00:00, 416600.98it/s]\n",
            "100%|██████████| 1973/1973 [00:00<00:00, 1502425.89it/s]\n",
            "100%|██████████| 1973/1973 [00:00<00:00, 1484369.83it/s]\n",
            "100%|██████████| 1973/1973 [00:00<00:00, 1515634.03it/s]\n",
            "100%|██████████| 1973/1973 [00:00<00:00, 539041.28it/s]\n",
            "100%|██████████| 1973/1973 [00:00<00:00, 1494017.29it/s]\n"
          ],
          "name": "stderr"
        },
        {
          "output_type": "stream",
          "text": [
            "CPU times: user 1min 11s, sys: 468 ms, total: 1min 12s\n",
            "Wall time: 38 s\n"
          ],
          "name": "stdout"
        }
      ]
    },
    {
      "cell_type": "code",
      "metadata": {
        "id": "sgMa4ZBl3jVz"
      },
      "source": [
        "#Creating Train and Test Paragraph Vectors for Distributed Bag of Words Model\n",
        "Y_train_con, X_train_con = vec_for_learning(model_dbow, train_tagged_con)\n",
        "Y_test_con, X_test_con = vec_for_learning(model_dbow, test_tagged_con)"
      ],
      "execution_count": null,
      "outputs": []
    },
    {
      "cell_type": "code",
      "metadata": {
        "id": "Rhx9e-U53jvP",
        "outputId": "e00e96ac-e7f0-4e8d-9e06-47530d3a9e48",
        "colab": {
          "base_uri": "https://localhost:8080/",
          "height": 110
        }
      },
      "source": [
        "# Results for Logistic Regression \n",
        "\n",
        "logreg.fit(X_train_con, Y_train_con)\n",
        "Y_lg_pred_con = logreg.predict(X_test_con)\n",
        "print('Testing accuracy while using Logistic Regression %s' % accuracy_score(Y_test_con, Y_lg_pred_con))\n",
        "print('Testing F1 score while using Logistic Regression: {}'.format(f1_score(Y_test_con, Y_lg_pred_con, average='weighted')))"
      ],
      "execution_count": null,
      "outputs": [
        {
          "output_type": "stream",
          "text": [
            "Testing accuracy while using Logistic Regression 0.5222672064777328\n",
            "Testing F1 score while using Logistic Regression: 0.5229253593430317\n"
          ],
          "name": "stdout"
        },
        {
          "output_type": "stream",
          "text": [
            "/usr/local/lib/python3.6/dist-packages/sklearn/linear_model/logistic.py:947: ConvergenceWarning: lbfgs failed to converge. Increase the number of iterations.\n",
            "  \"of iterations.\", ConvergenceWarning)\n"
          ],
          "name": "stderr"
        }
      ]
    },
    {
      "cell_type": "code",
      "metadata": {
        "id": "ahvWio1h3kLq",
        "outputId": "aa434158-b95b-465c-b6a0-92732b498d35",
        "colab": {
          "base_uri": "https://localhost:8080/",
          "height": 54
        }
      },
      "source": [
        "# Results for SGD Classifier\n",
        "\n",
        "sgd.fit(X_train_con, Y_train_con)\n",
        "Y_sgd_pred_con = sgd.predict(X_test_con)\n",
        "print('Testing accuracy while using SGD Classifier %s' % accuracy_score(Y_test_con, Y_sgd_pred_con))\n",
        "print('Testing F1 score while using SGD Classifier: {}'.format(f1_score(Y_test_con, Y_sgd_pred_con, average='weighted')))"
      ],
      "execution_count": null,
      "outputs": [
        {
          "output_type": "stream",
          "text": [
            "Testing accuracy while using SGD Classifier 0.5526315789473685\n",
            "Testing F1 score while using SGD Classifier: 0.5450671238878249\n"
          ],
          "name": "stdout"
        }
      ]
    },
    {
      "cell_type": "code",
      "metadata": {
        "id": "DU2z_pBe3knp",
        "outputId": "66b4348b-2f53-4f06-8ff5-ee76dfc6f6af",
        "colab": {
          "base_uri": "https://localhost:8080/",
          "height": 54
        }
      },
      "source": [
        "# Results for Passive Aggressive Classifier\n",
        "\n",
        "pac.fit(X_train_con, Y_train_con)\n",
        "Y_pac_pred_con = pac.predict(X_test_con)\n",
        "print('Testing accuracy while using Passive Aggressive Classifier %s' % accuracy_score(Y_test_con, Y_pac_pred_con))\n",
        "print('Testing F1 score while using Passive Aggressive Classifier: {}'.format(f1_score(Y_test_con, Y_pac_pred_con, average='weighted')))"
      ],
      "execution_count": null,
      "outputs": [
        {
          "output_type": "stream",
          "text": [
            "Testing accuracy while using Passive Aggressive Classifier 0.48785425101214575\n",
            "Testing F1 score while using Passive Aggressive Classifier: 0.4587667874662192\n"
          ],
          "name": "stdout"
        }
      ]
    },
    {
      "cell_type": "code",
      "metadata": {
        "id": "-V2HnclT3lCg",
        "outputId": "1435e302-0f46-40e0-aa6e-d88adcdfb6fd",
        "colab": {
          "base_uri": "https://localhost:8080/",
          "height": 54
        }
      },
      "source": [
        "# Results for Ridge Classifier\n",
        "\n",
        "rc.fit(X_train_con, Y_train_con)\n",
        "Y_rc_pred_con = rc.predict(X_test_con)\n",
        "print('Testing accuracy while using Ridge Classifier %s' % accuracy_score(Y_test_con, Y_rc_pred_con))\n",
        "print('Testing F1 score while using Ridge Classifier: {}'.format(f1_score(Y_test_con, Y_rc_pred_con, average='weighted')))"
      ],
      "execution_count": null,
      "outputs": [
        {
          "output_type": "stream",
          "text": [
            "Testing accuracy while using Ridge Classifier 0.5546558704453441\n",
            "Testing F1 score while using Ridge Classifier: 0.5552710169910268\n"
          ],
          "name": "stdout"
        }
      ]
    },
    {
      "cell_type": "code",
      "metadata": {
        "id": "UDmihHdP3lb4",
        "outputId": "39c13061-4229-40f3-df24-b0c33946eb72",
        "colab": {
          "base_uri": "https://localhost:8080/",
          "height": 54
        }
      },
      "source": [
        "# Results for Support Vector Classifier\n",
        "\n",
        "svc.fit(X_train_con, Y_train_con)\n",
        "Y_svc_pred_con = svc.predict(X_test_con)\n",
        "print('Testing accuracy while using Support Vector Classifier %s' % accuracy_score(Y_test_con, Y_svc_pred_con))\n",
        "print('Testing F1 score while using Support Vector Classifier: {}'.format(f1_score(Y_test_con, Y_svc_pred_con, average='weighted')))"
      ],
      "execution_count": null,
      "outputs": [
        {
          "output_type": "stream",
          "text": [
            "Testing accuracy while using Support Vector Classifier 0.548582995951417\n",
            "Testing F1 score while using Support Vector Classifier: 0.5417892887257325\n"
          ],
          "name": "stdout"
        }
      ]
    },
    {
      "cell_type": "code",
      "metadata": {
        "id": "iOq97p783mBR",
        "outputId": "d51c69c1-cc83-46d3-d1cc-510ebd91202d",
        "colab": {
          "base_uri": "https://localhost:8080/",
          "height": 54
        }
      },
      "source": [
        "# Results for XGBoost Algorithm\n",
        "xgbc.fit(np.array(X_train_con), Y_train_con)\n",
        "xgb_predict_con = xgbc.predict(np.array(X_test_con))\n",
        "\n",
        "print('Testing accuracy while using XGBoost Algorithm %s' % accuracy_score(Y_test_con,xgb_predict_con))\n",
        "print('Testing F1 score while using XGBoost Algorithm: {}'.format(f1_score(Y_test_con, xgb_predict_con, average='weighted')))"
      ],
      "execution_count": null,
      "outputs": [
        {
          "output_type": "stream",
          "text": [
            "Testing accuracy while using XGBoost Algorithm 0.5182186234817814\n",
            "Testing F1 score while using XGBoost Algorithm: 0.5174532963898655\n"
          ],
          "name": "stdout"
        }
      ]
    },
    {
      "cell_type": "code",
      "metadata": {
        "id": "NzAW8NBd3mbf"
      },
      "source": [
        "hard_voting_con = VotingClassifier(estimators=[('LR', logreg), ('SGD', sgd), ('XGBC', xgbc), ('SVC', svc), ('LGCV', lgcv)], voting='hard')\n",
        "soft_voting_con = VotingClassifier(estimators=[('LR', logreg), ('SGD', sgd), ('XGBC', xgbc), ('SVC', svc), ('LGCV', lgcv)], voting='soft')"
      ],
      "execution_count": null,
      "outputs": []
    },
    {
      "cell_type": "code",
      "metadata": {
        "id": "0whfPUp63m2r",
        "outputId": "c11e57f8-74f2-408a-8488-9f1bb0b74688",
        "colab": {
          "base_uri": "https://localhost:8080/",
          "height": 1000
        }
      },
      "source": [
        "hard_voting_con.fit(np.array(X_train_con), Y_train_con)\n",
        "soft_voting_con.fit(np.array(X_train_con), Y_train_con)"
      ],
      "execution_count": null,
      "outputs": [
        {
          "output_type": "stream",
          "text": [
            "/usr/local/lib/python3.6/dist-packages/sklearn/linear_model/logistic.py:947: ConvergenceWarning: lbfgs failed to converge. Increase the number of iterations.\n",
            "  \"of iterations.\", ConvergenceWarning)\n",
            "/usr/local/lib/python3.6/dist-packages/sklearn/linear_model/logistic.py:947: ConvergenceWarning: lbfgs failed to converge. Increase the number of iterations.\n",
            "  \"of iterations.\", ConvergenceWarning)\n",
            "/usr/local/lib/python3.6/dist-packages/sklearn/linear_model/logistic.py:947: ConvergenceWarning: lbfgs failed to converge. Increase the number of iterations.\n",
            "  \"of iterations.\", ConvergenceWarning)\n",
            "/usr/local/lib/python3.6/dist-packages/sklearn/linear_model/logistic.py:947: ConvergenceWarning: lbfgs failed to converge. Increase the number of iterations.\n",
            "  \"of iterations.\", ConvergenceWarning)\n",
            "/usr/local/lib/python3.6/dist-packages/sklearn/linear_model/logistic.py:947: ConvergenceWarning: lbfgs failed to converge. Increase the number of iterations.\n",
            "  \"of iterations.\", ConvergenceWarning)\n",
            "/usr/local/lib/python3.6/dist-packages/sklearn/linear_model/logistic.py:947: ConvergenceWarning: lbfgs failed to converge. Increase the number of iterations.\n",
            "  \"of iterations.\", ConvergenceWarning)\n",
            "/usr/local/lib/python3.6/dist-packages/sklearn/linear_model/logistic.py:947: ConvergenceWarning: lbfgs failed to converge. Increase the number of iterations.\n",
            "  \"of iterations.\", ConvergenceWarning)\n",
            "/usr/local/lib/python3.6/dist-packages/sklearn/linear_model/logistic.py:947: ConvergenceWarning: lbfgs failed to converge. Increase the number of iterations.\n",
            "  \"of iterations.\", ConvergenceWarning)\n",
            "/usr/local/lib/python3.6/dist-packages/sklearn/linear_model/logistic.py:947: ConvergenceWarning: lbfgs failed to converge. Increase the number of iterations.\n",
            "  \"of iterations.\", ConvergenceWarning)\n",
            "/usr/local/lib/python3.6/dist-packages/sklearn/linear_model/logistic.py:947: ConvergenceWarning: lbfgs failed to converge. Increase the number of iterations.\n",
            "  \"of iterations.\", ConvergenceWarning)\n",
            "/usr/local/lib/python3.6/dist-packages/sklearn/linear_model/logistic.py:947: ConvergenceWarning: lbfgs failed to converge. Increase the number of iterations.\n",
            "  \"of iterations.\", ConvergenceWarning)\n",
            "/usr/local/lib/python3.6/dist-packages/sklearn/linear_model/logistic.py:947: ConvergenceWarning: lbfgs failed to converge. Increase the number of iterations.\n",
            "  \"of iterations.\", ConvergenceWarning)\n",
            "/usr/local/lib/python3.6/dist-packages/sklearn/linear_model/logistic.py:947: ConvergenceWarning: lbfgs failed to converge. Increase the number of iterations.\n",
            "  \"of iterations.\", ConvergenceWarning)\n",
            "/usr/local/lib/python3.6/dist-packages/sklearn/linear_model/logistic.py:947: ConvergenceWarning: lbfgs failed to converge. Increase the number of iterations.\n",
            "  \"of iterations.\", ConvergenceWarning)\n",
            "/usr/local/lib/python3.6/dist-packages/sklearn/linear_model/logistic.py:947: ConvergenceWarning: lbfgs failed to converge. Increase the number of iterations.\n",
            "  \"of iterations.\", ConvergenceWarning)\n",
            "/usr/local/lib/python3.6/dist-packages/sklearn/linear_model/logistic.py:947: ConvergenceWarning: lbfgs failed to converge. Increase the number of iterations.\n",
            "  \"of iterations.\", ConvergenceWarning)\n",
            "/usr/local/lib/python3.6/dist-packages/sklearn/linear_model/logistic.py:947: ConvergenceWarning: lbfgs failed to converge. Increase the number of iterations.\n",
            "  \"of iterations.\", ConvergenceWarning)\n",
            "/usr/local/lib/python3.6/dist-packages/sklearn/linear_model/logistic.py:947: ConvergenceWarning: lbfgs failed to converge. Increase the number of iterations.\n",
            "  \"of iterations.\", ConvergenceWarning)\n",
            "/usr/local/lib/python3.6/dist-packages/sklearn/linear_model/logistic.py:947: ConvergenceWarning: lbfgs failed to converge. Increase the number of iterations.\n",
            "  \"of iterations.\", ConvergenceWarning)\n",
            "/usr/local/lib/python3.6/dist-packages/sklearn/linear_model/logistic.py:947: ConvergenceWarning: lbfgs failed to converge. Increase the number of iterations.\n",
            "  \"of iterations.\", ConvergenceWarning)\n",
            "/usr/local/lib/python3.6/dist-packages/sklearn/linear_model/logistic.py:947: ConvergenceWarning: lbfgs failed to converge. Increase the number of iterations.\n",
            "  \"of iterations.\", ConvergenceWarning)\n",
            "/usr/local/lib/python3.6/dist-packages/sklearn/linear_model/logistic.py:947: ConvergenceWarning: lbfgs failed to converge. Increase the number of iterations.\n",
            "  \"of iterations.\", ConvergenceWarning)\n",
            "/usr/local/lib/python3.6/dist-packages/sklearn/linear_model/logistic.py:947: ConvergenceWarning: lbfgs failed to converge. Increase the number of iterations.\n",
            "  \"of iterations.\", ConvergenceWarning)\n",
            "/usr/local/lib/python3.6/dist-packages/sklearn/linear_model/logistic.py:947: ConvergenceWarning: lbfgs failed to converge. Increase the number of iterations.\n",
            "  \"of iterations.\", ConvergenceWarning)\n",
            "/usr/local/lib/python3.6/dist-packages/sklearn/linear_model/logistic.py:947: ConvergenceWarning: lbfgs failed to converge. Increase the number of iterations.\n",
            "  \"of iterations.\", ConvergenceWarning)\n",
            "/usr/local/lib/python3.6/dist-packages/sklearn/linear_model/logistic.py:947: ConvergenceWarning: lbfgs failed to converge. Increase the number of iterations.\n",
            "  \"of iterations.\", ConvergenceWarning)\n",
            "/usr/local/lib/python3.6/dist-packages/sklearn/linear_model/logistic.py:947: ConvergenceWarning: lbfgs failed to converge. Increase the number of iterations.\n",
            "  \"of iterations.\", ConvergenceWarning)\n",
            "/usr/local/lib/python3.6/dist-packages/sklearn/linear_model/logistic.py:947: ConvergenceWarning: lbfgs failed to converge. Increase the number of iterations.\n",
            "  \"of iterations.\", ConvergenceWarning)\n",
            "/usr/local/lib/python3.6/dist-packages/sklearn/linear_model/logistic.py:947: ConvergenceWarning: lbfgs failed to converge. Increase the number of iterations.\n",
            "  \"of iterations.\", ConvergenceWarning)\n",
            "/usr/local/lib/python3.6/dist-packages/sklearn/linear_model/logistic.py:947: ConvergenceWarning: lbfgs failed to converge. Increase the number of iterations.\n",
            "  \"of iterations.\", ConvergenceWarning)\n",
            "/usr/local/lib/python3.6/dist-packages/sklearn/linear_model/logistic.py:947: ConvergenceWarning: lbfgs failed to converge. Increase the number of iterations.\n",
            "  \"of iterations.\", ConvergenceWarning)\n",
            "/usr/local/lib/python3.6/dist-packages/sklearn/linear_model/logistic.py:947: ConvergenceWarning: lbfgs failed to converge. Increase the number of iterations.\n",
            "  \"of iterations.\", ConvergenceWarning)\n",
            "/usr/local/lib/python3.6/dist-packages/sklearn/linear_model/logistic.py:947: ConvergenceWarning: lbfgs failed to converge. Increase the number of iterations.\n",
            "  \"of iterations.\", ConvergenceWarning)\n",
            "/usr/local/lib/python3.6/dist-packages/sklearn/linear_model/logistic.py:947: ConvergenceWarning: lbfgs failed to converge. Increase the number of iterations.\n",
            "  \"of iterations.\", ConvergenceWarning)\n",
            "/usr/local/lib/python3.6/dist-packages/sklearn/linear_model/logistic.py:947: ConvergenceWarning: lbfgs failed to converge. Increase the number of iterations.\n",
            "  \"of iterations.\", ConvergenceWarning)\n",
            "/usr/local/lib/python3.6/dist-packages/sklearn/linear_model/logistic.py:947: ConvergenceWarning: lbfgs failed to converge. Increase the number of iterations.\n",
            "  \"of iterations.\", ConvergenceWarning)\n",
            "/usr/local/lib/python3.6/dist-packages/sklearn/linear_model/logistic.py:947: ConvergenceWarning: lbfgs failed to converge. Increase the number of iterations.\n",
            "  \"of iterations.\", ConvergenceWarning)\n",
            "/usr/local/lib/python3.6/dist-packages/sklearn/linear_model/logistic.py:947: ConvergenceWarning: lbfgs failed to converge. Increase the number of iterations.\n",
            "  \"of iterations.\", ConvergenceWarning)\n",
            "/usr/local/lib/python3.6/dist-packages/sklearn/linear_model/logistic.py:947: ConvergenceWarning: lbfgs failed to converge. Increase the number of iterations.\n",
            "  \"of iterations.\", ConvergenceWarning)\n",
            "/usr/local/lib/python3.6/dist-packages/sklearn/linear_model/logistic.py:947: ConvergenceWarning: lbfgs failed to converge. Increase the number of iterations.\n",
            "  \"of iterations.\", ConvergenceWarning)\n",
            "/usr/local/lib/python3.6/dist-packages/sklearn/linear_model/logistic.py:947: ConvergenceWarning: lbfgs failed to converge. Increase the number of iterations.\n",
            "  \"of iterations.\", ConvergenceWarning)\n",
            "/usr/local/lib/python3.6/dist-packages/sklearn/linear_model/logistic.py:947: ConvergenceWarning: lbfgs failed to converge. Increase the number of iterations.\n",
            "  \"of iterations.\", ConvergenceWarning)\n"
          ],
          "name": "stderr"
        },
        {
          "output_type": "execute_result",
          "data": {
            "text/plain": [
              "VotingClassifier(estimators=[('LR',\n",
              "                              LogisticRegression(C=100000.0, class_weight=None,\n",
              "                                                 dual=False, fit_intercept=True,\n",
              "                                                 intercept_scaling=1,\n",
              "                                                 l1_ratio=None, max_iter=750,\n",
              "                                                 multi_class='warn', n_jobs=1,\n",
              "                                                 penalty='l2',\n",
              "                                                 random_state=None,\n",
              "                                                 solver='lbfgs', tol=0.0001,\n",
              "                                                 verbose=0, warm_start=False)),\n",
              "                             ('SGD',\n",
              "                              SGDClassifier(alpha=0.0001, average=False,\n",
              "                                            class_weight=None,\n",
              "                                            early_stop...\n",
              "                                  random_state=None, shrinking=True, tol=0.001,\n",
              "                                  verbose=False)),\n",
              "                             ('LGCV',\n",
              "                              LogisticRegressionCV(Cs=10, class_weight=None,\n",
              "                                                   cv=5, dual=False,\n",
              "                                                   fit_intercept=True,\n",
              "                                                   intercept_scaling=1.0,\n",
              "                                                   l1_ratios=None, max_iter=100,\n",
              "                                                   multi_class='ovr',\n",
              "                                                   n_jobs=None, penalty='l2',\n",
              "                                                   random_state=0, refit=True,\n",
              "                                                   scoring=None, solver='lbfgs',\n",
              "                                                   tol=0.0001, verbose=0))],\n",
              "                 flatten_transform=True, n_jobs=None, voting='soft',\n",
              "                 weights=None)"
            ]
          },
          "metadata": {
            "tags": []
          },
          "execution_count": 35
        }
      ]
    },
    {
      "cell_type": "code",
      "metadata": {
        "id": "BN0gUUpA3nTR"
      },
      "source": [
        "Y_hard_voting_con = hard_voting_con.predict(np.array(X_test_con))\n",
        "Y_soft_voting_con = soft_voting_con.predict(np.array(X_test_con))"
      ],
      "execution_count": null,
      "outputs": []
    },
    {
      "cell_type": "code",
      "metadata": {
        "id": "6sa450Fy3nwC",
        "outputId": "07d9ef47-52a8-426c-c6f8-e127b3b5ce7b",
        "colab": {
          "base_uri": "https://localhost:8080/",
          "height": 54
        }
      },
      "source": [
        "print('Testing accuracy while using Ensemble Model with Hard Voting %s' % accuracy_score(Y_test_con,Y_hard_voting_con))\n",
        "print('Testing F1 score while using Ensemble Model with Hard Voting: {}'.format(f1_score(Y_test_con, Y_hard_voting_con, average='weighted')))"
      ],
      "execution_count": null,
      "outputs": [
        {
          "output_type": "stream",
          "text": [
            "Testing accuracy while using Ensemble Model with Hard Voting 0.5364372469635628\n",
            "Testing F1 score while using Ensemble Model with Hard Voting: 0.533296067144104\n"
          ],
          "name": "stdout"
        }
      ]
    },
    {
      "cell_type": "code",
      "metadata": {
        "id": "65mxzt3a3oUQ",
        "outputId": "1b52b26e-060e-4060-bee9-6686f4388c80",
        "colab": {
          "base_uri": "https://localhost:8080/",
          "height": 54
        }
      },
      "source": [
        "print('Testing accuracy while using Ensemble Model with Soft Voting %s' % accuracy_score(Y_test_con,Y_soft_voting_con))\n",
        "print('Testing F1 score while using Ensemble Model with S Voting: {}'.format(f1_score(Y_test_con, Y_soft_voting_con, average='weighted')))"
      ],
      "execution_count": null,
      "outputs": [
        {
          "output_type": "stream",
          "text": [
            "Testing accuracy while using Ensemble Model with Soft Voting 0.5222672064777328\n",
            "Testing F1 score while using Ensemble Model with S Voting: 0.5086329149346224\n"
          ],
          "name": "stdout"
        }
      ]
    },
    {
      "cell_type": "markdown",
      "metadata": {
        "id": "K45FWI5y8puh"
      },
      "source": [
        "**Out of all the models shown above, Ridge Classifier has the best Accuracy and F1-Score, 55.46% and 55.52% respectively. However, for cCon, the State-of-the-Art model has an accuracy of 57.30%. Thus, our model fails to match the SOTA Accuracy, by 1.84%.**"
      ]
    },
    {
      "cell_type": "markdown",
      "metadata": {
        "id": "1OQ7JgYiT52U"
      },
      "source": [
        "**We will try and predict the personality trait of Openness(cOPN) for the given dataset**"
      ]
    },
    {
      "cell_type": "code",
      "metadata": {
        "id": "0RbMnphBMHrr"
      },
      "source": [
        "# Training and Test Documents for Openness\n",
        "train_tagged_opn = train.apply(lambda r: TaggedDocument(words=normalize_text(r['TEXT']), tags=[r.cOPN]), axis=1)\n",
        "test_tagged_opn = test.apply(lambda r: TaggedDocument(words=normalize_text(r['TEXT']), tags=[r.cOPN]), axis=1)"
      ],
      "execution_count": null,
      "outputs": []
    },
    {
      "cell_type": "code",
      "metadata": {
        "id": "PQihp1VK3pjN",
        "outputId": "6f8e3c16-5f6e-45a8-882d-807a7e303ae9",
        "colab": {
          "base_uri": "https://localhost:8080/",
          "height": 55
        }
      },
      "source": [
        "train_tagged_opn.values[30]"
      ],
      "execution_count": null,
      "outputs": [
        {
          "output_type": "execute_result",
          "data": {
            "text/plain": [
              "TaggedDocument(words=['feel', 'really', 'crappy', 'today', 'get', 'enough', 'sleep', 'last', 'night', 'think', 'part', 'texas', 'loss', 'saturday', 'especially', 'way', 'loss', 'least', 'cowboys', 'last', 'night', 'far', 'home', 'sick', 'might', 'roommate', 'go', 'high', 'school', 'also', 'able', 'talk', 'parent', 'lot', 'instant', 'chat', 'mom', 'wnts', 'get', 'web', 'cam', 'actually', 'see', 'think', 'hard', 'time', 'leave', 'first', 'child', 'leave', 'home', 'the', 'network', 'really', 'cool', 'the', 'connect', 'rat', 'really', 'fast', 'crummy', 'modem', 'home', 'dad', 'go', 'get', 'dsl', 'live', 'far', 'central', 'office', 'suck', 'really', 'hungry', 'hungry', 'morning', 'halfway', 'class', 'stomach', 'start', 'hurt', 'probably', 'use', 'sleep', 'late', 'eat', 'breakfast', 'min', 'take', 'english', 'year', 'good', 'like', 'write', 'paper', 'much', 'you', 'might', 'write', 'paper', 'feel', 'perfectly', 'valid', 'turn', 'wrong', 'yet', 'put', 'much', 'work', 'min', 'milk', 'taste', 'pretty', 'good', 'use', 'home', 'roomate', 'buy', 'full', 'vitamin', 'milk', 'yum', 'hope', 'write', 'length', 'sensation', 'block', 'min', 'time', 'almost', 'might', 'take', 'nap', 'next', 'class', 'another', 'hours', 'class', 'fridays', 'cool', 'min', 'alarm', 'set', 'min', 'would', 'write', 'much', 'time'], tags=[0])"
            ]
          },
          "metadata": {
            "tags": []
          },
          "execution_count": 26
        }
      ]
    },
    {
      "cell_type": "code",
      "metadata": {
        "id": "89hmy3-I3pH6",
        "outputId": "bb4b35cb-e90b-49ef-e868-7241de69a606",
        "colab": {
          "base_uri": "https://localhost:8080/",
          "height": 35
        }
      },
      "source": [
        "model_dbow = Doc2Vec(dm=0, vector_size=230, negative=5, hs=1, min_count=2, sample = 0, workers=cores)\n",
        "model_dbow.build_vocab([x for x in tqdm(train_tagged_opn.values)])"
      ],
      "execution_count": null,
      "outputs": [
        {
          "output_type": "stream",
          "text": [
            "100%|██████████| 1973/1973 [00:00<00:00, 1358621.21it/s]\n"
          ],
          "name": "stderr"
        }
      ]
    },
    {
      "cell_type": "code",
      "metadata": {
        "id": "HHCFoGPf3owE",
        "outputId": "1b61cd91-dfbf-4a63-868a-e1b5f67a38da",
        "colab": {
          "base_uri": "https://localhost:8080/",
          "height": 599
        }
      },
      "source": [
        "%%time\n",
        "for epoch in range(30):\n",
        "    model_dbow.train(utils.shuffle([x for x in tqdm(train_tagged_opn.values)]), total_examples=len(train_tagged_opn.values), epochs=1)\n",
        "    model_dbow.alpha -= 0.02\n",
        "    model_dbow.min_alpha = model_dbow.alpha"
      ],
      "execution_count": null,
      "outputs": [
        {
          "output_type": "stream",
          "text": [
            "100%|██████████| 1973/1973 [00:00<00:00, 989402.41it/s]\n",
            "100%|██████████| 1973/1973 [00:00<00:00, 1975026.68it/s]\n",
            "100%|██████████| 1973/1973 [00:00<00:00, 1412901.11it/s]\n",
            "100%|██████████| 1973/1973 [00:00<00:00, 1072354.77it/s]\n",
            "100%|██████████| 1973/1973 [00:00<00:00, 1887197.67it/s]\n",
            "100%|██████████| 1973/1973 [00:00<00:00, 903029.44it/s]\n",
            "100%|██████████| 1973/1973 [00:00<00:00, 1795478.80it/s]\n",
            "100%|██████████| 1973/1973 [00:00<00:00, 1159501.44it/s]\n",
            "100%|██████████| 1973/1973 [00:00<00:00, 1062851.50it/s]\n",
            "100%|██████████| 1973/1973 [00:00<00:00, 1589886.99it/s]\n",
            "100%|██████████| 1973/1973 [00:00<00:00, 482612.81it/s]\n",
            "100%|██████████| 1973/1973 [00:00<00:00, 1108851.91it/s]\n",
            "100%|██████████| 1973/1973 [00:00<00:00, 1634155.17it/s]\n",
            "100%|██████████| 1973/1973 [00:00<00:00, 1429497.63it/s]\n",
            "100%|██████████| 1973/1973 [00:00<00:00, 1056474.12it/s]\n",
            "100%|██████████| 1973/1973 [00:00<00:00, 1311883.61it/s]\n",
            "100%|██████████| 1973/1973 [00:00<00:00, 1958665.51it/s]\n",
            "100%|██████████| 1973/1973 [00:00<00:00, 1958202.03it/s]\n",
            "100%|██████████| 1973/1973 [00:00<00:00, 449137.68it/s]\n",
            "100%|██████████| 1973/1973 [00:00<00:00, 451687.23it/s]\n",
            "100%|██████████| 1973/1973 [00:00<00:00, 780841.84it/s]\n",
            "100%|██████████| 1973/1973 [00:00<00:00, 1793921.91it/s]\n",
            "100%|██████████| 1973/1973 [00:00<00:00, 1041318.96it/s]\n",
            "100%|██████████| 1973/1973 [00:00<00:00, 720473.78it/s]\n",
            "100%|██████████| 1973/1973 [00:00<00:00, 1077661.39it/s]\n",
            "100%|██████████| 1973/1973 [00:00<00:00, 1442706.03it/s]\n",
            "100%|██████████| 1973/1973 [00:00<00:00, 1531340.08it/s]\n",
            "100%|██████████| 1973/1973 [00:00<00:00, 1468564.65it/s]\n",
            "100%|██████████| 1973/1973 [00:00<00:00, 1409772.03it/s]\n",
            "100%|██████████| 1973/1973 [00:00<00:00, 510793.27it/s]\n"
          ],
          "name": "stderr"
        },
        {
          "output_type": "stream",
          "text": [
            "CPU times: user 1min 7s, sys: 443 ms, total: 1min 8s\n",
            "Wall time: 36 s\n"
          ],
          "name": "stdout"
        }
      ]
    },
    {
      "cell_type": "code",
      "metadata": {
        "id": "Xmj6JIPJ3rbD"
      },
      "source": [
        "def vec_for_learning(model, tagged_docs):\n",
        "    sents = tagged_docs.values\n",
        "    targets, regressors = zip(*[(doc.tags[0], model.infer_vector(doc.words, steps=20)) for doc in sents])\n",
        "    return targets, regressors"
      ],
      "execution_count": null,
      "outputs": []
    },
    {
      "cell_type": "code",
      "metadata": {
        "id": "N8781RbK3rzW"
      },
      "source": [
        "#Creating Train and Test Paragraph Vectors for Distributed Bag of Words Model\n",
        "Y_train_opn, X_train_opn = vec_for_learning(model_dbow, train_tagged_opn)\n",
        "Y_test_opn, X_test_opn = vec_for_learning(model_dbow, test_tagged_opn)"
      ],
      "execution_count": null,
      "outputs": []
    },
    {
      "cell_type": "code",
      "metadata": {
        "id": "1p-tpW6w3sJv",
        "outputId": "23a5bb30-b4e8-450b-ee89-efca6f2e1cb7",
        "colab": {
          "base_uri": "https://localhost:8080/",
          "height": 110
        }
      },
      "source": [
        "# Results for Logistic Regression \n",
        "\n",
        "logreg.fit(X_train_opn, Y_train_opn)\n",
        "Y_lg_pred_opn = logreg.predict(X_test_opn)\n",
        "print('Testing accuracy while using Logistic Regression %s' % accuracy_score(Y_test_opn, Y_lg_pred_opn))\n",
        "print('Testing F1 score while using Logistic Regression: {}'.format(f1_score(Y_test_opn, Y_lg_pred_opn, average='weighted')))"
      ],
      "execution_count": null,
      "outputs": [
        {
          "output_type": "stream",
          "text": [
            "Testing accuracy while using Logistic Regression 0.5526315789473685\n",
            "Testing F1 score while using Logistic Regression: 0.5520039840421789\n"
          ],
          "name": "stdout"
        },
        {
          "output_type": "stream",
          "text": [
            "/usr/local/lib/python3.6/dist-packages/sklearn/linear_model/logistic.py:947: ConvergenceWarning: lbfgs failed to converge. Increase the number of iterations.\n",
            "  \"of iterations.\", ConvergenceWarning)\n"
          ],
          "name": "stderr"
        }
      ]
    },
    {
      "cell_type": "code",
      "metadata": {
        "id": "8bA44w8r3siY",
        "outputId": "53bbef3f-6a2d-45fd-d52e-c40171b617c8",
        "colab": {
          "base_uri": "https://localhost:8080/",
          "height": 54
        }
      },
      "source": [
        "# Results for SGD Classifier\n",
        "\n",
        "sgd.fit(X_train_opn, Y_train_opn)\n",
        "Y_sgd_pred_opn = sgd.predict(X_test_opn)\n",
        "print('Testing accuracy while using SGD Classifier %s' % accuracy_score(Y_test_opn, Y_sgd_pred_opn))\n",
        "print('Testing F1 score while using SGD Classifier: {}'.format(f1_score(Y_test_opn, Y_sgd_pred_opn, average='weighted')))"
      ],
      "execution_count": null,
      "outputs": [
        {
          "output_type": "stream",
          "text": [
            "Testing accuracy while using SGD Classifier 0.548582995951417\n",
            "Testing F1 score while using SGD Classifier: 0.537455397950008\n"
          ],
          "name": "stdout"
        }
      ]
    },
    {
      "cell_type": "code",
      "metadata": {
        "id": "2wNqLewB3s5b",
        "outputId": "e7718028-850e-43c2-b120-710e58e53c98",
        "colab": {
          "base_uri": "https://localhost:8080/",
          "height": 54
        }
      },
      "source": [
        "# Results for Passive Aggressive Classifier\n",
        "\n",
        "pac.fit(X_train_opn, Y_train_opn)\n",
        "Y_pac_pred_opn = pac.predict(X_test_opn)\n",
        "print('Testing accuracy while using Passive Aggressive Classifier %s' % accuracy_score(Y_test_opn, Y_pac_pred_opn))\n",
        "print('Testing F1 score while using Passive Aggressive Classifier: {}'.format(f1_score(Y_test_opn, Y_pac_pred_opn, average='weighted')))"
      ],
      "execution_count": null,
      "outputs": [
        {
          "output_type": "stream",
          "text": [
            "Testing accuracy while using Passive Aggressive Classifier 0.5060728744939271\n",
            "Testing F1 score while using Passive Aggressive Classifier: 0.47152381742208266\n"
          ],
          "name": "stdout"
        }
      ]
    },
    {
      "cell_type": "code",
      "metadata": {
        "id": "kxrXSVok3tQ8",
        "outputId": "a06d931f-2e56-4887-f80e-5d0ea46fccd5",
        "colab": {
          "base_uri": "https://localhost:8080/",
          "height": 54
        }
      },
      "source": [
        "# Results for Ridge Classifier\n",
        "\n",
        "rc.fit(X_train_opn, Y_train_opn)\n",
        "Y_rc_pred_opn = rc.predict(X_test_opn)\n",
        "print('Testing accuracy while using Ridge Classifier %s' % accuracy_score(Y_test_opn, Y_rc_pred_opn))\n",
        "print('Testing F1 score while using Ridge Classifier: {}'.format(f1_score(Y_test_opn, Y_rc_pred_opn, average='weighted')))"
      ],
      "execution_count": null,
      "outputs": [
        {
          "output_type": "stream",
          "text": [
            "Testing accuracy while using Ridge Classifier 0.5769230769230769\n",
            "Testing F1 score while using Ridge Classifier: 0.5768031940955102\n"
          ],
          "name": "stdout"
        }
      ]
    },
    {
      "cell_type": "code",
      "metadata": {
        "id": "uceioxU53uB4",
        "outputId": "c2f4db6f-eb26-4a5a-9286-2fac4768e779",
        "colab": {
          "base_uri": "https://localhost:8080/",
          "height": 54
        }
      },
      "source": [
        "# Results for Support Vector Classifier\n",
        "\n",
        "svc.fit(X_train_opn, Y_train_opn)\n",
        "Y_svc_pred_opn = svc.predict(X_test_opn)\n",
        "print('Testing accuracy while using Support Vector Classifier %s' % accuracy_score(Y_test_opn, Y_svc_pred_opn))\n",
        "print('Testing F1 score while using Support Vector Classifier: {}'.format(f1_score(Y_test_opn, Y_svc_pred_opn, average='weighted')))"
      ],
      "execution_count": null,
      "outputs": [
        {
          "output_type": "stream",
          "text": [
            "Testing accuracy while using Support Vector Classifier 0.5688259109311741\n",
            "Testing F1 score while using Support Vector Classifier: 0.567708295012964\n"
          ],
          "name": "stdout"
        }
      ]
    },
    {
      "cell_type": "code",
      "metadata": {
        "id": "S2hHRR1A3uaU",
        "outputId": "6e7772be-1cfc-44bc-def8-fa5023be84a6",
        "colab": {
          "base_uri": "https://localhost:8080/",
          "height": 54
        }
      },
      "source": [
        "# Results for XGBoost Algorithm\n",
        "xgbc.fit(np.array(X_train_opn), Y_train_opn)\n",
        "xgb_predict_opn = xgbc.predict(np.array(X_test_opn))\n",
        "\n",
        "print('Testing accuracy while using XGBoost Algorithm %s' % accuracy_score(Y_test_opn,xgb_predict_opn))\n",
        "print('Testing F1 score while using XGBoost Algorithm: {}'.format(f1_score(Y_test_opn, xgb_predict_opn, average='weighted')))"
      ],
      "execution_count": null,
      "outputs": [
        {
          "output_type": "stream",
          "text": [
            "Testing accuracy while using XGBoost Algorithm 0.5647773279352226\n",
            "Testing F1 score while using XGBoost Algorithm: 0.564868391030462\n"
          ],
          "name": "stdout"
        }
      ]
    },
    {
      "cell_type": "code",
      "metadata": {
        "id": "Qk3yAHFb3xUa"
      },
      "source": [
        "hard_voting_opn = VotingClassifier(estimators=[('LR', logreg), ('SGD', sgd), ('XGBC', xgbc), ('SVC', svc), ('LGCV', lgcv)], voting='hard')\n",
        "soft_voting_opn = VotingClassifier(estimators=[('LR', logreg), ('SGD', sgd), ('XGBC', xgbc), ('SVC', svc), ('LGCV', lgcv)], voting='soft')"
      ],
      "execution_count": null,
      "outputs": []
    },
    {
      "cell_type": "code",
      "metadata": {
        "id": "BGaMBjmc3xup",
        "outputId": "5c704124-753d-40aa-cbc8-74858ecd51ef",
        "colab": {
          "base_uri": "https://localhost:8080/",
          "height": 1000
        }
      },
      "source": [
        "hard_voting_opn.fit(np.array(X_train_opn), Y_train_opn)\n",
        "soft_voting_opn.fit(np.array(X_train_opn), Y_train_opn)"
      ],
      "execution_count": null,
      "outputs": [
        {
          "output_type": "stream",
          "text": [
            "/usr/local/lib/python3.6/dist-packages/sklearn/linear_model/logistic.py:947: ConvergenceWarning: lbfgs failed to converge. Increase the number of iterations.\n",
            "  \"of iterations.\", ConvergenceWarning)\n",
            "/usr/local/lib/python3.6/dist-packages/sklearn/linear_model/logistic.py:947: ConvergenceWarning: lbfgs failed to converge. Increase the number of iterations.\n",
            "  \"of iterations.\", ConvergenceWarning)\n",
            "/usr/local/lib/python3.6/dist-packages/sklearn/linear_model/logistic.py:947: ConvergenceWarning: lbfgs failed to converge. Increase the number of iterations.\n",
            "  \"of iterations.\", ConvergenceWarning)\n",
            "/usr/local/lib/python3.6/dist-packages/sklearn/linear_model/logistic.py:947: ConvergenceWarning: lbfgs failed to converge. Increase the number of iterations.\n",
            "  \"of iterations.\", ConvergenceWarning)\n",
            "/usr/local/lib/python3.6/dist-packages/sklearn/linear_model/logistic.py:947: ConvergenceWarning: lbfgs failed to converge. Increase the number of iterations.\n",
            "  \"of iterations.\", ConvergenceWarning)\n",
            "/usr/local/lib/python3.6/dist-packages/sklearn/linear_model/logistic.py:947: ConvergenceWarning: lbfgs failed to converge. Increase the number of iterations.\n",
            "  \"of iterations.\", ConvergenceWarning)\n",
            "/usr/local/lib/python3.6/dist-packages/sklearn/linear_model/logistic.py:947: ConvergenceWarning: lbfgs failed to converge. Increase the number of iterations.\n",
            "  \"of iterations.\", ConvergenceWarning)\n",
            "/usr/local/lib/python3.6/dist-packages/sklearn/linear_model/logistic.py:947: ConvergenceWarning: lbfgs failed to converge. Increase the number of iterations.\n",
            "  \"of iterations.\", ConvergenceWarning)\n",
            "/usr/local/lib/python3.6/dist-packages/sklearn/linear_model/logistic.py:947: ConvergenceWarning: lbfgs failed to converge. Increase the number of iterations.\n",
            "  \"of iterations.\", ConvergenceWarning)\n",
            "/usr/local/lib/python3.6/dist-packages/sklearn/linear_model/logistic.py:947: ConvergenceWarning: lbfgs failed to converge. Increase the number of iterations.\n",
            "  \"of iterations.\", ConvergenceWarning)\n",
            "/usr/local/lib/python3.6/dist-packages/sklearn/linear_model/logistic.py:947: ConvergenceWarning: lbfgs failed to converge. Increase the number of iterations.\n",
            "  \"of iterations.\", ConvergenceWarning)\n",
            "/usr/local/lib/python3.6/dist-packages/sklearn/linear_model/logistic.py:947: ConvergenceWarning: lbfgs failed to converge. Increase the number of iterations.\n",
            "  \"of iterations.\", ConvergenceWarning)\n",
            "/usr/local/lib/python3.6/dist-packages/sklearn/linear_model/logistic.py:947: ConvergenceWarning: lbfgs failed to converge. Increase the number of iterations.\n",
            "  \"of iterations.\", ConvergenceWarning)\n",
            "/usr/local/lib/python3.6/dist-packages/sklearn/linear_model/logistic.py:947: ConvergenceWarning: lbfgs failed to converge. Increase the number of iterations.\n",
            "  \"of iterations.\", ConvergenceWarning)\n",
            "/usr/local/lib/python3.6/dist-packages/sklearn/linear_model/logistic.py:947: ConvergenceWarning: lbfgs failed to converge. Increase the number of iterations.\n",
            "  \"of iterations.\", ConvergenceWarning)\n",
            "/usr/local/lib/python3.6/dist-packages/sklearn/linear_model/logistic.py:947: ConvergenceWarning: lbfgs failed to converge. Increase the number of iterations.\n",
            "  \"of iterations.\", ConvergenceWarning)\n",
            "/usr/local/lib/python3.6/dist-packages/sklearn/linear_model/logistic.py:947: ConvergenceWarning: lbfgs failed to converge. Increase the number of iterations.\n",
            "  \"of iterations.\", ConvergenceWarning)\n",
            "/usr/local/lib/python3.6/dist-packages/sklearn/linear_model/logistic.py:947: ConvergenceWarning: lbfgs failed to converge. Increase the number of iterations.\n",
            "  \"of iterations.\", ConvergenceWarning)\n",
            "/usr/local/lib/python3.6/dist-packages/sklearn/linear_model/logistic.py:947: ConvergenceWarning: lbfgs failed to converge. Increase the number of iterations.\n",
            "  \"of iterations.\", ConvergenceWarning)\n",
            "/usr/local/lib/python3.6/dist-packages/sklearn/linear_model/logistic.py:947: ConvergenceWarning: lbfgs failed to converge. Increase the number of iterations.\n",
            "  \"of iterations.\", ConvergenceWarning)\n",
            "/usr/local/lib/python3.6/dist-packages/sklearn/linear_model/logistic.py:947: ConvergenceWarning: lbfgs failed to converge. Increase the number of iterations.\n",
            "  \"of iterations.\", ConvergenceWarning)\n",
            "/usr/local/lib/python3.6/dist-packages/sklearn/linear_model/logistic.py:947: ConvergenceWarning: lbfgs failed to converge. Increase the number of iterations.\n",
            "  \"of iterations.\", ConvergenceWarning)\n",
            "/usr/local/lib/python3.6/dist-packages/sklearn/linear_model/logistic.py:947: ConvergenceWarning: lbfgs failed to converge. Increase the number of iterations.\n",
            "  \"of iterations.\", ConvergenceWarning)\n",
            "/usr/local/lib/python3.6/dist-packages/sklearn/linear_model/logistic.py:947: ConvergenceWarning: lbfgs failed to converge. Increase the number of iterations.\n",
            "  \"of iterations.\", ConvergenceWarning)\n",
            "/usr/local/lib/python3.6/dist-packages/sklearn/linear_model/logistic.py:947: ConvergenceWarning: lbfgs failed to converge. Increase the number of iterations.\n",
            "  \"of iterations.\", ConvergenceWarning)\n",
            "/usr/local/lib/python3.6/dist-packages/sklearn/linear_model/logistic.py:947: ConvergenceWarning: lbfgs failed to converge. Increase the number of iterations.\n",
            "  \"of iterations.\", ConvergenceWarning)\n",
            "/usr/local/lib/python3.6/dist-packages/sklearn/linear_model/logistic.py:947: ConvergenceWarning: lbfgs failed to converge. Increase the number of iterations.\n",
            "  \"of iterations.\", ConvergenceWarning)\n",
            "/usr/local/lib/python3.6/dist-packages/sklearn/linear_model/logistic.py:947: ConvergenceWarning: lbfgs failed to converge. Increase the number of iterations.\n",
            "  \"of iterations.\", ConvergenceWarning)\n",
            "/usr/local/lib/python3.6/dist-packages/sklearn/linear_model/logistic.py:947: ConvergenceWarning: lbfgs failed to converge. Increase the number of iterations.\n",
            "  \"of iterations.\", ConvergenceWarning)\n",
            "/usr/local/lib/python3.6/dist-packages/sklearn/linear_model/logistic.py:947: ConvergenceWarning: lbfgs failed to converge. Increase the number of iterations.\n",
            "  \"of iterations.\", ConvergenceWarning)\n",
            "/usr/local/lib/python3.6/dist-packages/sklearn/linear_model/logistic.py:947: ConvergenceWarning: lbfgs failed to converge. Increase the number of iterations.\n",
            "  \"of iterations.\", ConvergenceWarning)\n",
            "/usr/local/lib/python3.6/dist-packages/sklearn/linear_model/logistic.py:947: ConvergenceWarning: lbfgs failed to converge. Increase the number of iterations.\n",
            "  \"of iterations.\", ConvergenceWarning)\n",
            "/usr/local/lib/python3.6/dist-packages/sklearn/linear_model/logistic.py:947: ConvergenceWarning: lbfgs failed to converge. Increase the number of iterations.\n",
            "  \"of iterations.\", ConvergenceWarning)\n",
            "/usr/local/lib/python3.6/dist-packages/sklearn/linear_model/logistic.py:947: ConvergenceWarning: lbfgs failed to converge. Increase the number of iterations.\n",
            "  \"of iterations.\", ConvergenceWarning)\n",
            "/usr/local/lib/python3.6/dist-packages/sklearn/linear_model/logistic.py:947: ConvergenceWarning: lbfgs failed to converge. Increase the number of iterations.\n",
            "  \"of iterations.\", ConvergenceWarning)\n",
            "/usr/local/lib/python3.6/dist-packages/sklearn/linear_model/logistic.py:947: ConvergenceWarning: lbfgs failed to converge. Increase the number of iterations.\n",
            "  \"of iterations.\", ConvergenceWarning)\n",
            "/usr/local/lib/python3.6/dist-packages/sklearn/linear_model/logistic.py:947: ConvergenceWarning: lbfgs failed to converge. Increase the number of iterations.\n",
            "  \"of iterations.\", ConvergenceWarning)\n",
            "/usr/local/lib/python3.6/dist-packages/sklearn/linear_model/logistic.py:947: ConvergenceWarning: lbfgs failed to converge. Increase the number of iterations.\n",
            "  \"of iterations.\", ConvergenceWarning)\n",
            "/usr/local/lib/python3.6/dist-packages/sklearn/linear_model/logistic.py:947: ConvergenceWarning: lbfgs failed to converge. Increase the number of iterations.\n",
            "  \"of iterations.\", ConvergenceWarning)\n",
            "/usr/local/lib/python3.6/dist-packages/sklearn/linear_model/logistic.py:947: ConvergenceWarning: lbfgs failed to converge. Increase the number of iterations.\n",
            "  \"of iterations.\", ConvergenceWarning)\n",
            "/usr/local/lib/python3.6/dist-packages/sklearn/linear_model/logistic.py:947: ConvergenceWarning: lbfgs failed to converge. Increase the number of iterations.\n",
            "  \"of iterations.\", ConvergenceWarning)\n",
            "/usr/local/lib/python3.6/dist-packages/sklearn/linear_model/logistic.py:947: ConvergenceWarning: lbfgs failed to converge. Increase the number of iterations.\n",
            "  \"of iterations.\", ConvergenceWarning)\n",
            "/usr/local/lib/python3.6/dist-packages/sklearn/linear_model/logistic.py:947: ConvergenceWarning: lbfgs failed to converge. Increase the number of iterations.\n",
            "  \"of iterations.\", ConvergenceWarning)\n",
            "/usr/local/lib/python3.6/dist-packages/sklearn/linear_model/logistic.py:947: ConvergenceWarning: lbfgs failed to converge. Increase the number of iterations.\n",
            "  \"of iterations.\", ConvergenceWarning)\n",
            "/usr/local/lib/python3.6/dist-packages/sklearn/linear_model/logistic.py:947: ConvergenceWarning: lbfgs failed to converge. Increase the number of iterations.\n",
            "  \"of iterations.\", ConvergenceWarning)\n",
            "/usr/local/lib/python3.6/dist-packages/sklearn/linear_model/logistic.py:947: ConvergenceWarning: lbfgs failed to converge. Increase the number of iterations.\n",
            "  \"of iterations.\", ConvergenceWarning)\n"
          ],
          "name": "stderr"
        },
        {
          "output_type": "execute_result",
          "data": {
            "text/plain": [
              "VotingClassifier(estimators=[('LR',\n",
              "                              LogisticRegression(C=100000.0, class_weight=None,\n",
              "                                                 dual=False, fit_intercept=True,\n",
              "                                                 intercept_scaling=1,\n",
              "                                                 l1_ratio=None, max_iter=750,\n",
              "                                                 multi_class='warn', n_jobs=1,\n",
              "                                                 penalty='l2',\n",
              "                                                 random_state=None,\n",
              "                                                 solver='lbfgs', tol=0.0001,\n",
              "                                                 verbose=0, warm_start=False)),\n",
              "                             ('SGD',\n",
              "                              SGDClassifier(alpha=0.0001, average=False,\n",
              "                                            class_weight=None,\n",
              "                                            early_stop...\n",
              "                                  random_state=None, shrinking=True, tol=0.001,\n",
              "                                  verbose=False)),\n",
              "                             ('LGCV',\n",
              "                              LogisticRegressionCV(Cs=10, class_weight=None,\n",
              "                                                   cv=5, dual=False,\n",
              "                                                   fit_intercept=True,\n",
              "                                                   intercept_scaling=1.0,\n",
              "                                                   l1_ratios=None, max_iter=100,\n",
              "                                                   multi_class='ovr',\n",
              "                                                   n_jobs=None, penalty='l2',\n",
              "                                                   random_state=0, refit=True,\n",
              "                                                   scoring=None, solver='lbfgs',\n",
              "                                                   tol=0.0001, verbose=0))],\n",
              "                 flatten_transform=True, n_jobs=None, voting='soft',\n",
              "                 weights=None)"
            ]
          },
          "metadata": {
            "tags": []
          },
          "execution_count": 39
        }
      ]
    },
    {
      "cell_type": "code",
      "metadata": {
        "id": "TvmxM5LQs2sZ"
      },
      "source": [
        "Y_hard_voting_opn = hard_voting_opn.predict(np.array(X_test_opn))\n",
        "Y_soft_voting_opn = soft_voting_opn.predict(np.array(X_test_opn))"
      ],
      "execution_count": null,
      "outputs": []
    },
    {
      "cell_type": "code",
      "metadata": {
        "id": "WCpDvDx6s6sb",
        "outputId": "38c7353f-3aed-48c9-d30f-dbf2a78a2871",
        "colab": {
          "base_uri": "https://localhost:8080/",
          "height": 54
        }
      },
      "source": [
        "print('Testing accuracy while using Ensemble Model with Hard Voting %s' % accuracy_score(Y_test_opn,Y_hard_voting_opn))\n",
        "print('Testing F1 score while using Ensemble Model with Hard Voting: {}'.format(f1_score(Y_test_opn, Y_hard_voting_opn, average='weighted')))"
      ],
      "execution_count": null,
      "outputs": [
        {
          "output_type": "stream",
          "text": [
            "Testing accuracy while using Ensemble Model with Hard Voting 0.5688259109311741\n",
            "Testing F1 score while using Ensemble Model with Hard Voting: 0.5647015668978038\n"
          ],
          "name": "stdout"
        }
      ]
    },
    {
      "cell_type": "code",
      "metadata": {
        "id": "iJ_40vgms-4C",
        "outputId": "7f145e01-e49b-49b1-abe5-1f54b4aab8cb",
        "colab": {
          "base_uri": "https://localhost:8080/",
          "height": 54
        }
      },
      "source": [
        "print('Testing accuracy while using Ensemble Model with Soft Voting %s' % accuracy_score(Y_test_opn,Y_soft_voting_opn))\n",
        "print('Testing F1 score while using Ensemble Model with S Voting: {}'.format(f1_score(Y_test_opn, Y_soft_voting_opn, average='weighted')))"
      ],
      "execution_count": null,
      "outputs": [
        {
          "output_type": "stream",
          "text": [
            "Testing accuracy while using Ensemble Model with Soft Voting 0.5445344129554656\n",
            "Testing F1 score while using Ensemble Model with S Voting: 0.5285993990883741\n"
          ],
          "name": "stdout"
        }
      ]
    },
    {
      "cell_type": "markdown",
      "metadata": {
        "id": "sCO6WIVdxlsW"
      },
      "source": [
        "**Out of all the models shown above, Ridge Classifier has the best Accuracy and F1-Score, 57.69% and 57.68% respectively. However, for cCon, the State-of-the-Art model has an accuracy of 57.30%. Thus, our model fails to match the SOTA Accuracy, by 4.99%.**"
      ]
    }
  ]
}